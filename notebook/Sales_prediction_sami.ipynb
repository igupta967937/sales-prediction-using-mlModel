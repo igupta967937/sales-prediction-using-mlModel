{
 "cells": [
  {
   "cell_type": "markdown",
   "metadata": {
    "colab_type": "text",
    "id": "KB6TKsFwZZgC"
   },
   "source": [
    "# **Pharmaceutical Sales prediction across multiple stores**"
   ]
  },
  {
   "cell_type": "markdown",
   "metadata": {
    "colab_type": "text",
    "id": "p8xV0oPdYzga"
   },
   "source": [
    "**Forecasting Sales is a essential use of Machine Learning(ML).Sales forecasts can be used to identify benchmarks and determine incremental impacts of new initiatives, plan resources in response to expected demand and project future budgets.**"
   ]
  },
  {
   "cell_type": "markdown",
   "metadata": {
    "colab_type": "text",
    "id": "DMgVyFpBZy2Q"
   },
   "source": [
    "## **Table of contents**\n",
    "     1. Exploring the data and Data Pre-processing\n",
    "     2. Building models with sklearn pipelines\n",
    "     3. Choose a loss function\n",
    "     4. Post Prediction analysis\n",
    "     5. Serialize models"
   ]
  },
  {
   "cell_type": "markdown",
   "metadata": {
    "colab_type": "text",
    "id": "h_8mBZIScTDI"
   },
   "source": [
    " ## **1. Data Preprocessing**"
   ]
  },
  {
   "cell_type": "markdown",
   "metadata": {
    "colab_type": "text",
    "id": "cCD-eDgBck26"
   },
   "source": [
    "  1.1 Importing Libraries"
   ]
  },
  {
   "cell_type": "code",
   "execution_count": 1,
   "metadata": {
    "colab": {},
    "colab_type": "code",
    "id": "uYSkzRZ6XjJ5"
   },
   "outputs": [],
   "source": [
    "#!pip install category_encoders\n",
    "import pandas as pd\n",
    "import seaborn as sns\n",
    "\n",
    "from sklearn.model_selection import train_test_split \n",
    "from sklearn.linear_model import LinearRegression\n",
    "from sklearn.preprocessing import StandardScaler\n",
    "from sklearn.ensemble import RandomForestRegressor\n",
    "from sklearn import preprocessing\n",
    "from sklearn import metrics\n",
    "import numpy as np \n",
    "import matplotlib.pyplot as plt\n",
    "import category_encoders as ce\n",
    "%matplotlib inline\n",
    "import pickle"
   ]
  },
  {
   "cell_type": "code",
   "execution_count": 2,
   "metadata": {
    "colab": {},
    "colab_type": "code",
    "id": "ye1wJKoEXxEJ"
   },
   "outputs": [],
   "source": [
    "train_data=pd.read_csv(r'C:\\Users\\HP\\Desktop\\Projects\\Machine_Hotshots\\notebook\\data\\Output.csv')"
   ]
  },
  {
   "cell_type": "code",
   "execution_count": 3,
   "metadata": {
    "colab": {
     "base_uri": "https://localhost:8080/",
     "height": 241
    },
    "colab_type": "code",
    "id": "KboRAT1wbL-2",
    "outputId": "234e7983-21fb-44c0-bd0f-1fa18bd9f24b"
   },
   "outputs": [
    {
     "data": {
      "text/html": [
       "<div>\n",
       "<style scoped>\n",
       "    .dataframe tbody tr th:only-of-type {\n",
       "        vertical-align: middle;\n",
       "    }\n",
       "\n",
       "    .dataframe tbody tr th {\n",
       "        vertical-align: top;\n",
       "    }\n",
       "\n",
       "    .dataframe thead th {\n",
       "        text-align: right;\n",
       "    }\n",
       "</style>\n",
       "<table border=\"1\" class=\"dataframe\">\n",
       "  <thead>\n",
       "    <tr style=\"text-align: right;\">\n",
       "      <th></th>\n",
       "      <th>Weekdays</th>\n",
       "      <th>Weeks</th>\n",
       "      <th>Months</th>\n",
       "      <th>Store</th>\n",
       "      <th>DayOfWeek</th>\n",
       "      <th>Date</th>\n",
       "      <th>Sales</th>\n",
       "      <th>Customers</th>\n",
       "      <th>Open</th>\n",
       "      <th>Promo</th>\n",
       "      <th>...</th>\n",
       "      <th>Store-1</th>\n",
       "      <th>StoreType</th>\n",
       "      <th>Assortment</th>\n",
       "      <th>CompetitionDistance</th>\n",
       "      <th>CompetitionOpenSinceMonth</th>\n",
       "      <th>CompetitionOpenSinceYear</th>\n",
       "      <th>Promo2</th>\n",
       "      <th>Promo2SinceWeek</th>\n",
       "      <th>Promo2SinceYear</th>\n",
       "      <th>PromoInterval</th>\n",
       "    </tr>\n",
       "  </thead>\n",
       "  <tbody>\n",
       "    <tr>\n",
       "      <th>0</th>\n",
       "      <td>1</td>\n",
       "      <td>23</td>\n",
       "      <td>6</td>\n",
       "      <td>867</td>\n",
       "      <td>3</td>\n",
       "      <td>6/3/2015</td>\n",
       "      <td>5608</td>\n",
       "      <td>469</td>\n",
       "      <td>1</td>\n",
       "      <td>1</td>\n",
       "      <td>...</td>\n",
       "      <td>867</td>\n",
       "      <td>d</td>\n",
       "      <td>c</td>\n",
       "      <td>21810.0</td>\n",
       "      <td>9.0</td>\n",
       "      <td>2012.0</td>\n",
       "      <td>0</td>\n",
       "      <td>NaN</td>\n",
       "      <td>NaN</td>\n",
       "      <td>Jan,Apr,Jul,Oct</td>\n",
       "    </tr>\n",
       "    <tr>\n",
       "      <th>1</th>\n",
       "      <td>1</td>\n",
       "      <td>23</td>\n",
       "      <td>6</td>\n",
       "      <td>868</td>\n",
       "      <td>3</td>\n",
       "      <td>6/3/2015</td>\n",
       "      <td>13500</td>\n",
       "      <td>816</td>\n",
       "      <td>1</td>\n",
       "      <td>1</td>\n",
       "      <td>...</td>\n",
       "      <td>868</td>\n",
       "      <td>d</td>\n",
       "      <td>c</td>\n",
       "      <td>1360.0</td>\n",
       "      <td>8.0</td>\n",
       "      <td>2005.0</td>\n",
       "      <td>1</td>\n",
       "      <td>10.0</td>\n",
       "      <td>2014.0</td>\n",
       "      <td>Jan,Apr,Jul,Oct</td>\n",
       "    </tr>\n",
       "    <tr>\n",
       "      <th>2</th>\n",
       "      <td>1</td>\n",
       "      <td>23</td>\n",
       "      <td>6</td>\n",
       "      <td>869</td>\n",
       "      <td>3</td>\n",
       "      <td>6/3/2015</td>\n",
       "      <td>7007</td>\n",
       "      <td>932</td>\n",
       "      <td>1</td>\n",
       "      <td>1</td>\n",
       "      <td>...</td>\n",
       "      <td>869</td>\n",
       "      <td>c</td>\n",
       "      <td>a</td>\n",
       "      <td>230.0</td>\n",
       "      <td>10.0</td>\n",
       "      <td>2001.0</td>\n",
       "      <td>1</td>\n",
       "      <td>14.0</td>\n",
       "      <td>2011.0</td>\n",
       "      <td>Jan,Apr,Jul,Oct</td>\n",
       "    </tr>\n",
       "    <tr>\n",
       "      <th>3</th>\n",
       "      <td>1</td>\n",
       "      <td>23</td>\n",
       "      <td>6</td>\n",
       "      <td>870</td>\n",
       "      <td>3</td>\n",
       "      <td>6/3/2015</td>\n",
       "      <td>7911</td>\n",
       "      <td>971</td>\n",
       "      <td>1</td>\n",
       "      <td>1</td>\n",
       "      <td>...</td>\n",
       "      <td>870</td>\n",
       "      <td>a</td>\n",
       "      <td>a</td>\n",
       "      <td>780.0</td>\n",
       "      <td>4.0</td>\n",
       "      <td>2009.0</td>\n",
       "      <td>0</td>\n",
       "      <td>NaN</td>\n",
       "      <td>NaN</td>\n",
       "      <td>Jan,Apr,Jul,Oct</td>\n",
       "    </tr>\n",
       "    <tr>\n",
       "      <th>4</th>\n",
       "      <td>1</td>\n",
       "      <td>23</td>\n",
       "      <td>6</td>\n",
       "      <td>871</td>\n",
       "      <td>3</td>\n",
       "      <td>6/3/2015</td>\n",
       "      <td>9198</td>\n",
       "      <td>678</td>\n",
       "      <td>1</td>\n",
       "      <td>1</td>\n",
       "      <td>...</td>\n",
       "      <td>871</td>\n",
       "      <td>d</td>\n",
       "      <td>c</td>\n",
       "      <td>10620.0</td>\n",
       "      <td>NaN</td>\n",
       "      <td>NaN</td>\n",
       "      <td>0</td>\n",
       "      <td>NaN</td>\n",
       "      <td>NaN</td>\n",
       "      <td>Jan,Apr,Jul,Oct</td>\n",
       "    </tr>\n",
       "  </tbody>\n",
       "</table>\n",
       "<p>5 rows × 22 columns</p>\n",
       "</div>"
      ],
      "text/plain": [
       "   Weekdays  Weeks  Months  Store  DayOfWeek      Date  Sales  Customers  \\\n",
       "0         1     23       6    867          3  6/3/2015   5608        469   \n",
       "1         1     23       6    868          3  6/3/2015  13500        816   \n",
       "2         1     23       6    869          3  6/3/2015   7007        932   \n",
       "3         1     23       6    870          3  6/3/2015   7911        971   \n",
       "4         1     23       6    871          3  6/3/2015   9198        678   \n",
       "\n",
       "   Open  Promo  ...  Store-1  StoreType  Assortment CompetitionDistance  \\\n",
       "0     1      1  ...      867          d           c             21810.0   \n",
       "1     1      1  ...      868          d           c              1360.0   \n",
       "2     1      1  ...      869          c           a               230.0   \n",
       "3     1      1  ...      870          a           a               780.0   \n",
       "4     1      1  ...      871          d           c             10620.0   \n",
       "\n",
       "  CompetitionOpenSinceMonth  CompetitionOpenSinceYear  Promo2  \\\n",
       "0                       9.0                    2012.0       0   \n",
       "1                       8.0                    2005.0       1   \n",
       "2                      10.0                    2001.0       1   \n",
       "3                       4.0                    2009.0       0   \n",
       "4                       NaN                       NaN       0   \n",
       "\n",
       "   Promo2SinceWeek  Promo2SinceYear    PromoInterval  \n",
       "0              NaN              NaN  Jan,Apr,Jul,Oct  \n",
       "1             10.0           2014.0  Jan,Apr,Jul,Oct  \n",
       "2             14.0           2011.0  Jan,Apr,Jul,Oct  \n",
       "3              NaN              NaN  Jan,Apr,Jul,Oct  \n",
       "4              NaN              NaN  Jan,Apr,Jul,Oct  \n",
       "\n",
       "[5 rows x 22 columns]"
      ]
     },
     "execution_count": 3,
     "metadata": {},
     "output_type": "execute_result"
    }
   ],
   "source": [
    "train_data.head()"
   ]
  },
  {
   "cell_type": "markdown",
   "metadata": {
    "colab_type": "text",
    "id": "Ap56r3xao4qU"
   },
   "source": [
    "**1.2 Cleansing the Data**\n",
    "\n",
    "   1.2.1 Handling Null values"
   ]
  },
  {
   "cell_type": "code",
   "execution_count": 4,
   "metadata": {
    "colab": {
     "base_uri": "https://localhost:8080/",
     "height": 408
    },
    "colab_type": "code",
    "id": "JcV-G4k5brci",
    "outputId": "ec49f1f1-794c-42ec-f9b4-aef283a6debe"
   },
   "outputs": [
    {
     "data": {
      "text/plain": [
       "Weekdays                          0\n",
       "Weeks                             0\n",
       "Months                            0\n",
       "Store                             0\n",
       "DayOfWeek                         0\n",
       "Date                              0\n",
       "Sales                             0\n",
       "Customers                         0\n",
       "Open                              0\n",
       "Promo                             0\n",
       "StateHoliday                  31050\n",
       "SchoolHoliday                     0\n",
       "Store-1                           0\n",
       "StoreType                         0\n",
       "Assortment                        0\n",
       "CompetitionDistance            2642\n",
       "CompetitionOpenSinceMonth    323348\n",
       "CompetitionOpenSinceYear     323348\n",
       "Promo2                            0\n",
       "Promo2SinceWeek              508031\n",
       "Promo2SinceYear              508031\n",
       "PromoInterval                     0\n",
       "dtype: int64"
      ]
     },
     "execution_count": 4,
     "metadata": {},
     "output_type": "execute_result"
    }
   ],
   "source": [
    "#Checking the no. of NaN values\n",
    "train_data.isna().sum()"
   ]
  },
  {
   "cell_type": "markdown",
   "metadata": {
    "colab_type": "text",
    "id": "JJenGYxjpFPi"
   },
   "source": [
    "1) CompetitionDistance:"
   ]
  },
  {
   "cell_type": "markdown",
   "metadata": {
    "colab_type": "text",
    "id": "Q07X7yjvpTHY"
   },
   "source": [
    "* Before deciding how to treat this,we know there are infinite ways of filling missing values.\n",
    "* The most common and simplistic approach is to fill it with either the mean or the median of this variable.\n",
    "* Let's quickly have a look at those metrics."
   ]
  },
  {
   "cell_type": "code",
   "execution_count": 5,
   "metadata": {
    "colab": {
     "base_uri": "https://localhost:8080/",
     "height": 241
    },
    "colab_type": "code",
    "id": "QtEYhqa7PIyV",
    "outputId": "26c1a286-eab3-4898-d091-d4f78b102e23"
   },
   "outputs": [
    {
     "data": {
      "text/html": [
       "<div>\n",
       "<style scoped>\n",
       "    .dataframe tbody tr th:only-of-type {\n",
       "        vertical-align: middle;\n",
       "    }\n",
       "\n",
       "    .dataframe tbody tr th {\n",
       "        vertical-align: top;\n",
       "    }\n",
       "\n",
       "    .dataframe thead th {\n",
       "        text-align: right;\n",
       "    }\n",
       "</style>\n",
       "<table border=\"1\" class=\"dataframe\">\n",
       "  <thead>\n",
       "    <tr style=\"text-align: right;\">\n",
       "      <th></th>\n",
       "      <th>Weekdays</th>\n",
       "      <th>Weeks</th>\n",
       "      <th>Months</th>\n",
       "      <th>Store</th>\n",
       "      <th>DayOfWeek</th>\n",
       "      <th>Date</th>\n",
       "      <th>Sales</th>\n",
       "      <th>Customers</th>\n",
       "      <th>Open</th>\n",
       "      <th>Promo</th>\n",
       "      <th>...</th>\n",
       "      <th>Store-1</th>\n",
       "      <th>StoreType</th>\n",
       "      <th>Assortment</th>\n",
       "      <th>CompetitionDistance</th>\n",
       "      <th>CompetitionOpenSinceMonth</th>\n",
       "      <th>CompetitionOpenSinceYear</th>\n",
       "      <th>Promo2</th>\n",
       "      <th>Promo2SinceWeek</th>\n",
       "      <th>Promo2SinceYear</th>\n",
       "      <th>PromoInterval</th>\n",
       "    </tr>\n",
       "  </thead>\n",
       "  <tbody>\n",
       "    <tr>\n",
       "      <th>12</th>\n",
       "      <td>1</td>\n",
       "      <td>23</td>\n",
       "      <td>6</td>\n",
       "      <td>879</td>\n",
       "      <td>3</td>\n",
       "      <td>6/3/2015</td>\n",
       "      <td>5155</td>\n",
       "      <td>436</td>\n",
       "      <td>1</td>\n",
       "      <td>1</td>\n",
       "      <td>...</td>\n",
       "      <td>879</td>\n",
       "      <td>d</td>\n",
       "      <td>a</td>\n",
       "      <td>NaN</td>\n",
       "      <td>NaN</td>\n",
       "      <td>NaN</td>\n",
       "      <td>1</td>\n",
       "      <td>5.0</td>\n",
       "      <td>2013.0</td>\n",
       "      <td>Feb,May,Aug,Nov</td>\n",
       "    </tr>\n",
       "    <tr>\n",
       "      <th>411</th>\n",
       "      <td>1</td>\n",
       "      <td>47</td>\n",
       "      <td>11</td>\n",
       "      <td>291</td>\n",
       "      <td>3</td>\n",
       "      <td>11/19/2014</td>\n",
       "      <td>0</td>\n",
       "      <td>0</td>\n",
       "      <td>0</td>\n",
       "      <td>0</td>\n",
       "      <td>...</td>\n",
       "      <td>291</td>\n",
       "      <td>d</td>\n",
       "      <td>a</td>\n",
       "      <td>NaN</td>\n",
       "      <td>NaN</td>\n",
       "      <td>NaN</td>\n",
       "      <td>0</td>\n",
       "      <td>NaN</td>\n",
       "      <td>NaN</td>\n",
       "      <td>Jan,Apr,Jul,Oct</td>\n",
       "    </tr>\n",
       "    <tr>\n",
       "      <th>676</th>\n",
       "      <td>1</td>\n",
       "      <td>23</td>\n",
       "      <td>6</td>\n",
       "      <td>291</td>\n",
       "      <td>2</td>\n",
       "      <td>6/2/2015</td>\n",
       "      <td>9897</td>\n",
       "      <td>973</td>\n",
       "      <td>1</td>\n",
       "      <td>1</td>\n",
       "      <td>...</td>\n",
       "      <td>291</td>\n",
       "      <td>d</td>\n",
       "      <td>a</td>\n",
       "      <td>NaN</td>\n",
       "      <td>NaN</td>\n",
       "      <td>NaN</td>\n",
       "      <td>0</td>\n",
       "      <td>NaN</td>\n",
       "      <td>NaN</td>\n",
       "      <td>Jan,Apr,Jul,Oct</td>\n",
       "    </tr>\n",
       "    <tr>\n",
       "      <th>1007</th>\n",
       "      <td>1</td>\n",
       "      <td>23</td>\n",
       "      <td>6</td>\n",
       "      <td>622</td>\n",
       "      <td>2</td>\n",
       "      <td>6/2/2015</td>\n",
       "      <td>5389</td>\n",
       "      <td>470</td>\n",
       "      <td>1</td>\n",
       "      <td>1</td>\n",
       "      <td>...</td>\n",
       "      <td>622</td>\n",
       "      <td>a</td>\n",
       "      <td>c</td>\n",
       "      <td>NaN</td>\n",
       "      <td>NaN</td>\n",
       "      <td>NaN</td>\n",
       "      <td>0</td>\n",
       "      <td>NaN</td>\n",
       "      <td>NaN</td>\n",
       "      <td>Jan,Apr,Jul,Oct</td>\n",
       "    </tr>\n",
       "    <tr>\n",
       "      <th>1663</th>\n",
       "      <td>1</td>\n",
       "      <td>52</td>\n",
       "      <td>12</td>\n",
       "      <td>291</td>\n",
       "      <td>4</td>\n",
       "      <td>12/25/2014</td>\n",
       "      <td>0</td>\n",
       "      <td>0</td>\n",
       "      <td>0</td>\n",
       "      <td>0</td>\n",
       "      <td>...</td>\n",
       "      <td>291</td>\n",
       "      <td>d</td>\n",
       "      <td>a</td>\n",
       "      <td>NaN</td>\n",
       "      <td>NaN</td>\n",
       "      <td>NaN</td>\n",
       "      <td>0</td>\n",
       "      <td>NaN</td>\n",
       "      <td>NaN</td>\n",
       "      <td>Jan,Apr,Jul,Oct</td>\n",
       "    </tr>\n",
       "  </tbody>\n",
       "</table>\n",
       "<p>5 rows × 22 columns</p>\n",
       "</div>"
      ],
      "text/plain": [
       "      Weekdays  Weeks  Months  Store  DayOfWeek        Date  Sales  Customers  \\\n",
       "12           1     23       6    879          3    6/3/2015   5155        436   \n",
       "411          1     47      11    291          3  11/19/2014      0          0   \n",
       "676          1     23       6    291          2    6/2/2015   9897        973   \n",
       "1007         1     23       6    622          2    6/2/2015   5389        470   \n",
       "1663         1     52      12    291          4  12/25/2014      0          0   \n",
       "\n",
       "      Open  Promo  ...  Store-1  StoreType  Assortment CompetitionDistance  \\\n",
       "12       1      1  ...      879          d           a                 NaN   \n",
       "411      0      0  ...      291          d           a                 NaN   \n",
       "676      1      1  ...      291          d           a                 NaN   \n",
       "1007     1      1  ...      622          a           c                 NaN   \n",
       "1663     0      0  ...      291          d           a                 NaN   \n",
       "\n",
       "     CompetitionOpenSinceMonth  CompetitionOpenSinceYear  Promo2  \\\n",
       "12                         NaN                       NaN       1   \n",
       "411                        NaN                       NaN       0   \n",
       "676                        NaN                       NaN       0   \n",
       "1007                       NaN                       NaN       0   \n",
       "1663                       NaN                       NaN       0   \n",
       "\n",
       "      Promo2SinceWeek  Promo2SinceYear    PromoInterval  \n",
       "12                5.0           2013.0  Feb,May,Aug,Nov  \n",
       "411               NaN              NaN  Jan,Apr,Jul,Oct  \n",
       "676               NaN              NaN  Jan,Apr,Jul,Oct  \n",
       "1007              NaN              NaN  Jan,Apr,Jul,Oct  \n",
       "1663              NaN              NaN  Jan,Apr,Jul,Oct  \n",
       "\n",
       "[5 rows x 22 columns]"
      ]
     },
     "execution_count": 5,
     "metadata": {},
     "output_type": "execute_result"
    }
   ],
   "source": [
    "train_data[pd.isnull(train_data.CompetitionDistance)].head()"
   ]
  },
  {
   "cell_type": "code",
   "execution_count": 6,
   "metadata": {
    "colab": {
     "base_uri": "https://localhost:8080/",
     "height": 241
    },
    "colab_type": "code",
    "id": "iQXZqGnqPIyY",
    "outputId": "a257d025-9d31-46b1-e616-37d209f3a6ba"
   },
   "outputs": [
    {
     "data": {
      "text/html": [
       "<div>\n",
       "<style scoped>\n",
       "    .dataframe tbody tr th:only-of-type {\n",
       "        vertical-align: middle;\n",
       "    }\n",
       "\n",
       "    .dataframe tbody tr th {\n",
       "        vertical-align: top;\n",
       "    }\n",
       "\n",
       "    .dataframe thead th {\n",
       "        text-align: right;\n",
       "    }\n",
       "</style>\n",
       "<table border=\"1\" class=\"dataframe\">\n",
       "  <thead>\n",
       "    <tr style=\"text-align: right;\">\n",
       "      <th></th>\n",
       "      <th>Weekdays</th>\n",
       "      <th>Weeks</th>\n",
       "      <th>Months</th>\n",
       "      <th>Store</th>\n",
       "      <th>DayOfWeek</th>\n",
       "      <th>Date</th>\n",
       "      <th>Sales</th>\n",
       "      <th>Customers</th>\n",
       "      <th>Open</th>\n",
       "      <th>Promo</th>\n",
       "      <th>...</th>\n",
       "      <th>Store-1</th>\n",
       "      <th>StoreType</th>\n",
       "      <th>Assortment</th>\n",
       "      <th>CompetitionDistance</th>\n",
       "      <th>CompetitionOpenSinceMonth</th>\n",
       "      <th>CompetitionOpenSinceYear</th>\n",
       "      <th>Promo2</th>\n",
       "      <th>Promo2SinceWeek</th>\n",
       "      <th>Promo2SinceYear</th>\n",
       "      <th>PromoInterval</th>\n",
       "    </tr>\n",
       "  </thead>\n",
       "  <tbody>\n",
       "    <tr>\n",
       "      <th>0</th>\n",
       "      <td>1</td>\n",
       "      <td>23</td>\n",
       "      <td>6</td>\n",
       "      <td>867</td>\n",
       "      <td>3</td>\n",
       "      <td>6/3/2015</td>\n",
       "      <td>5608</td>\n",
       "      <td>469</td>\n",
       "      <td>1</td>\n",
       "      <td>1</td>\n",
       "      <td>...</td>\n",
       "      <td>867</td>\n",
       "      <td>d</td>\n",
       "      <td>c</td>\n",
       "      <td>21810.0</td>\n",
       "      <td>9.0</td>\n",
       "      <td>2012.0</td>\n",
       "      <td>0</td>\n",
       "      <td>NaN</td>\n",
       "      <td>NaN</td>\n",
       "      <td>Jan,Apr,Jul,Oct</td>\n",
       "    </tr>\n",
       "    <tr>\n",
       "      <th>1</th>\n",
       "      <td>1</td>\n",
       "      <td>23</td>\n",
       "      <td>6</td>\n",
       "      <td>868</td>\n",
       "      <td>3</td>\n",
       "      <td>6/3/2015</td>\n",
       "      <td>13500</td>\n",
       "      <td>816</td>\n",
       "      <td>1</td>\n",
       "      <td>1</td>\n",
       "      <td>...</td>\n",
       "      <td>868</td>\n",
       "      <td>d</td>\n",
       "      <td>c</td>\n",
       "      <td>1360.0</td>\n",
       "      <td>8.0</td>\n",
       "      <td>2005.0</td>\n",
       "      <td>1</td>\n",
       "      <td>10.0</td>\n",
       "      <td>2014.0</td>\n",
       "      <td>Jan,Apr,Jul,Oct</td>\n",
       "    </tr>\n",
       "    <tr>\n",
       "      <th>2</th>\n",
       "      <td>1</td>\n",
       "      <td>23</td>\n",
       "      <td>6</td>\n",
       "      <td>869</td>\n",
       "      <td>3</td>\n",
       "      <td>6/3/2015</td>\n",
       "      <td>7007</td>\n",
       "      <td>932</td>\n",
       "      <td>1</td>\n",
       "      <td>1</td>\n",
       "      <td>...</td>\n",
       "      <td>869</td>\n",
       "      <td>c</td>\n",
       "      <td>a</td>\n",
       "      <td>230.0</td>\n",
       "      <td>10.0</td>\n",
       "      <td>2001.0</td>\n",
       "      <td>1</td>\n",
       "      <td>14.0</td>\n",
       "      <td>2011.0</td>\n",
       "      <td>Jan,Apr,Jul,Oct</td>\n",
       "    </tr>\n",
       "    <tr>\n",
       "      <th>3</th>\n",
       "      <td>1</td>\n",
       "      <td>23</td>\n",
       "      <td>6</td>\n",
       "      <td>870</td>\n",
       "      <td>3</td>\n",
       "      <td>6/3/2015</td>\n",
       "      <td>7911</td>\n",
       "      <td>971</td>\n",
       "      <td>1</td>\n",
       "      <td>1</td>\n",
       "      <td>...</td>\n",
       "      <td>870</td>\n",
       "      <td>a</td>\n",
       "      <td>a</td>\n",
       "      <td>780.0</td>\n",
       "      <td>4.0</td>\n",
       "      <td>2009.0</td>\n",
       "      <td>0</td>\n",
       "      <td>NaN</td>\n",
       "      <td>NaN</td>\n",
       "      <td>Jan,Apr,Jul,Oct</td>\n",
       "    </tr>\n",
       "    <tr>\n",
       "      <th>4</th>\n",
       "      <td>1</td>\n",
       "      <td>23</td>\n",
       "      <td>6</td>\n",
       "      <td>871</td>\n",
       "      <td>3</td>\n",
       "      <td>6/3/2015</td>\n",
       "      <td>9198</td>\n",
       "      <td>678</td>\n",
       "      <td>1</td>\n",
       "      <td>1</td>\n",
       "      <td>...</td>\n",
       "      <td>871</td>\n",
       "      <td>d</td>\n",
       "      <td>c</td>\n",
       "      <td>10620.0</td>\n",
       "      <td>NaN</td>\n",
       "      <td>NaN</td>\n",
       "      <td>0</td>\n",
       "      <td>NaN</td>\n",
       "      <td>NaN</td>\n",
       "      <td>Jan,Apr,Jul,Oct</td>\n",
       "    </tr>\n",
       "  </tbody>\n",
       "</table>\n",
       "<p>5 rows × 22 columns</p>\n",
       "</div>"
      ],
      "text/plain": [
       "   Weekdays  Weeks  Months  Store  DayOfWeek      Date  Sales  Customers  \\\n",
       "0         1     23       6    867          3  6/3/2015   5608        469   \n",
       "1         1     23       6    868          3  6/3/2015  13500        816   \n",
       "2         1     23       6    869          3  6/3/2015   7007        932   \n",
       "3         1     23       6    870          3  6/3/2015   7911        971   \n",
       "4         1     23       6    871          3  6/3/2015   9198        678   \n",
       "\n",
       "   Open  Promo  ...  Store-1  StoreType  Assortment CompetitionDistance  \\\n",
       "0     1      1  ...      867          d           c             21810.0   \n",
       "1     1      1  ...      868          d           c              1360.0   \n",
       "2     1      1  ...      869          c           a               230.0   \n",
       "3     1      1  ...      870          a           a               780.0   \n",
       "4     1      1  ...      871          d           c             10620.0   \n",
       "\n",
       "  CompetitionOpenSinceMonth  CompetitionOpenSinceYear  Promo2  \\\n",
       "0                       9.0                    2012.0       0   \n",
       "1                       8.0                    2005.0       1   \n",
       "2                      10.0                    2001.0       1   \n",
       "3                       4.0                    2009.0       0   \n",
       "4                       NaN                       NaN       0   \n",
       "\n",
       "   Promo2SinceWeek  Promo2SinceYear    PromoInterval  \n",
       "0              NaN              NaN  Jan,Apr,Jul,Oct  \n",
       "1             10.0           2014.0  Jan,Apr,Jul,Oct  \n",
       "2             14.0           2011.0  Jan,Apr,Jul,Oct  \n",
       "3              NaN              NaN  Jan,Apr,Jul,Oct  \n",
       "4              NaN              NaN  Jan,Apr,Jul,Oct  \n",
       "\n",
       "[5 rows x 22 columns]"
      ]
     },
     "execution_count": 6,
     "metadata": {},
     "output_type": "execute_result"
    }
   ],
   "source": [
    "df_store_check_distribution=train_data.drop(train_data[pd.isnull(train_data.CompetitionDistance)].index)\n",
    "df_store_check_distribution.head()"
   ]
  },
  {
   "cell_type": "code",
   "execution_count": 7,
   "metadata": {
    "colab": {
     "base_uri": "https://localhost:8080/",
     "height": 274
    },
    "colab_type": "code",
    "id": "jWFeDzIhcMJA",
    "outputId": "c85e867b-4857-4858-f274-78ac648f9b39"
   },
   "outputs": [
    {
     "data": {
      "text/plain": [
       "{'Mean': 5430.085652302903, 'Median': 2330.0, 'Standard Dev': 7715.31989799512}"
      ]
     },
     "execution_count": 7,
     "metadata": {},
     "output_type": "execute_result"
    },
    {
     "data": {
      "image/png": "[encoded data removed]",
      "text/plain": [
       "<Figure size 1224x252 with 2 Axes>"
      ]
     },
     "metadata": {
      "needs_background": "light"
     },
     "output_type": "display_data"
    }
   ],
   "source": [
    "df_store_check_distribution=train_data.drop(train_data[pd.isnull(train_data.CompetitionDistance)].index)\n",
    "fig, axes = plt.subplots(1, 2, figsize=(17,3.5))\n",
    "axes[0].boxplot(df_store_check_distribution.CompetitionDistance, showmeans=True,vert=False,)\n",
    "axes[0].set_xlim(0,max(df_store_check_distribution.CompetitionDistance+1000))\n",
    "axes[0].set_title('Boxplot For Closest Competition')\n",
    "axes[1].hist(df_store_check_distribution.CompetitionDistance, cumulative=False, bins=30)\n",
    "axes[1].set_title(\"Closest Competition histogram\")\n",
    "axes[1].set_xlim((min(df_store_check_distribution.CompetitionDistance), max(df_store_check_distribution.CompetitionDistance)))\n",
    "{\"Mean\":np.nanmean(train_data.CompetitionDistance),\"Median\":np.nanmedian(train_data.CompetitionDistance),\"Standard Dev\":np.nanstd(train_data.CompetitionDistance)}#That's what i thought, very different values, let's see why "
   ]
  },
  {
   "cell_type": "markdown",
   "metadata": {
    "colab_type": "text",
    "id": "5LSv1t2SqQAQ"
   },
   "source": [
    "We see a highly right skewed distribution for this variable with a significant difference between the mean and the median. This being caused by the amount of disperness in the data with a standard deviation of 7659, higher than the mean and the median."
   ]
  },
  {
   "cell_type": "markdown",
   "metadata": {
    "colab_type": "text",
    "id": "bshxEUK9qUHN"
   },
   "source": [
    "**What do we do then?**\n",
    "\n",
    "It is realistically better to input the median value to the Nan stores then the mean since the mean is biased by those outliers."
   ]
  },
  {
   "cell_type": "code",
   "execution_count": 8,
   "metadata": {
    "colab": {},
    "colab_type": "code",
    "id": "nq23xh3gqgIM"
   },
   "outputs": [],
   "source": [
    "train_data['CompetitionDistance'].fillna(train_data['CompetitionDistance'].median(), inplace = True)"
   ]
  },
  {
   "cell_type": "markdown",
   "metadata": {
    "colab_type": "text",
    "id": "u_oX-suNqru9"
   },
   "source": [
    "2) CompetitionOpenSinceMonth and CompetitionOpenSinceYear?"
   ]
  },
  {
   "cell_type": "markdown",
   "metadata": {
    "colab_type": "text",
    "id": "aXjnEaBTqz6K"
   },
   "source": [
    "* Since we have no information whatsoever on those missing values and no accurate way of filling those values.\n",
    "* A creative way could be to apply a multilabel classification algorithm and train on the non Nan fields and then predict what could be most probably the month and year for those fields. But this approach is computationally too long.\n",
    "* So for this purpose those fields are going to be assigned to 0 ."
   ]
  },
  {
   "cell_type": "code",
   "execution_count": 9,
   "metadata": {
    "colab": {},
    "colab_type": "code",
    "id": "iGzy0D_IrA0-"
   },
   "outputs": [],
   "source": [
    "train_data.CompetitionOpenSinceMonth.fillna(0, inplace = True)\n",
    "train_data.CompetitionOpenSinceYear.fillna(0,inplace=True)"
   ]
  },
  {
   "cell_type": "markdown",
   "metadata": {
    "colab_type": "text",
    "id": "1pcM6ltNrNAU"
   },
   "source": [
    "3) Promo2SinceWeek, Promo2SinceYear and PromoInterval ?\n",
    "\n"
   ]
  },
  {
   "cell_type": "markdown",
   "metadata": {
    "colab_type": "text",
    "id": "M_hh9zNnraOE"
   },
   "source": [
    "* This case is pretty straighforward, all the missing values comes from fields where Promo2=0 which means there are no continuous promotional activities for those stores.\n",
    "* Having no promotion means those fields have to be 0 as well since they are linked to Promo2."
   ]
  },
  {
   "cell_type": "code",
   "execution_count": 10,
   "metadata": {
    "colab": {},
    "colab_type": "code",
    "id": "Wf1cIqV9reoy"
   },
   "outputs": [],
   "source": [
    "train_data.Promo2SinceWeek.fillna(0,inplace=True)\n",
    "train_data.Promo2SinceYear.fillna(0,inplace=True)\n",
    "train_data.PromoInterval.fillna(0,inplace=True)\n"
   ]
  },
  {
   "cell_type": "markdown",
   "metadata": {
    "colab_type": "text",
    "id": "jYPapWS6r4mk"
   },
   "source": [
    "4) StateHoliday"
   ]
  },
  {
   "cell_type": "code",
   "execution_count": 11,
   "metadata": {
    "colab": {},
    "colab_type": "code",
    "id": "NIaWtE4wsKiu"
   },
   "outputs": [],
   "source": [
    "train_data.StateHoliday.fillna(0,inplace=True)"
   ]
  },
  {
   "cell_type": "code",
   "execution_count": 12,
   "metadata": {
    "colab": {
     "base_uri": "https://localhost:8080/",
     "height": 408
    },
    "colab_type": "code",
    "id": "tY6h1tSMrux7",
    "outputId": "d2d76a31-534b-41f6-f032-62138a78f014"
   },
   "outputs": [
    {
     "data": {
      "text/plain": [
       "Weekdays                     100.0\n",
       "Weeks                        100.0\n",
       "Months                       100.0\n",
       "Store                        100.0\n",
       "DayOfWeek                    100.0\n",
       "Date                         100.0\n",
       "Sales                        100.0\n",
       "Customers                    100.0\n",
       "Open                         100.0\n",
       "Promo                        100.0\n",
       "StateHoliday                 100.0\n",
       "SchoolHoliday                100.0\n",
       "Store-1                      100.0\n",
       "StoreType                    100.0\n",
       "Assortment                   100.0\n",
       "CompetitionDistance          100.0\n",
       "CompetitionOpenSinceMonth    100.0\n",
       "CompetitionOpenSinceYear     100.0\n",
       "Promo2                       100.0\n",
       "Promo2SinceWeek              100.0\n",
       "Promo2SinceYear              100.0\n",
       "PromoInterval                100.0\n",
       "dtype: float64"
      ]
     },
     "execution_count": 12,
     "metadata": {},
     "output_type": "execute_result"
    }
   ],
   "source": [
    "train_data.count(0)/train_data.shape[0] * 100"
   ]
  },
  {
   "cell_type": "markdown",
   "metadata": {
    "colab_type": "text",
    "id": "ArXrlXqDsbmz"
   },
   "source": [
    "**Now all the null values are imputed**"
   ]
  },
  {
   "cell_type": "markdown",
   "metadata": {},
   "source": [
    "**1.3 Exploratory Data Analysis**\n",
    "\n",
    "\n",
    "This is an exploratory analysis of data gotten from Rossmann pharmaceuticals. The data highlights the different stores their types and assortments, details of sales per store, different promos each store runs, customer distribution and so on. \n",
    "\n",
    "A careful exploration of the data encapsulates checking all available features, checking their interactions and correlation as well as their variability with respect to the target variable (Sales). \n",
    "\n",
    "From exploring these data we want to determine possible trends and behavior in accordance to different period within the year, sales and customer behavior in the various stores. The goal is to check how some measures such as promos and opening of new stores affect purchasing behavior."
   ]
  },
  {
   "cell_type": "code",
   "execution_count": 13,
   "metadata": {},
   "outputs": [],
   "source": [
    "train_data['Date'] = pd.to_datetime(train_data['Date'])"
   ]
  },
  {
   "cell_type": "code",
   "execution_count": 28,
   "metadata": {},
   "outputs": [
    {
     "data": {
      "text/html": [
       "<div>\n",
       "<style scoped>\n",
       "    .dataframe tbody tr th:only-of-type {\n",
       "        vertical-align: middle;\n",
       "    }\n",
       "\n",
       "    .dataframe tbody tr th {\n",
       "        vertical-align: top;\n",
       "    }\n",
       "\n",
       "    .dataframe thead th {\n",
       "        text-align: right;\n",
       "    }\n",
       "</style>\n",
       "<table border=\"1\" class=\"dataframe\">\n",
       "  <thead>\n",
       "    <tr style=\"text-align: right;\">\n",
       "      <th></th>\n",
       "      <th>Id</th>\n",
       "      <th>Store</th>\n",
       "      <th>DayOfWeek</th>\n",
       "      <th>Date</th>\n",
       "      <th>Open</th>\n",
       "      <th>Promo</th>\n",
       "      <th>StateHoliday</th>\n",
       "      <th>SchoolHoliday</th>\n",
       "      <th>Months</th>\n",
       "      <th>Year</th>\n",
       "      <th>week</th>\n",
       "      <th>weekday</th>\n",
       "      <th>StoreType</th>\n",
       "      <th>Assortment</th>\n",
       "      <th>CompetitionDistance</th>\n",
       "      <th>Promo2</th>\n",
       "      <th>Promo2SinceWeek</th>\n",
       "      <th>Promo2SinceYear</th>\n",
       "      <th>PromoInterval</th>\n",
       "      <th>CompetitionOpenSince</th>\n",
       "    </tr>\n",
       "  </thead>\n",
       "  <tbody>\n",
       "    <tr>\n",
       "      <th>0</th>\n",
       "      <td>1</td>\n",
       "      <td>1</td>\n",
       "      <td>4</td>\n",
       "      <td>2015-09-17</td>\n",
       "      <td>1.0</td>\n",
       "      <td>1</td>\n",
       "      <td>0</td>\n",
       "      <td>0</td>\n",
       "      <td>9</td>\n",
       "      <td>2015</td>\n",
       "      <td>38</td>\n",
       "      <td>3</td>\n",
       "      <td>c</td>\n",
       "      <td>a</td>\n",
       "      <td>1270.0</td>\n",
       "      <td>0</td>\n",
       "      <td>0.0</td>\n",
       "      <td>0.0</td>\n",
       "      <td>0</td>\n",
       "      <td>84.0</td>\n",
       "    </tr>\n",
       "    <tr>\n",
       "      <th>1</th>\n",
       "      <td>2</td>\n",
       "      <td>3</td>\n",
       "      <td>4</td>\n",
       "      <td>2015-09-17</td>\n",
       "      <td>1.0</td>\n",
       "      <td>1</td>\n",
       "      <td>0</td>\n",
       "      <td>0</td>\n",
       "      <td>9</td>\n",
       "      <td>2015</td>\n",
       "      <td>38</td>\n",
       "      <td>3</td>\n",
       "      <td>a</td>\n",
       "      <td>a</td>\n",
       "      <td>14130.0</td>\n",
       "      <td>1</td>\n",
       "      <td>14.0</td>\n",
       "      <td>2011.0</td>\n",
       "      <td>Jan,Apr,Jul,Oct</td>\n",
       "      <td>105.0</td>\n",
       "    </tr>\n",
       "    <tr>\n",
       "      <th>2</th>\n",
       "      <td>3</td>\n",
       "      <td>7</td>\n",
       "      <td>4</td>\n",
       "      <td>2015-09-17</td>\n",
       "      <td>1.0</td>\n",
       "      <td>1</td>\n",
       "      <td>0</td>\n",
       "      <td>0</td>\n",
       "      <td>9</td>\n",
       "      <td>2015</td>\n",
       "      <td>38</td>\n",
       "      <td>3</td>\n",
       "      <td>a</td>\n",
       "      <td>c</td>\n",
       "      <td>24000.0</td>\n",
       "      <td>0</td>\n",
       "      <td>0.0</td>\n",
       "      <td>0.0</td>\n",
       "      <td>0</td>\n",
       "      <td>29.0</td>\n",
       "    </tr>\n",
       "    <tr>\n",
       "      <th>3</th>\n",
       "      <td>4</td>\n",
       "      <td>8</td>\n",
       "      <td>4</td>\n",
       "      <td>2015-09-17</td>\n",
       "      <td>1.0</td>\n",
       "      <td>1</td>\n",
       "      <td>0</td>\n",
       "      <td>0</td>\n",
       "      <td>9</td>\n",
       "      <td>2015</td>\n",
       "      <td>38</td>\n",
       "      <td>3</td>\n",
       "      <td>a</td>\n",
       "      <td>a</td>\n",
       "      <td>7520.0</td>\n",
       "      <td>0</td>\n",
       "      <td>0.0</td>\n",
       "      <td>0.0</td>\n",
       "      <td>0</td>\n",
       "      <td>11.0</td>\n",
       "    </tr>\n",
       "    <tr>\n",
       "      <th>4</th>\n",
       "      <td>5</td>\n",
       "      <td>9</td>\n",
       "      <td>4</td>\n",
       "      <td>2015-09-17</td>\n",
       "      <td>1.0</td>\n",
       "      <td>1</td>\n",
       "      <td>0</td>\n",
       "      <td>0</td>\n",
       "      <td>9</td>\n",
       "      <td>2015</td>\n",
       "      <td>38</td>\n",
       "      <td>3</td>\n",
       "      <td>a</td>\n",
       "      <td>c</td>\n",
       "      <td>2030.0</td>\n",
       "      <td>0</td>\n",
       "      <td>0.0</td>\n",
       "      <td>0.0</td>\n",
       "      <td>0</td>\n",
       "      <td>181.0</td>\n",
       "    </tr>\n",
       "  </tbody>\n",
       "</table>\n",
       "</div>"
      ],
      "text/plain": [
       "   Id  Store  DayOfWeek       Date  Open  Promo StateHoliday  SchoolHoliday  \\\n",
       "0   1      1          4 2015-09-17   1.0      1            0              0   \n",
       "1   2      3          4 2015-09-17   1.0      1            0              0   \n",
       "2   3      7          4 2015-09-17   1.0      1            0              0   \n",
       "3   4      8          4 2015-09-17   1.0      1            0              0   \n",
       "4   5      9          4 2015-09-17   1.0      1            0              0   \n",
       "\n",
       "   Months  Year  week  weekday StoreType Assortment  CompetitionDistance  \\\n",
       "0       9  2015    38        3         c          a               1270.0   \n",
       "1       9  2015    38        3         a          a              14130.0   \n",
       "2       9  2015    38        3         a          c              24000.0   \n",
       "3       9  2015    38        3         a          a               7520.0   \n",
       "4       9  2015    38        3         a          c               2030.0   \n",
       "\n",
       "   Promo2  Promo2SinceWeek  Promo2SinceYear    PromoInterval  \\\n",
       "0       0              0.0              0.0                0   \n",
       "1       1             14.0           2011.0  Jan,Apr,Jul,Oct   \n",
       "2       0              0.0              0.0                0   \n",
       "3       0              0.0              0.0                0   \n",
       "4       0              0.0              0.0                0   \n",
       "\n",
       "   CompetitionOpenSince  \n",
       "0                  84.0  \n",
       "1                 105.0  \n",
       "2                  29.0  \n",
       "3                  11.0  \n",
       "4                 181.0  "
      ]
     },
     "execution_count": 28,
     "metadata": {},
     "output_type": "execute_result"
    }
   ],
   "source": [
    "test_data.head()"
   ]
  },
  {
   "cell_type": "code",
   "execution_count": 30,
   "metadata": {},
   "outputs": [
    {
     "name": "stdout",
     "output_type": "stream",
     "text": [
      "0.4434871495327103\n",
      "0.17864666946517382\n"
     ]
    }
   ],
   "source": [
    "\n",
    "test_data['SchoolHoliday'].sum()\n",
    "test_data['SchoolHoliday'].count()\n",
    "percent_school = test_data['SchoolHoliday'].sum()/test_data['SchoolHoliday'].count() #percentage of school holdays in test set\n",
    "print(percent_school)\n",
    "\n",
    "train_data['SchoolHoliday'].sum()\n",
    "train_data['SchoolHoliday'].count()\n",
    "percent_train_school = train_data['SchoolHoliday'].sum()/train_data['SchoolHoliday'].count() #percentage of school holdays in test set\n",
    "print(percent_train_school)"
   ]
  },
  {
   "cell_type": "code",
   "execution_count": 31,
   "metadata": {},
   "outputs": [
    {
     "data": {
      "image/png": "[encoded data removed]",
      "text/plain": [
       "<Figure size 360x360 with 1 Axes>"
      ]
     },
     "metadata": {
      "needs_background": "light"
     },
     "output_type": "display_data"
    },
    {
     "data": {
      "image/png": "[encoded data removed]",
      "text/plain": [
       "<Figure size 360x360 with 1 Axes>"
      ]
     },
     "metadata": {
      "needs_background": "light"
     },
     "output_type": "display_data"
    }
   ],
   "source": [
    "sns.catplot(x='SchoolHoliday', data = test_data, kind='count')\n",
    "plt.title('Schoolholidays for test set')\n",
    "sns.catplot(x='SchoolHoliday', data = train_data, kind='count')\n",
    "plt.title('Schoolholidays for train set')\n",
    "\n",
    "plt.show()"
   ]
  },
  {
   "cell_type": "markdown",
   "metadata": {},
   "source": [
    "During the test period there are no Easter or Christmas holidays but interestingly during 44% of the time there are school holidays, which means the stores were closed while that is the case for only 18% of the train data."
   ]
  },
  {
   "cell_type": "code",
   "execution_count": 32,
   "metadata": {},
   "outputs": [
    {
     "data": {
      "text/html": [
       "<div>\n",
       "<style scoped>\n",
       "    .dataframe tbody tr th:only-of-type {\n",
       "        vertical-align: middle;\n",
       "    }\n",
       "\n",
       "    .dataframe tbody tr th {\n",
       "        vertical-align: top;\n",
       "    }\n",
       "\n",
       "    .dataframe thead th {\n",
       "        text-align: right;\n",
       "    }\n",
       "</style>\n",
       "<table border=\"1\" class=\"dataframe\">\n",
       "  <thead>\n",
       "    <tr style=\"text-align: right;\">\n",
       "      <th></th>\n",
       "      <th>Sales</th>\n",
       "    </tr>\n",
       "    <tr>\n",
       "      <th>Date</th>\n",
       "      <th></th>\n",
       "    </tr>\n",
       "  </thead>\n",
       "  <tbody>\n",
       "    <tr>\n",
       "      <th>2015-06-03</th>\n",
       "      <td>5608</td>\n",
       "    </tr>\n",
       "    <tr>\n",
       "      <th>2015-06-03</th>\n",
       "      <td>13500</td>\n",
       "    </tr>\n",
       "    <tr>\n",
       "      <th>2015-06-03</th>\n",
       "      <td>7007</td>\n",
       "    </tr>\n",
       "    <tr>\n",
       "      <th>2015-06-03</th>\n",
       "      <td>7911</td>\n",
       "    </tr>\n",
       "    <tr>\n",
       "      <th>2015-06-03</th>\n",
       "      <td>9198</td>\n",
       "    </tr>\n",
       "  </tbody>\n",
       "</table>\n",
       "</div>"
      ],
      "text/plain": [
       "            Sales\n",
       "Date             \n",
       "2015-06-03   5608\n",
       "2015-06-03  13500\n",
       "2015-06-03   7007\n",
       "2015-06-03   7911\n",
       "2015-06-03   9198"
      ]
     },
     "execution_count": 32,
     "metadata": {},
     "output_type": "execute_result"
    }
   ],
   "source": [
    "time_series = train_data[[\"Date\", \"Sales\"]]\n",
    "time_series = time_series.set_index('Date')\n",
    "time_series.head()\n"
   ]
  },
  {
   "cell_type": "code",
   "execution_count": 33,
   "metadata": {},
   "outputs": [
    {
     "data": {
      "image/png": "[encoded data removed]",
      "text/plain": [
       "<Figure size 1440x720 with 1 Axes>"
      ]
     },
     "metadata": {
      "needs_background": "light"
     },
     "output_type": "display_data"
    },
    {
     "data": {
      "image/png": "[encoded data removed]",
      "text/plain": [
       "<Figure size 1440x504 with 1 Axes>"
      ]
     },
     "metadata": {
      "needs_background": "light"
     },
     "output_type": "display_data"
    },
    {
     "data": {
      "image/png": "[encoded data removed]",
      "text/plain": [
       "<Figure size 1440x504 with 1 Axes>"
      ]
     },
     "metadata": {
      "needs_background": "light"
     },
     "output_type": "display_data"
    }
   ],
   "source": [
    "time_series_week = time_series.resample('W').mean()\n",
    "time_series_week.plot(figsize=(20,10))\n",
    "time_series_week.loc['2013-07':'2014-03'].plot(figsize=(20,7)) \n",
    "time_series_week.loc['2014-07':'2015-03'].plot(figsize=(20,7))\n",
    "\n",
    "plt.show()"
   ]
  },
  {
   "cell_type": "markdown",
   "metadata": {},
   "source": [
    "By considering sales during, before and after holiday periods, we can determine which time of the year stores make most sales. Taking into consideration one of the most festive period of the year, Christmas, I checked for trends between July of previous year  and March of new year.From above, it seen that the sales increases drastically during festive period (Christmas) but it is relatively constant during other periods of the year. This can also be an indicator to purchase behavior of customers at different periods within the year"
   ]
  },
  {
   "cell_type": "code",
   "execution_count": 34,
   "metadata": {},
   "outputs": [
    {
     "name": "stdout",
     "output_type": "stream",
     "text": [
      "              Sales  Customers\n",
      "Sales      1.000000   0.894711\n",
      "Customers  0.894711   1.000000\n"
     ]
    },
    {
     "data": {
      "image/png": "[encoded data removed]",
      "text/plain": [
       "<Figure size 432x288 with 2 Axes>"
      ]
     },
     "metadata": {
      "needs_background": "light"
     },
     "output_type": "display_data"
    },
    {
     "name": "stdout",
     "output_type": "stream",
     "text": [
      "             sum\n",
      "Promo           \n",
      "1      318263948\n",
      "0      325777807\n"
     ]
    }
   ],
   "source": [
    "corrMatrix = train_data[[\"Sales\",\"Customers\"]].corr()\n",
    "print (corrMatrix)\n",
    "\n",
    "\n",
    "#correlation heatmap\n",
    "sns.heatmap(corrMatrix, annot=True)\n",
    "plt.show()\n",
    "\n",
    "\n",
    "print(train_data.groupby(['Promo'], sort=False)['Customers'].agg(['sum']))"
   ]
  },
  {
   "cell_type": "code",
   "execution_count": 35,
   "metadata": {},
   "outputs": [
    {
     "data": {
      "image/png": "[encoded data removed]",
      "text/plain": [
       "<Figure size 360x360 with 1 Axes>"
      ]
     },
     "metadata": {
      "needs_background": "light"
     },
     "output_type": "display_data"
    },
    {
     "name": "stdout",
     "output_type": "stream",
     "text": [
      "              sum\n",
      "Promo            \n",
      "1      3101206286\n",
      "0      2771974337\n"
     ]
    }
   ],
   "source": [
    "#relationship between promo and sales\n",
    "sns.catplot(x='Promo', y='Sales', data = train_data, kind='bar')\n",
    "plt.title(\"relationship between promo and sales\")\n",
    "plt.show()\n",
    "\n",
    "print(train_data.groupby(['Promo'], sort=False)['Sales'].agg(['sum']))"
   ]
  },
  {
   "cell_type": "markdown",
   "metadata": {},
   "source": [
    "As it is expected, there is a strong positive correlation between sales and customers indicating that higher customers lead to more sales. Promo leads to higher sales but do not  necessarily mean increase in customers from as seen from the table below that when there are no promo (‘0’) the number of customers are higher."
   ]
  },
  {
   "cell_type": "code",
   "execution_count": 36,
   "metadata": {},
   "outputs": [],
   "source": [
    "#Adding salespercustomer column\n",
    "train_data['SalesperCustomer']=train_data['Sales']/train_data['Customers']"
   ]
  },
  {
   "cell_type": "markdown",
   "metadata": {},
   "source": [
    "To asses the performance of a store type, we have made visualizations to see the sales per customer and we get the store that makes its customers spend the most on average.\n",
    "\n",
    "Let's compare first the total sales of each store type, its average sales and then see how it changes when we add the customers to the equation"
   ]
  },
  {
   "cell_type": "code",
   "execution_count": 37,
   "metadata": {},
   "outputs": [
    {
     "data": {
      "image/png": "[encoded data removed]",
      "text/plain": [
       "<Figure size 1224x720 with 6 Axes>"
      ]
     },
     "metadata": {
      "needs_background": "light"
     },
     "output_type": "display_data"
    }
   ],
   "source": [
    "import itertools\n",
    "fig, axes = plt.subplots(2, 3,figsize=(17,10) )\n",
    "palette = itertools.cycle(sns.color_palette(n_colors=4))\n",
    "plt.subplots_adjust(hspace = 0.28)\n",
    "\n",
    "axes[0,0].bar(train_data.groupby(by=\"StoreType\").count().Store.index,train_data.groupby(by=\"StoreType\").count().Store,color=[next(palette),next(palette),next(palette),next(palette)])\n",
    "axes[0,0].set_title(\"Number of Stores per Store Type \\n Fig 1.1\")\n",
    "axes[0,1].bar(train_data.groupby(by=\"StoreType\").sum().Sales.index,train_data.groupby(by=\"StoreType\").sum().Sales/1e9,color=[next(palette),next(palette),next(palette),next(palette)])\n",
    "axes[0,1].set_title(\"Total Sales per Store Type (in Billions) \\n Fig 1.2\")\n",
    "axes[0,2].bar(train_data.groupby(by=\"StoreType\").sum().Customers.index,train_data.groupby(by=\"StoreType\").sum().Customers/1e6,color=[next(palette),next(palette),next(palette),next(palette)])\n",
    "axes[0,2].set_title(\"Total Number of Customers per Store Type (in Millions) \\n Fig 1.3\")\n",
    "axes[1,0].bar(train_data.groupby(by=\"StoreType\").sum().Customers.index,train_data.groupby(by=\"StoreType\").Sales.mean(),color=[next(palette),next(palette),next(palette),next(palette)])\n",
    "axes[1,0].set_title(\"Average Sales per Store Type \\n Fig 1.4\")\n",
    "axes[1,1].bar(train_data.groupby(by=\"StoreType\").sum().Customers.index,train_data.groupby(by=\"StoreType\").Customers.mean(),color=[next(palette),next(palette),next(palette),next(palette)])\n",
    "axes[1,1].set_title(\"Average Number of Customers per Store Type \\n Fig 1.5\")\n",
    "axes[1,2].bar(train_data.groupby(by=\"StoreType\").sum().Sales.index,train_data.groupby(by=\"StoreType\").SalesperCustomer.mean(),color=[next(palette),next(palette),next(palette),next(palette)])\n",
    "axes[1,2].set_title(\"Average Spending per Customer in each Store Type \\n Fig 1.6\")\n",
    "plt.show()"
   ]
  },
  {
   "cell_type": "markdown",
   "metadata": {},
   "source": [
    "Findings:\n",
    "\n",
    "From this training set we can see that Storetype A has the highest number of branches,sales and customers from the 4 different storetypes. But this doesn't mean it's the best performing Storetype.\n",
    "\n",
    "When looking at the average sales and number of customers, we see that actually it is Storetype B who was the highest average Sales and highest average Number of Customers. One assumption could be that if B has only 17 stores but such a high amount of average sales and customers that it is likely hyper Rossman branches whereas A would be smaller in size but much more present.\n",
    "\n",
    "Surprisingly it is StoreType D who has the highest average spending per Customer, this is probably explained by an average competition distance higher than ther rest which means each customer will buy more since he knows there isn't a lot of similair shops around"
   ]
  },
  {
   "cell_type": "code",
   "execution_count": 38,
   "metadata": {},
   "outputs": [
    {
     "data": {
      "text/plain": [
       "StoreType  Assortment\n",
       "a          a             346389\n",
       "           c             205238\n",
       "b          a               6594\n",
       "           b               8294\n",
       "           c                942\n",
       "c          a              70878\n",
       "           c              65962\n",
       "d          a             113584\n",
       "           c             199328\n",
       "Name: Assortment, dtype: int64"
      ]
     },
     "execution_count": 38,
     "metadata": {},
     "output_type": "execute_result"
    },
    {
     "data": {
      "image/png": "[encoded data removed]",
      "text/plain": [
       "<Figure size 432x288 with 1 Axes>"
      ]
     },
     "metadata": {
      "needs_background": "light"
     },
     "output_type": "display_data"
    }
   ],
   "source": [
    "StoretypeXAssortment = sns.countplot(x=\"StoreType\",hue=\"Assortment\",order=[\"a\",\"b\",\"c\",\"d\"], data=train_data,palette=sns.color_palette(\"Set2\", n_colors=3)).set_title(\"Number of Different Assortments per Store Type\")\n",
    "train_data.groupby(by=[\"StoreType\",\"Assortment\"]).Assortment.count()"
   ]
  },
  {
   "cell_type": "markdown",
   "metadata": {},
   "source": [
    "We can clearly see here that most of the stores have either a assortment type or c assortment type.\n",
    "Interestingly enough StoreType d which has the highest Sales per customer average actually has mostly c assortment type, this is most probably the reason for having this high average in Sales per customer.Having variery in stores always increases the customers spending pattern.\n",
    "Another important factor here is the fact that store type b is the only one who has the b assortment type and a lot of them actually which stands for \"extra\" and by looking at fig 1.4 and 1.5 he's the one who has the highest number of customers and sales. Probably this formula of extra is the right middlepoint for customers between not too much variety like C assortment and not too basic like A assortment and this is what is driving the high traffic in this store."
   ]
  },
  {
   "cell_type": "markdown",
   "metadata": {
    "colab_type": "text",
    "id": "5P_4OuY5tE_0"
   },
   "source": [
    "**1.4 Handling Outliers**"
   ]
  },
  {
   "cell_type": "code",
   "execution_count": 39,
   "metadata": {
    "colab": {
     "base_uri": "https://localhost:8080/",
     "height": 628
    },
    "colab_type": "code",
    "id": "agV3gp5LtgzU",
    "outputId": "86e5469d-320b-4133-89d1-cb0edb074045"
   },
   "outputs": [
    {
     "data": {
      "text/plain": [
       "<matplotlib.axes._subplots.AxesSubplot at 0x2cd9502d550>"
      ]
     },
     "execution_count": 39,
     "metadata": {},
     "output_type": "execute_result"
    },
    {
     "data": {
      "image/png": "[encoded data removed]",
      "text/plain": [
       "<Figure size 360x720 with 1 Axes>"
      ]
     },
     "metadata": {
      "needs_background": "light"
     },
     "output_type": "display_data"
    }
   ],
   "source": [
    "#Find the range of data\n",
    "plt.figure(figsize=(5,10))\n",
    "sns.set(style=\"whitegrid\")\n",
    "sns.distplot(train_data[\"Sales\"])"
   ]
  },
  {
   "cell_type": "code",
   "execution_count": 40,
   "metadata": {
    "colab": {
     "base_uri": "https://localhost:8080/",
     "height": 628
    },
    "colab_type": "code",
    "id": "-t7mbdw_tl9b",
    "outputId": "f68f18dd-90d1-46f5-836e-493798f24e3a"
   },
   "outputs": [
    {
     "data": {
      "text/plain": [
       "<matplotlib.axes._subplots.AxesSubplot at 0x2cd9554ef60>"
      ]
     },
     "execution_count": 40,
     "metadata": {},
     "output_type": "execute_result"
    },
    {
     "data": {
      "image/png": "[encoded data removed]",
      "text/plain": [
       "<Figure size 360x720 with 1 Axes>"
      ]
     },
     "metadata": {},
     "output_type": "display_data"
    }
   ],
   "source": [
    "#Find the range of the data\n",
    "plt.figure(figsize=(5,10))\n",
    "sns.set(style=\"whitegrid\")\n",
    "sns.distplot(train_data[\"Customers\"])"
   ]
  },
  {
   "cell_type": "code",
   "execution_count": 41,
   "metadata": {
    "colab": {
     "base_uri": "https://localhost:8080/",
     "height": 628
    },
    "colab_type": "code",
    "id": "nUoUhoE6tuT7",
    "outputId": "40309aa8-b957-4ec0-e445-c606b7d17170"
   },
   "outputs": [
    {
     "data": {
      "text/plain": [
       "<matplotlib.axes._subplots.AxesSubplot at 0x2cd97340b38>"
      ]
     },
     "execution_count": 41,
     "metadata": {},
     "output_type": "execute_result"
    },
    {
     "data": {
      "image/png": "[encoded data removed]",
      "text/plain": [
       "<Figure size 720x720 with 1 Axes>"
      ]
     },
     "metadata": {},
     "output_type": "display_data"
    }
   ],
   "source": [
    "plt.figure(figsize=(10,10))\n",
    "sns.set(style=\"whitegrid\")\n",
    "sns.boxenplot(data=train_data,scale=\"linear\",x=\"DayOfWeek\",y=\"Sales\",color=\"Black\")"
   ]
  },
  {
   "cell_type": "code",
   "execution_count": 42,
   "metadata": {
    "colab": {
     "base_uri": "https://localhost:8080/",
     "height": 628
    },
    "colab_type": "code",
    "id": "RRIikKOmt78o",
    "outputId": "a3053d00-72e9-4263-ca27-2c0a9bb5ddb9"
   },
   "outputs": [
    {
     "data": {
      "text/plain": [
       "<matplotlib.axes._subplots.AxesSubplot at 0x2cd96e1f160>"
      ]
     },
     "execution_count": 42,
     "metadata": {},
     "output_type": "execute_result"
    },
    {
     "data": {
      "image/png": "[encoded data removed]",
      "text/plain": [
       "<Figure size 720x720 with 1 Axes>"
      ]
     },
     "metadata": {},
     "output_type": "display_data"
    }
   ],
   "source": [
    "plt.figure(figsize=(10,10))\n",
    "sns.set(style=\"whitegrid\")\n",
    "sns.boxenplot(y=\"Customers\", x=\"DayOfWeek\",data=train_data, scale=\"linear\",color=\"Green\")"
   ]
  },
  {
   "cell_type": "markdown",
   "metadata": {
    "colab_type": "text",
    "id": "wE2kCjhYuHUx"
   },
   "source": [
    "This data, contains many outliers, but these might have been caused to the surge of customers during a festival or Holiday, or due to an effective promo. \n",
    "Below we are handle the outliers"
   ]
  },
  {
   "cell_type": "code",
   "execution_count": 43,
   "metadata": {
    "colab": {},
    "colab_type": "code",
    "id": "AAp8e610ukeA"
   },
   "outputs": [],
   "source": [
    "#Treating the outliers \n",
    "  # a function for replacing outliers with the median, used when there's too many outliers in a feature\n",
    "def replace_outlier_with_median(dataFrame, feature):\n",
    "    Q1 = dataFrame[feature].quantile(0.25)\n",
    "    Q3 = dataFrame[feature].quantile(0.75)\n",
    "    median = dataFrame[feature].quantile(0.50)\n",
    "\n",
    "    IQR = Q3 - Q1\n",
    "\n",
    "    upper_whisker = Q3 + (1.5 * IQR)\n",
    "    lower_whisker = Q1 - (1.5 * IQR)\n",
    "\n",
    "    dataFrame[feature] = np.where(dataFrame[feature] > upper_whisker, median, dataFrame[feature])\n",
    "    dataFrame[feature] = np.where(dataFrame[feature] < lower_whisker, median, dataFrame[feature])"
   ]
  },
  {
   "cell_type": "code",
   "execution_count": 44,
   "metadata": {
    "colab": {},
    "colab_type": "code",
    "id": "lI_mb8M3uzrF"
   },
   "outputs": [],
   "source": [
    "replace_outlier_with_median(train_data, 'Sales')"
   ]
  },
  {
   "cell_type": "code",
   "execution_count": 45,
   "metadata": {
    "colab": {},
    "colab_type": "code",
    "id": "iKUXqziJvB0n"
   },
   "outputs": [],
   "source": [
    "replace_outlier_with_median(train_data, 'Customers')"
   ]
  },
  {
   "cell_type": "markdown",
   "metadata": {
    "colab_type": "text",
    "id": "aF3kMgH3lUnk"
   },
   "source": [
    "## 2. Building Models and Pipelines\n",
    " \n",
    "2.1 **Feature Engeneering**\n",
    "\n",
    "Generating new features from already existing features. \n",
    "\n"
   ]
  },
  {
   "cell_type": "code",
   "execution_count": 48,
   "metadata": {
    "colab": {
     "base_uri": "https://localhost:8080/",
     "height": 241
    },
    "colab_type": "code",
    "id": "keMWSDS_ldOB",
    "outputId": "068df120-062d-4d88-dac7-7d05d64e07d6"
   },
   "outputs": [
    {
     "data": {
      "text/html": [
       "<div>\n",
       "<style scoped>\n",
       "    .dataframe tbody tr th:only-of-type {\n",
       "        vertical-align: middle;\n",
       "    }\n",
       "\n",
       "    .dataframe tbody tr th {\n",
       "        vertical-align: top;\n",
       "    }\n",
       "\n",
       "    .dataframe thead th {\n",
       "        text-align: right;\n",
       "    }\n",
       "</style>\n",
       "<table border=\"1\" class=\"dataframe\">\n",
       "  <thead>\n",
       "    <tr style=\"text-align: right;\">\n",
       "      <th></th>\n",
       "      <th>Weekdays</th>\n",
       "      <th>Weeks</th>\n",
       "      <th>Months</th>\n",
       "      <th>Store</th>\n",
       "      <th>DayOfWeek</th>\n",
       "      <th>Date</th>\n",
       "      <th>Sales</th>\n",
       "      <th>Customers</th>\n",
       "      <th>Open</th>\n",
       "      <th>Promo</th>\n",
       "      <th>...</th>\n",
       "      <th>StoreType</th>\n",
       "      <th>Assortment</th>\n",
       "      <th>CompetitionDistance</th>\n",
       "      <th>CompetitionOpenSinceMonth</th>\n",
       "      <th>CompetitionOpenSinceYear</th>\n",
       "      <th>Promo2</th>\n",
       "      <th>Promo2SinceWeek</th>\n",
       "      <th>Promo2SinceYear</th>\n",
       "      <th>PromoInterval</th>\n",
       "      <th>SalesperCustomer</th>\n",
       "    </tr>\n",
       "  </thead>\n",
       "  <tbody>\n",
       "    <tr>\n",
       "      <th>0</th>\n",
       "      <td>1</td>\n",
       "      <td>23</td>\n",
       "      <td>6</td>\n",
       "      <td>867</td>\n",
       "      <td>3</td>\n",
       "      <td>2015-06-03</td>\n",
       "      <td>5608.0</td>\n",
       "      <td>469.0</td>\n",
       "      <td>1</td>\n",
       "      <td>1</td>\n",
       "      <td>...</td>\n",
       "      <td>d</td>\n",
       "      <td>c</td>\n",
       "      <td>21810.0</td>\n",
       "      <td>9.0</td>\n",
       "      <td>2012.0</td>\n",
       "      <td>0</td>\n",
       "      <td>0.0</td>\n",
       "      <td>0.0</td>\n",
       "      <td>Jan,Apr,Jul,Oct</td>\n",
       "      <td>11.957356</td>\n",
       "    </tr>\n",
       "    <tr>\n",
       "      <th>1</th>\n",
       "      <td>1</td>\n",
       "      <td>23</td>\n",
       "      <td>6</td>\n",
       "      <td>868</td>\n",
       "      <td>3</td>\n",
       "      <td>2015-06-03</td>\n",
       "      <td>13500.0</td>\n",
       "      <td>816.0</td>\n",
       "      <td>1</td>\n",
       "      <td>1</td>\n",
       "      <td>...</td>\n",
       "      <td>d</td>\n",
       "      <td>c</td>\n",
       "      <td>1360.0</td>\n",
       "      <td>8.0</td>\n",
       "      <td>2005.0</td>\n",
       "      <td>1</td>\n",
       "      <td>10.0</td>\n",
       "      <td>2014.0</td>\n",
       "      <td>Jan,Apr,Jul,Oct</td>\n",
       "      <td>16.544118</td>\n",
       "    </tr>\n",
       "    <tr>\n",
       "      <th>2</th>\n",
       "      <td>1</td>\n",
       "      <td>23</td>\n",
       "      <td>6</td>\n",
       "      <td>869</td>\n",
       "      <td>3</td>\n",
       "      <td>2015-06-03</td>\n",
       "      <td>7007.0</td>\n",
       "      <td>932.0</td>\n",
       "      <td>1</td>\n",
       "      <td>1</td>\n",
       "      <td>...</td>\n",
       "      <td>c</td>\n",
       "      <td>a</td>\n",
       "      <td>230.0</td>\n",
       "      <td>10.0</td>\n",
       "      <td>2001.0</td>\n",
       "      <td>1</td>\n",
       "      <td>14.0</td>\n",
       "      <td>2011.0</td>\n",
       "      <td>Jan,Apr,Jul,Oct</td>\n",
       "      <td>7.518240</td>\n",
       "    </tr>\n",
       "    <tr>\n",
       "      <th>3</th>\n",
       "      <td>1</td>\n",
       "      <td>23</td>\n",
       "      <td>6</td>\n",
       "      <td>870</td>\n",
       "      <td>3</td>\n",
       "      <td>2015-06-03</td>\n",
       "      <td>7911.0</td>\n",
       "      <td>971.0</td>\n",
       "      <td>1</td>\n",
       "      <td>1</td>\n",
       "      <td>...</td>\n",
       "      <td>a</td>\n",
       "      <td>a</td>\n",
       "      <td>780.0</td>\n",
       "      <td>4.0</td>\n",
       "      <td>2009.0</td>\n",
       "      <td>0</td>\n",
       "      <td>0.0</td>\n",
       "      <td>0.0</td>\n",
       "      <td>Jan,Apr,Jul,Oct</td>\n",
       "      <td>8.147271</td>\n",
       "    </tr>\n",
       "    <tr>\n",
       "      <th>4</th>\n",
       "      <td>1</td>\n",
       "      <td>23</td>\n",
       "      <td>6</td>\n",
       "      <td>871</td>\n",
       "      <td>3</td>\n",
       "      <td>2015-06-03</td>\n",
       "      <td>9198.0</td>\n",
       "      <td>678.0</td>\n",
       "      <td>1</td>\n",
       "      <td>1</td>\n",
       "      <td>...</td>\n",
       "      <td>d</td>\n",
       "      <td>c</td>\n",
       "      <td>10620.0</td>\n",
       "      <td>0.0</td>\n",
       "      <td>0.0</td>\n",
       "      <td>0</td>\n",
       "      <td>0.0</td>\n",
       "      <td>0.0</td>\n",
       "      <td>Jan,Apr,Jul,Oct</td>\n",
       "      <td>13.566372</td>\n",
       "    </tr>\n",
       "  </tbody>\n",
       "</table>\n",
       "<p>5 rows × 23 columns</p>\n",
       "</div>"
      ],
      "text/plain": [
       "   Weekdays  Weeks  Months  Store  DayOfWeek       Date    Sales  Customers  \\\n",
       "0         1     23       6    867          3 2015-06-03   5608.0      469.0   \n",
       "1         1     23       6    868          3 2015-06-03  13500.0      816.0   \n",
       "2         1     23       6    869          3 2015-06-03   7007.0      932.0   \n",
       "3         1     23       6    870          3 2015-06-03   7911.0      971.0   \n",
       "4         1     23       6    871          3 2015-06-03   9198.0      678.0   \n",
       "\n",
       "   Open  Promo  ...  StoreType  Assortment  CompetitionDistance  \\\n",
       "0     1      1  ...          d           c              21810.0   \n",
       "1     1      1  ...          d           c               1360.0   \n",
       "2     1      1  ...          c           a                230.0   \n",
       "3     1      1  ...          a           a                780.0   \n",
       "4     1      1  ...          d           c              10620.0   \n",
       "\n",
       "  CompetitionOpenSinceMonth CompetitionOpenSinceYear  Promo2  Promo2SinceWeek  \\\n",
       "0                       9.0                   2012.0       0              0.0   \n",
       "1                       8.0                   2005.0       1             10.0   \n",
       "2                      10.0                   2001.0       1             14.0   \n",
       "3                       4.0                   2009.0       0              0.0   \n",
       "4                       0.0                      0.0       0              0.0   \n",
       "\n",
       "   Promo2SinceYear    PromoInterval  SalesperCustomer  \n",
       "0              0.0  Jan,Apr,Jul,Oct         11.957356  \n",
       "1           2014.0  Jan,Apr,Jul,Oct         16.544118  \n",
       "2           2011.0  Jan,Apr,Jul,Oct          7.518240  \n",
       "3              0.0  Jan,Apr,Jul,Oct          8.147271  \n",
       "4              0.0  Jan,Apr,Jul,Oct         13.566372  \n",
       "\n",
       "[5 rows x 23 columns]"
      ]
     },
     "execution_count": 48,
     "metadata": {},
     "output_type": "execute_result"
    }
   ],
   "source": [
    "train_data.head()"
   ]
  },
  {
   "cell_type": "code",
   "execution_count": 50,
   "metadata": {
    "colab": {},
    "colab_type": "code",
    "id": "7PvgI9esPIzK"
   },
   "outputs": [],
   "source": [
    "train_data['Year']=train_data.Date.dt.year"
   ]
  },
  {
   "cell_type": "code",
   "execution_count": 51,
   "metadata": {
    "colab": {
     "base_uri": "https://localhost:8080/",
     "height": 241
    },
    "colab_type": "code",
    "id": "VepjLRmjPIzL",
    "outputId": "42ebc8a5-35fc-4d53-e630-1e0161070bc7"
   },
   "outputs": [
    {
     "data": {
      "text/html": [
       "<div>\n",
       "<style scoped>\n",
       "    .dataframe tbody tr th:only-of-type {\n",
       "        vertical-align: middle;\n",
       "    }\n",
       "\n",
       "    .dataframe tbody tr th {\n",
       "        vertical-align: top;\n",
       "    }\n",
       "\n",
       "    .dataframe thead th {\n",
       "        text-align: right;\n",
       "    }\n",
       "</style>\n",
       "<table border=\"1\" class=\"dataframe\">\n",
       "  <thead>\n",
       "    <tr style=\"text-align: right;\">\n",
       "      <th></th>\n",
       "      <th>Weekdays</th>\n",
       "      <th>Weeks</th>\n",
       "      <th>Months</th>\n",
       "      <th>Store</th>\n",
       "      <th>DayOfWeek</th>\n",
       "      <th>Sales</th>\n",
       "      <th>Customers</th>\n",
       "      <th>Open</th>\n",
       "      <th>Promo</th>\n",
       "      <th>StateHoliday</th>\n",
       "      <th>...</th>\n",
       "      <th>Assortment</th>\n",
       "      <th>CompetitionDistance</th>\n",
       "      <th>CompetitionOpenSinceMonth</th>\n",
       "      <th>CompetitionOpenSinceYear</th>\n",
       "      <th>Promo2</th>\n",
       "      <th>Promo2SinceWeek</th>\n",
       "      <th>Promo2SinceYear</th>\n",
       "      <th>PromoInterval</th>\n",
       "      <th>SalesperCustomer</th>\n",
       "      <th>Year</th>\n",
       "    </tr>\n",
       "  </thead>\n",
       "  <tbody>\n",
       "    <tr>\n",
       "      <th>0</th>\n",
       "      <td>1</td>\n",
       "      <td>23</td>\n",
       "      <td>6</td>\n",
       "      <td>867</td>\n",
       "      <td>3</td>\n",
       "      <td>5608.0</td>\n",
       "      <td>469.0</td>\n",
       "      <td>1</td>\n",
       "      <td>1</td>\n",
       "      <td>0.0</td>\n",
       "      <td>...</td>\n",
       "      <td>c</td>\n",
       "      <td>21810.0</td>\n",
       "      <td>9.0</td>\n",
       "      <td>2012.0</td>\n",
       "      <td>0</td>\n",
       "      <td>0.0</td>\n",
       "      <td>0.0</td>\n",
       "      <td>Jan,Apr,Jul,Oct</td>\n",
       "      <td>11.957356</td>\n",
       "      <td>2015</td>\n",
       "    </tr>\n",
       "    <tr>\n",
       "      <th>1</th>\n",
       "      <td>1</td>\n",
       "      <td>23</td>\n",
       "      <td>6</td>\n",
       "      <td>868</td>\n",
       "      <td>3</td>\n",
       "      <td>13500.0</td>\n",
       "      <td>816.0</td>\n",
       "      <td>1</td>\n",
       "      <td>1</td>\n",
       "      <td>0.0</td>\n",
       "      <td>...</td>\n",
       "      <td>c</td>\n",
       "      <td>1360.0</td>\n",
       "      <td>8.0</td>\n",
       "      <td>2005.0</td>\n",
       "      <td>1</td>\n",
       "      <td>10.0</td>\n",
       "      <td>2014.0</td>\n",
       "      <td>Jan,Apr,Jul,Oct</td>\n",
       "      <td>16.544118</td>\n",
       "      <td>2015</td>\n",
       "    </tr>\n",
       "    <tr>\n",
       "      <th>2</th>\n",
       "      <td>1</td>\n",
       "      <td>23</td>\n",
       "      <td>6</td>\n",
       "      <td>869</td>\n",
       "      <td>3</td>\n",
       "      <td>7007.0</td>\n",
       "      <td>932.0</td>\n",
       "      <td>1</td>\n",
       "      <td>1</td>\n",
       "      <td>0.0</td>\n",
       "      <td>...</td>\n",
       "      <td>a</td>\n",
       "      <td>230.0</td>\n",
       "      <td>10.0</td>\n",
       "      <td>2001.0</td>\n",
       "      <td>1</td>\n",
       "      <td>14.0</td>\n",
       "      <td>2011.0</td>\n",
       "      <td>Jan,Apr,Jul,Oct</td>\n",
       "      <td>7.518240</td>\n",
       "      <td>2015</td>\n",
       "    </tr>\n",
       "    <tr>\n",
       "      <th>3</th>\n",
       "      <td>1</td>\n",
       "      <td>23</td>\n",
       "      <td>6</td>\n",
       "      <td>870</td>\n",
       "      <td>3</td>\n",
       "      <td>7911.0</td>\n",
       "      <td>971.0</td>\n",
       "      <td>1</td>\n",
       "      <td>1</td>\n",
       "      <td>0.0</td>\n",
       "      <td>...</td>\n",
       "      <td>a</td>\n",
       "      <td>780.0</td>\n",
       "      <td>4.0</td>\n",
       "      <td>2009.0</td>\n",
       "      <td>0</td>\n",
       "      <td>0.0</td>\n",
       "      <td>0.0</td>\n",
       "      <td>Jan,Apr,Jul,Oct</td>\n",
       "      <td>8.147271</td>\n",
       "      <td>2015</td>\n",
       "    </tr>\n",
       "    <tr>\n",
       "      <th>4</th>\n",
       "      <td>1</td>\n",
       "      <td>23</td>\n",
       "      <td>6</td>\n",
       "      <td>871</td>\n",
       "      <td>3</td>\n",
       "      <td>9198.0</td>\n",
       "      <td>678.0</td>\n",
       "      <td>1</td>\n",
       "      <td>1</td>\n",
       "      <td>0.0</td>\n",
       "      <td>...</td>\n",
       "      <td>c</td>\n",
       "      <td>10620.0</td>\n",
       "      <td>0.0</td>\n",
       "      <td>0.0</td>\n",
       "      <td>0</td>\n",
       "      <td>0.0</td>\n",
       "      <td>0.0</td>\n",
       "      <td>Jan,Apr,Jul,Oct</td>\n",
       "      <td>13.566372</td>\n",
       "      <td>2015</td>\n",
       "    </tr>\n",
       "  </tbody>\n",
       "</table>\n",
       "<p>5 rows × 23 columns</p>\n",
       "</div>"
      ],
      "text/plain": [
       "   Weekdays  Weeks  Months  Store  DayOfWeek    Sales  Customers  Open  Promo  \\\n",
       "0         1     23       6    867          3   5608.0      469.0     1      1   \n",
       "1         1     23       6    868          3  13500.0      816.0     1      1   \n",
       "2         1     23       6    869          3   7007.0      932.0     1      1   \n",
       "3         1     23       6    870          3   7911.0      971.0     1      1   \n",
       "4         1     23       6    871          3   9198.0      678.0     1      1   \n",
       "\n",
       "   StateHoliday  ...  Assortment  CompetitionDistance  \\\n",
       "0           0.0  ...           c              21810.0   \n",
       "1           0.0  ...           c               1360.0   \n",
       "2           0.0  ...           a                230.0   \n",
       "3           0.0  ...           a                780.0   \n",
       "4           0.0  ...           c              10620.0   \n",
       "\n",
       "  CompetitionOpenSinceMonth CompetitionOpenSinceYear  Promo2  Promo2SinceWeek  \\\n",
       "0                       9.0                   2012.0       0              0.0   \n",
       "1                       8.0                   2005.0       1             10.0   \n",
       "2                      10.0                   2001.0       1             14.0   \n",
       "3                       4.0                   2009.0       0              0.0   \n",
       "4                       0.0                      0.0       0              0.0   \n",
       "\n",
       "   Promo2SinceYear    PromoInterval  SalesperCustomer  Year  \n",
       "0              0.0  Jan,Apr,Jul,Oct         11.957356  2015  \n",
       "1           2014.0  Jan,Apr,Jul,Oct         16.544118  2015  \n",
       "2           2011.0  Jan,Apr,Jul,Oct          7.518240  2015  \n",
       "3              0.0  Jan,Apr,Jul,Oct          8.147271  2015  \n",
       "4              0.0  Jan,Apr,Jul,Oct         13.566372  2015  \n",
       "\n",
       "[5 rows x 23 columns]"
      ]
     },
     "execution_count": 51,
     "metadata": {},
     "output_type": "execute_result"
    }
   ],
   "source": [
    "del train_data[\"Date\"]\n",
    "train_data.head()"
   ]
  },
  {
   "cell_type": "markdown",
   "metadata": {
    "colab": {},
    "colab_type": "code",
    "id": "uI9ADG-OPIzN"
   },
   "source": [
    "**2.2 correlation Analysis**"
   ]
  },
  {
   "cell_type": "code",
   "execution_count": 52,
   "metadata": {
    "colab": {},
    "colab_type": "code",
    "id": "RhEsAXtsPIzP"
   },
   "outputs": [],
   "source": [
    "df_correlation=train_data[['Store', 'DayOfWeek', 'Sales', 'Customers', 'Promo',\n",
    "        'SchoolHoliday',\n",
    "       'CompetitionDistance', 'CompetitionOpenSinceMonth',\n",
    "       'CompetitionOpenSinceYear', 'Promo2', 'Promo2SinceWeek',\n",
    "       'Promo2SinceYear', 'SalesperCustomer', 'Months', 'Year',\n",
    "       'StateHoliday', 'Assortment', 'StoreType',\n",
    "       'PromoInterval']]\n"
   ]
  },
  {
   "cell_type": "code",
   "execution_count": 53,
   "metadata": {
    "colab": {
     "base_uri": "https://localhost:8080/",
     "height": 763
    },
    "colab_type": "code",
    "id": "yi8TcWzVPIzS",
    "outputId": "3da0d683-8df6-4e55-8e83-f69590e80839"
   },
   "outputs": [
    {
     "data": {
      "text/plain": [
       "<matplotlib.axes._subplots.AxesSubplot at 0x2cd9758ba58>"
      ]
     },
     "execution_count": 53,
     "metadata": {},
     "output_type": "execute_result"
    },
    {
     "data": {
      "image/png": "[encoded data removed]",
      "text/plain": [
       "<Figure size 1080x720 with 2 Axes>"
      ]
     },
     "metadata": {},
     "output_type": "display_data"
    }
   ],
   "source": [
    "upper_triangle = np.zeros_like(df_correlation.corr(), dtype = np.bool)\n",
    "upper_triangle[np.triu_indices_from(upper_triangle)] = True #make sure we don't show half of the other triangle\n",
    "f, ax = plt.subplots(figsize = (15, 10))\n",
    "sns.heatmap(df_correlation.corr(),ax=ax,mask=upper_triangle,annot=True, fmt='.2f',linewidths=0.5,cmap=sns.diverging_palette(10, 133, as_cmap=True))\n"
   ]
  },
  {
   "cell_type": "markdown",
   "metadata": {
    "colab_type": "text",
    "id": "P9-vZ_xhPIzW"
   },
   "source": [
    "-Since the competition variables CompetitionOpenSinceYear and CompeitionOpenSinceMonth have the same underlying meaning, merging them into one variable that we call CompetitionOpenSince makes easier for the algorithm to understand the pattern and creates less branches and thus complex trees."
   ]
  },
  {
   "cell_type": "code",
   "execution_count": 54,
   "metadata": {
    "colab": {},
    "colab_type": "code",
    "id": "544i848SBEAr"
   },
   "outputs": [],
   "source": [
    "train_data['CompetitionOpenSince'] = np.where((train_data['CompetitionOpenSinceMonth']==0) & \n",
    "                                                  (train_data['CompetitionOpenSinceYear']==0) , 0,\n",
    "                                                  (train_data.Months - train_data.CompetitionOpenSinceMonth) \n",
    "                                                  + (12 * (train_data.Year - train_data.CompetitionOpenSinceYear)) )"
   ]
  },
  {
   "cell_type": "code",
   "execution_count": 55,
   "metadata": {
    "colab": {},
    "colab_type": "code",
    "id": "sNzsYQ44PIza"
   },
   "outputs": [],
   "source": [
    "del train_data['CompetitionOpenSinceYear']\n",
    "del train_data['CompetitionOpenSinceMonth']"
   ]
  },
  {
   "cell_type": "code",
   "execution_count": 56,
   "metadata": {
    "colab": {
     "base_uri": "https://localhost:8080/",
     "height": 241
    },
    "colab_type": "code",
    "id": "O9tLDhahPIzb",
    "outputId": "7cd85c93-10ba-48e0-c992-5df3541342d6"
   },
   "outputs": [
    {
     "data": {
      "text/html": [
       "<div>\n",
       "<style scoped>\n",
       "    .dataframe tbody tr th:only-of-type {\n",
       "        vertical-align: middle;\n",
       "    }\n",
       "\n",
       "    .dataframe tbody tr th {\n",
       "        vertical-align: top;\n",
       "    }\n",
       "\n",
       "    .dataframe thead th {\n",
       "        text-align: right;\n",
       "    }\n",
       "</style>\n",
       "<table border=\"1\" class=\"dataframe\">\n",
       "  <thead>\n",
       "    <tr style=\"text-align: right;\">\n",
       "      <th></th>\n",
       "      <th>Weekdays</th>\n",
       "      <th>Weeks</th>\n",
       "      <th>Months</th>\n",
       "      <th>Store</th>\n",
       "      <th>DayOfWeek</th>\n",
       "      <th>Sales</th>\n",
       "      <th>Customers</th>\n",
       "      <th>Open</th>\n",
       "      <th>Promo</th>\n",
       "      <th>StateHoliday</th>\n",
       "      <th>...</th>\n",
       "      <th>StoreType</th>\n",
       "      <th>Assortment</th>\n",
       "      <th>CompetitionDistance</th>\n",
       "      <th>Promo2</th>\n",
       "      <th>Promo2SinceWeek</th>\n",
       "      <th>Promo2SinceYear</th>\n",
       "      <th>PromoInterval</th>\n",
       "      <th>SalesperCustomer</th>\n",
       "      <th>Year</th>\n",
       "      <th>CompetitionOpenSince</th>\n",
       "    </tr>\n",
       "  </thead>\n",
       "  <tbody>\n",
       "    <tr>\n",
       "      <th>0</th>\n",
       "      <td>1</td>\n",
       "      <td>23</td>\n",
       "      <td>6</td>\n",
       "      <td>867</td>\n",
       "      <td>3</td>\n",
       "      <td>5608.0</td>\n",
       "      <td>469.0</td>\n",
       "      <td>1</td>\n",
       "      <td>1</td>\n",
       "      <td>0.0</td>\n",
       "      <td>...</td>\n",
       "      <td>d</td>\n",
       "      <td>c</td>\n",
       "      <td>21810.0</td>\n",
       "      <td>0</td>\n",
       "      <td>0.0</td>\n",
       "      <td>0.0</td>\n",
       "      <td>Jan,Apr,Jul,Oct</td>\n",
       "      <td>11.957356</td>\n",
       "      <td>2015</td>\n",
       "      <td>33.0</td>\n",
       "    </tr>\n",
       "    <tr>\n",
       "      <th>1</th>\n",
       "      <td>1</td>\n",
       "      <td>23</td>\n",
       "      <td>6</td>\n",
       "      <td>868</td>\n",
       "      <td>3</td>\n",
       "      <td>13500.0</td>\n",
       "      <td>816.0</td>\n",
       "      <td>1</td>\n",
       "      <td>1</td>\n",
       "      <td>0.0</td>\n",
       "      <td>...</td>\n",
       "      <td>d</td>\n",
       "      <td>c</td>\n",
       "      <td>1360.0</td>\n",
       "      <td>1</td>\n",
       "      <td>10.0</td>\n",
       "      <td>2014.0</td>\n",
       "      <td>Jan,Apr,Jul,Oct</td>\n",
       "      <td>16.544118</td>\n",
       "      <td>2015</td>\n",
       "      <td>118.0</td>\n",
       "    </tr>\n",
       "    <tr>\n",
       "      <th>2</th>\n",
       "      <td>1</td>\n",
       "      <td>23</td>\n",
       "      <td>6</td>\n",
       "      <td>869</td>\n",
       "      <td>3</td>\n",
       "      <td>7007.0</td>\n",
       "      <td>932.0</td>\n",
       "      <td>1</td>\n",
       "      <td>1</td>\n",
       "      <td>0.0</td>\n",
       "      <td>...</td>\n",
       "      <td>c</td>\n",
       "      <td>a</td>\n",
       "      <td>230.0</td>\n",
       "      <td>1</td>\n",
       "      <td>14.0</td>\n",
       "      <td>2011.0</td>\n",
       "      <td>Jan,Apr,Jul,Oct</td>\n",
       "      <td>7.518240</td>\n",
       "      <td>2015</td>\n",
       "      <td>164.0</td>\n",
       "    </tr>\n",
       "    <tr>\n",
       "      <th>3</th>\n",
       "      <td>1</td>\n",
       "      <td>23</td>\n",
       "      <td>6</td>\n",
       "      <td>870</td>\n",
       "      <td>3</td>\n",
       "      <td>7911.0</td>\n",
       "      <td>971.0</td>\n",
       "      <td>1</td>\n",
       "      <td>1</td>\n",
       "      <td>0.0</td>\n",
       "      <td>...</td>\n",
       "      <td>a</td>\n",
       "      <td>a</td>\n",
       "      <td>780.0</td>\n",
       "      <td>0</td>\n",
       "      <td>0.0</td>\n",
       "      <td>0.0</td>\n",
       "      <td>Jan,Apr,Jul,Oct</td>\n",
       "      <td>8.147271</td>\n",
       "      <td>2015</td>\n",
       "      <td>74.0</td>\n",
       "    </tr>\n",
       "    <tr>\n",
       "      <th>4</th>\n",
       "      <td>1</td>\n",
       "      <td>23</td>\n",
       "      <td>6</td>\n",
       "      <td>871</td>\n",
       "      <td>3</td>\n",
       "      <td>9198.0</td>\n",
       "      <td>678.0</td>\n",
       "      <td>1</td>\n",
       "      <td>1</td>\n",
       "      <td>0.0</td>\n",
       "      <td>...</td>\n",
       "      <td>d</td>\n",
       "      <td>c</td>\n",
       "      <td>10620.0</td>\n",
       "      <td>0</td>\n",
       "      <td>0.0</td>\n",
       "      <td>0.0</td>\n",
       "      <td>Jan,Apr,Jul,Oct</td>\n",
       "      <td>13.566372</td>\n",
       "      <td>2015</td>\n",
       "      <td>0.0</td>\n",
       "    </tr>\n",
       "  </tbody>\n",
       "</table>\n",
       "<p>5 rows × 22 columns</p>\n",
       "</div>"
      ],
      "text/plain": [
       "   Weekdays  Weeks  Months  Store  DayOfWeek    Sales  Customers  Open  Promo  \\\n",
       "0         1     23       6    867          3   5608.0      469.0     1      1   \n",
       "1         1     23       6    868          3  13500.0      816.0     1      1   \n",
       "2         1     23       6    869          3   7007.0      932.0     1      1   \n",
       "3         1     23       6    870          3   7911.0      971.0     1      1   \n",
       "4         1     23       6    871          3   9198.0      678.0     1      1   \n",
       "\n",
       "   StateHoliday  ...  StoreType  Assortment CompetitionDistance Promo2  \\\n",
       "0           0.0  ...          d           c             21810.0      0   \n",
       "1           0.0  ...          d           c              1360.0      1   \n",
       "2           0.0  ...          c           a               230.0      1   \n",
       "3           0.0  ...          a           a               780.0      0   \n",
       "4           0.0  ...          d           c             10620.0      0   \n",
       "\n",
       "   Promo2SinceWeek  Promo2SinceYear    PromoInterval  SalesperCustomer  Year  \\\n",
       "0              0.0              0.0  Jan,Apr,Jul,Oct         11.957356  2015   \n",
       "1             10.0           2014.0  Jan,Apr,Jul,Oct         16.544118  2015   \n",
       "2             14.0           2011.0  Jan,Apr,Jul,Oct          7.518240  2015   \n",
       "3              0.0              0.0  Jan,Apr,Jul,Oct          8.147271  2015   \n",
       "4              0.0              0.0  Jan,Apr,Jul,Oct         13.566372  2015   \n",
       "\n",
       "   CompetitionOpenSince  \n",
       "0                  33.0  \n",
       "1                 118.0  \n",
       "2                 164.0  \n",
       "3                  74.0  \n",
       "4                   0.0  \n",
       "\n",
       "[5 rows x 22 columns]"
      ]
     },
     "execution_count": 56,
     "metadata": {},
     "output_type": "execute_result"
    }
   ],
   "source": [
    "train_data.head()"
   ]
  },
  {
   "cell_type": "markdown",
   "metadata": {
    "colab_type": "text",
    "id": "L_0OEoLpFZ6Z"
   },
   "source": [
    "2.3 **Data Scaling and Data Encoding**"
   ]
  },
  {
   "cell_type": "code",
   "execution_count": 57,
   "metadata": {
    "colab": {},
    "colab_type": "code",
    "id": "7CUCtWYIFly4"
   },
   "outputs": [
    {
     "data": {
      "text/plain": [
       "Weekdays                  int64\n",
       "Weeks                     int64\n",
       "Months                    int64\n",
       "Store                     int64\n",
       "DayOfWeek                 int64\n",
       "Sales                   float64\n",
       "Customers               float64\n",
       "Open                      int64\n",
       "Promo                     int64\n",
       "StateHoliday            float64\n",
       "SchoolHoliday             int64\n",
       "Store-1                   int64\n",
       "StoreType                object\n",
       "Assortment               object\n",
       "CompetitionDistance     float64\n",
       "Promo2                    int64\n",
       "Promo2SinceWeek         float64\n",
       "Promo2SinceYear         float64\n",
       "PromoInterval            object\n",
       "SalesperCustomer        float64\n",
       "Year                      int64\n",
       "CompetitionOpenSince    float64\n",
       "dtype: object"
      ]
     },
     "execution_count": 57,
     "metadata": {},
     "output_type": "execute_result"
    }
   ],
   "source": [
    "train_data.dtypes"
   ]
  },
  {
   "cell_type": "code",
   "execution_count": 58,
   "metadata": {
    "colab": {
     "base_uri": "https://localhost:8080/",
     "height": 241
    },
    "colab_type": "code",
    "id": "S1U8Ry3TGfIP",
    "outputId": "937f97e1-b55a-45de-c4ad-6a7613333c62"
   },
   "outputs": [
    {
     "data": {
      "text/html": [
       "<div>\n",
       "<style scoped>\n",
       "    .dataframe tbody tr th:only-of-type {\n",
       "        vertical-align: middle;\n",
       "    }\n",
       "\n",
       "    .dataframe tbody tr th {\n",
       "        vertical-align: top;\n",
       "    }\n",
       "\n",
       "    .dataframe thead th {\n",
       "        text-align: right;\n",
       "    }\n",
       "</style>\n",
       "<table border=\"1\" class=\"dataframe\">\n",
       "  <thead>\n",
       "    <tr style=\"text-align: right;\">\n",
       "      <th></th>\n",
       "      <th>Weekdays</th>\n",
       "      <th>Weeks</th>\n",
       "      <th>Months</th>\n",
       "      <th>Store</th>\n",
       "      <th>DayOfWeek</th>\n",
       "      <th>Sales</th>\n",
       "      <th>Customers</th>\n",
       "      <th>Open</th>\n",
       "      <th>Promo</th>\n",
       "      <th>StateHoliday</th>\n",
       "      <th>...</th>\n",
       "      <th>CompetitionDistance</th>\n",
       "      <th>Promo2</th>\n",
       "      <th>Promo2SinceWeek</th>\n",
       "      <th>Promo2SinceYear</th>\n",
       "      <th>PromoInterval_Jan,Apr,Jul,Oct</th>\n",
       "      <th>PromoInterval_Mar,Jun,Sept,Dec</th>\n",
       "      <th>PromoInterval_Feb,May,Aug,Nov</th>\n",
       "      <th>SalesperCustomer</th>\n",
       "      <th>Year</th>\n",
       "      <th>CompetitionOpenSince</th>\n",
       "    </tr>\n",
       "  </thead>\n",
       "  <tbody>\n",
       "    <tr>\n",
       "      <th>0</th>\n",
       "      <td>1</td>\n",
       "      <td>23</td>\n",
       "      <td>6</td>\n",
       "      <td>867</td>\n",
       "      <td>3</td>\n",
       "      <td>5608.0</td>\n",
       "      <td>469.0</td>\n",
       "      <td>1</td>\n",
       "      <td>1</td>\n",
       "      <td>0.0</td>\n",
       "      <td>...</td>\n",
       "      <td>21810.0</td>\n",
       "      <td>0</td>\n",
       "      <td>0.0</td>\n",
       "      <td>0.0</td>\n",
       "      <td>1</td>\n",
       "      <td>0</td>\n",
       "      <td>0</td>\n",
       "      <td>11.957356</td>\n",
       "      <td>2015</td>\n",
       "      <td>33.0</td>\n",
       "    </tr>\n",
       "    <tr>\n",
       "      <th>1</th>\n",
       "      <td>1</td>\n",
       "      <td>23</td>\n",
       "      <td>6</td>\n",
       "      <td>868</td>\n",
       "      <td>3</td>\n",
       "      <td>13500.0</td>\n",
       "      <td>816.0</td>\n",
       "      <td>1</td>\n",
       "      <td>1</td>\n",
       "      <td>0.0</td>\n",
       "      <td>...</td>\n",
       "      <td>1360.0</td>\n",
       "      <td>1</td>\n",
       "      <td>10.0</td>\n",
       "      <td>2014.0</td>\n",
       "      <td>1</td>\n",
       "      <td>0</td>\n",
       "      <td>0</td>\n",
       "      <td>16.544118</td>\n",
       "      <td>2015</td>\n",
       "      <td>118.0</td>\n",
       "    </tr>\n",
       "    <tr>\n",
       "      <th>2</th>\n",
       "      <td>1</td>\n",
       "      <td>23</td>\n",
       "      <td>6</td>\n",
       "      <td>869</td>\n",
       "      <td>3</td>\n",
       "      <td>7007.0</td>\n",
       "      <td>932.0</td>\n",
       "      <td>1</td>\n",
       "      <td>1</td>\n",
       "      <td>0.0</td>\n",
       "      <td>...</td>\n",
       "      <td>230.0</td>\n",
       "      <td>1</td>\n",
       "      <td>14.0</td>\n",
       "      <td>2011.0</td>\n",
       "      <td>1</td>\n",
       "      <td>0</td>\n",
       "      <td>0</td>\n",
       "      <td>7.518240</td>\n",
       "      <td>2015</td>\n",
       "      <td>164.0</td>\n",
       "    </tr>\n",
       "    <tr>\n",
       "      <th>3</th>\n",
       "      <td>1</td>\n",
       "      <td>23</td>\n",
       "      <td>6</td>\n",
       "      <td>870</td>\n",
       "      <td>3</td>\n",
       "      <td>7911.0</td>\n",
       "      <td>971.0</td>\n",
       "      <td>1</td>\n",
       "      <td>1</td>\n",
       "      <td>0.0</td>\n",
       "      <td>...</td>\n",
       "      <td>780.0</td>\n",
       "      <td>0</td>\n",
       "      <td>0.0</td>\n",
       "      <td>0.0</td>\n",
       "      <td>1</td>\n",
       "      <td>0</td>\n",
       "      <td>0</td>\n",
       "      <td>8.147271</td>\n",
       "      <td>2015</td>\n",
       "      <td>74.0</td>\n",
       "    </tr>\n",
       "    <tr>\n",
       "      <th>4</th>\n",
       "      <td>1</td>\n",
       "      <td>23</td>\n",
       "      <td>6</td>\n",
       "      <td>871</td>\n",
       "      <td>3</td>\n",
       "      <td>9198.0</td>\n",
       "      <td>678.0</td>\n",
       "      <td>1</td>\n",
       "      <td>1</td>\n",
       "      <td>0.0</td>\n",
       "      <td>...</td>\n",
       "      <td>10620.0</td>\n",
       "      <td>0</td>\n",
       "      <td>0.0</td>\n",
       "      <td>0.0</td>\n",
       "      <td>1</td>\n",
       "      <td>0</td>\n",
       "      <td>0</td>\n",
       "      <td>13.566372</td>\n",
       "      <td>2015</td>\n",
       "      <td>0.0</td>\n",
       "    </tr>\n",
       "  </tbody>\n",
       "</table>\n",
       "<p>5 rows × 29 columns</p>\n",
       "</div>"
      ],
      "text/plain": [
       "   Weekdays  Weeks  Months  Store  DayOfWeek    Sales  Customers  Open  Promo  \\\n",
       "0         1     23       6    867          3   5608.0      469.0     1      1   \n",
       "1         1     23       6    868          3  13500.0      816.0     1      1   \n",
       "2         1     23       6    869          3   7007.0      932.0     1      1   \n",
       "3         1     23       6    870          3   7911.0      971.0     1      1   \n",
       "4         1     23       6    871          3   9198.0      678.0     1      1   \n",
       "\n",
       "   StateHoliday  ...  CompetitionDistance  Promo2  Promo2SinceWeek  \\\n",
       "0           0.0  ...              21810.0       0              0.0   \n",
       "1           0.0  ...               1360.0       1             10.0   \n",
       "2           0.0  ...                230.0       1             14.0   \n",
       "3           0.0  ...                780.0       0              0.0   \n",
       "4           0.0  ...              10620.0       0              0.0   \n",
       "\n",
       "   Promo2SinceYear  PromoInterval_Jan,Apr,Jul,Oct  \\\n",
       "0              0.0                              1   \n",
       "1           2014.0                              1   \n",
       "2           2011.0                              1   \n",
       "3              0.0                              1   \n",
       "4              0.0                              1   \n",
       "\n",
       "   PromoInterval_Mar,Jun,Sept,Dec  PromoInterval_Feb,May,Aug,Nov  \\\n",
       "0                               0                              0   \n",
       "1                               0                              0   \n",
       "2                               0                              0   \n",
       "3                               0                              0   \n",
       "4                               0                              0   \n",
       "\n",
       "   SalesperCustomer  Year  CompetitionOpenSince  \n",
       "0         11.957356  2015                  33.0  \n",
       "1         16.544118  2015                 118.0  \n",
       "2          7.518240  2015                 164.0  \n",
       "3          8.147271  2015                  74.0  \n",
       "4         13.566372  2015                   0.0  \n",
       "\n",
       "[5 rows x 29 columns]"
      ]
     },
     "execution_count": 58,
     "metadata": {},
     "output_type": "execute_result"
    }
   ],
   "source": [
    "# create an object of the OneHotEncoder\n",
    "OHE = ce.OneHotEncoder(cols=['StoreType','Assortment','PromoInterval'],use_cat_names=True)\n",
    "# encode the categorical variables\n",
    "train_data = OHE.fit_transform(train_data)\n",
    "\n",
    "train_data.head()"
   ]
  },
  {
   "cell_type": "markdown",
   "metadata": {
    "colab_type": "text",
    "id": "-FCg9_wZHaOC"
   },
   "source": [
    "**2.5 Feature scaling**\n",
    "\n",
    "So far we have taken care of the missing values and the categorical (string) variables in the data. Next we will work with the continuous variables. Often the continuous variables in the data have different scales, for instance, a variable V1 can have a range from 0 to 1 while another variable can have a range from 0-1000.\n",
    "\n",
    "Based on the type of model we are building, we normalize the data in such a way that the range of all the variables is almost similar. We did this easily in python using the StandardScaler function.\n",
    "For this project we will be using **Random Forest Regressor**\n",
    "\n",
    "**Defining Variable**\n",
    "\n",
    "Defining independent and dependent variables\n",
    "let independent/Features = X\n",
    "let dependent/Target = Y\n",
    "SInce we want to predict store sales, the target/ dependent variable is sales. For features we remove all columns that are strongly correlated to sales. From correlation analysis, we see that \"customers\" and \"salespercustomer\"  have a strong positive correlation with sale. There we do away with these columns."
   ]
  },
  {
   "cell_type": "code",
   "execution_count": 59,
   "metadata": {
    "colab": {},
    "colab_type": "code",
    "id": "ds7Zc5gWPIzn"
   },
   "outputs": [],
   "source": [
    "## separate the independent and target variable \n",
    "X = train_data.drop(['Customers', 'Sales', 'SalesperCustomer'], axis = 1)"
   ]
  },
  {
   "cell_type": "code",
   "execution_count": 60,
   "metadata": {
    "colab": {
     "base_uri": "https://localhost:8080/",
     "height": 241
    },
    "colab_type": "code",
    "id": "2gNb9GhkPIzq",
    "outputId": "c781ff33-ee78-4ed2-8e17-721b12f10308"
   },
   "outputs": [
    {
     "data": {
      "text/html": [
       "<div>\n",
       "<style scoped>\n",
       "    .dataframe tbody tr th:only-of-type {\n",
       "        vertical-align: middle;\n",
       "    }\n",
       "\n",
       "    .dataframe tbody tr th {\n",
       "        vertical-align: top;\n",
       "    }\n",
       "\n",
       "    .dataframe thead th {\n",
       "        text-align: right;\n",
       "    }\n",
       "</style>\n",
       "<table border=\"1\" class=\"dataframe\">\n",
       "  <thead>\n",
       "    <tr style=\"text-align: right;\">\n",
       "      <th></th>\n",
       "      <th>Weekdays</th>\n",
       "      <th>Weeks</th>\n",
       "      <th>Months</th>\n",
       "      <th>Store</th>\n",
       "      <th>DayOfWeek</th>\n",
       "      <th>Open</th>\n",
       "      <th>Promo</th>\n",
       "      <th>StateHoliday</th>\n",
       "      <th>SchoolHoliday</th>\n",
       "      <th>Store-1</th>\n",
       "      <th>...</th>\n",
       "      <th>Assortment_b</th>\n",
       "      <th>CompetitionDistance</th>\n",
       "      <th>Promo2</th>\n",
       "      <th>Promo2SinceWeek</th>\n",
       "      <th>Promo2SinceYear</th>\n",
       "      <th>PromoInterval_Jan,Apr,Jul,Oct</th>\n",
       "      <th>PromoInterval_Mar,Jun,Sept,Dec</th>\n",
       "      <th>PromoInterval_Feb,May,Aug,Nov</th>\n",
       "      <th>Year</th>\n",
       "      <th>CompetitionOpenSince</th>\n",
       "    </tr>\n",
       "  </thead>\n",
       "  <tbody>\n",
       "    <tr>\n",
       "      <th>0</th>\n",
       "      <td>1</td>\n",
       "      <td>23</td>\n",
       "      <td>6</td>\n",
       "      <td>867</td>\n",
       "      <td>3</td>\n",
       "      <td>1</td>\n",
       "      <td>1</td>\n",
       "      <td>0.0</td>\n",
       "      <td>0</td>\n",
       "      <td>867</td>\n",
       "      <td>...</td>\n",
       "      <td>0</td>\n",
       "      <td>21810.0</td>\n",
       "      <td>0</td>\n",
       "      <td>0.0</td>\n",
       "      <td>0.0</td>\n",
       "      <td>1</td>\n",
       "      <td>0</td>\n",
       "      <td>0</td>\n",
       "      <td>2015</td>\n",
       "      <td>33.0</td>\n",
       "    </tr>\n",
       "    <tr>\n",
       "      <th>1</th>\n",
       "      <td>1</td>\n",
       "      <td>23</td>\n",
       "      <td>6</td>\n",
       "      <td>868</td>\n",
       "      <td>3</td>\n",
       "      <td>1</td>\n",
       "      <td>1</td>\n",
       "      <td>0.0</td>\n",
       "      <td>0</td>\n",
       "      <td>868</td>\n",
       "      <td>...</td>\n",
       "      <td>0</td>\n",
       "      <td>1360.0</td>\n",
       "      <td>1</td>\n",
       "      <td>10.0</td>\n",
       "      <td>2014.0</td>\n",
       "      <td>1</td>\n",
       "      <td>0</td>\n",
       "      <td>0</td>\n",
       "      <td>2015</td>\n",
       "      <td>118.0</td>\n",
       "    </tr>\n",
       "    <tr>\n",
       "      <th>2</th>\n",
       "      <td>1</td>\n",
       "      <td>23</td>\n",
       "      <td>6</td>\n",
       "      <td>869</td>\n",
       "      <td>3</td>\n",
       "      <td>1</td>\n",
       "      <td>1</td>\n",
       "      <td>0.0</td>\n",
       "      <td>0</td>\n",
       "      <td>869</td>\n",
       "      <td>...</td>\n",
       "      <td>0</td>\n",
       "      <td>230.0</td>\n",
       "      <td>1</td>\n",
       "      <td>14.0</td>\n",
       "      <td>2011.0</td>\n",
       "      <td>1</td>\n",
       "      <td>0</td>\n",
       "      <td>0</td>\n",
       "      <td>2015</td>\n",
       "      <td>164.0</td>\n",
       "    </tr>\n",
       "    <tr>\n",
       "      <th>3</th>\n",
       "      <td>1</td>\n",
       "      <td>23</td>\n",
       "      <td>6</td>\n",
       "      <td>870</td>\n",
       "      <td>3</td>\n",
       "      <td>1</td>\n",
       "      <td>1</td>\n",
       "      <td>0.0</td>\n",
       "      <td>0</td>\n",
       "      <td>870</td>\n",
       "      <td>...</td>\n",
       "      <td>0</td>\n",
       "      <td>780.0</td>\n",
       "      <td>0</td>\n",
       "      <td>0.0</td>\n",
       "      <td>0.0</td>\n",
       "      <td>1</td>\n",
       "      <td>0</td>\n",
       "      <td>0</td>\n",
       "      <td>2015</td>\n",
       "      <td>74.0</td>\n",
       "    </tr>\n",
       "    <tr>\n",
       "      <th>4</th>\n",
       "      <td>1</td>\n",
       "      <td>23</td>\n",
       "      <td>6</td>\n",
       "      <td>871</td>\n",
       "      <td>3</td>\n",
       "      <td>1</td>\n",
       "      <td>1</td>\n",
       "      <td>0.0</td>\n",
       "      <td>0</td>\n",
       "      <td>871</td>\n",
       "      <td>...</td>\n",
       "      <td>0</td>\n",
       "      <td>10620.0</td>\n",
       "      <td>0</td>\n",
       "      <td>0.0</td>\n",
       "      <td>0.0</td>\n",
       "      <td>1</td>\n",
       "      <td>0</td>\n",
       "      <td>0</td>\n",
       "      <td>2015</td>\n",
       "      <td>0.0</td>\n",
       "    </tr>\n",
       "  </tbody>\n",
       "</table>\n",
       "<p>5 rows × 26 columns</p>\n",
       "</div>"
      ],
      "text/plain": [
       "   Weekdays  Weeks  Months  Store  DayOfWeek  Open  Promo  StateHoliday  \\\n",
       "0         1     23       6    867          3     1      1           0.0   \n",
       "1         1     23       6    868          3     1      1           0.0   \n",
       "2         1     23       6    869          3     1      1           0.0   \n",
       "3         1     23       6    870          3     1      1           0.0   \n",
       "4         1     23       6    871          3     1      1           0.0   \n",
       "\n",
       "   SchoolHoliday  Store-1  ...  Assortment_b  CompetitionDistance  Promo2  \\\n",
       "0              0      867  ...             0              21810.0       0   \n",
       "1              0      868  ...             0               1360.0       1   \n",
       "2              0      869  ...             0                230.0       1   \n",
       "3              0      870  ...             0                780.0       0   \n",
       "4              0      871  ...             0              10620.0       0   \n",
       "\n",
       "   Promo2SinceWeek  Promo2SinceYear  PromoInterval_Jan,Apr,Jul,Oct  \\\n",
       "0              0.0              0.0                              1   \n",
       "1             10.0           2014.0                              1   \n",
       "2             14.0           2011.0                              1   \n",
       "3              0.0              0.0                              1   \n",
       "4              0.0              0.0                              1   \n",
       "\n",
       "   PromoInterval_Mar,Jun,Sept,Dec  PromoInterval_Feb,May,Aug,Nov  Year  \\\n",
       "0                               0                              0  2015   \n",
       "1                               0                              0  2015   \n",
       "2                               0                              0  2015   \n",
       "3                               0                              0  2015   \n",
       "4                               0                              0  2015   \n",
       "\n",
       "   CompetitionOpenSince  \n",
       "0                  33.0  \n",
       "1                 118.0  \n",
       "2                 164.0  \n",
       "3                  74.0  \n",
       "4                   0.0  \n",
       "\n",
       "[5 rows x 26 columns]"
      ]
     },
     "execution_count": 60,
     "metadata": {},
     "output_type": "execute_result"
    }
   ],
   "source": [
    "X.head()"
   ]
  },
  {
   "cell_type": "code",
   "execution_count": 61,
   "metadata": {
    "colab": {},
    "colab_type": "code",
    "id": "dbjQikJPOiRZ"
   },
   "outputs": [],
   "source": [
    "#We delete store-1 because it is duplicated\n",
    "del X['Store-1']"
   ]
  },
  {
   "cell_type": "code",
   "execution_count": 62,
   "metadata": {
    "colab": {
     "base_uri": "https://localhost:8080/",
     "height": 255
    },
    "colab_type": "code",
    "id": "1Twb5RGnPIzt",
    "outputId": "10cf0ef0-58d6-44ce-a013-800c2472c09c"
   },
   "outputs": [
    {
     "name": "stderr",
     "output_type": "stream",
     "text": [
      "C:\\Users\\HP\\Anaconda3\\lib\\site-packages\\ipykernel_launcher.py:3: RuntimeWarning: divide by zero encountered in log\n",
      "  This is separate from the ipykernel package so we can avoid doing imports until\n"
     ]
    },
    {
     "data": {
      "text/plain": [
       "0          8.631949\n",
       "1          9.510445\n",
       "2          8.854665\n",
       "3          8.976009\n",
       "4          9.126741\n",
       "5          9.299358\n",
       "6          8.451053\n",
       "7          8.579604\n",
       "8          8.963288\n",
       "9          9.346705\n",
       "10         8.974365\n",
       "11         9.169414\n",
       "12         8.547722\n",
       "13         9.132163\n",
       "14         8.692826\n",
       "15         8.970178\n",
       "16         8.743053\n",
       "17         8.976389\n",
       "18         8.946635\n",
       "19         9.086816\n",
       "20         9.083189\n",
       "21         9.238733\n",
       "22         8.427925\n",
       "23         9.040382\n",
       "24         9.117677\n",
       "25         8.978030\n",
       "26         8.986697\n",
       "27         9.395242\n",
       "28         9.367857\n",
       "29         8.910990\n",
       "             ...   \n",
       "1017179    8.629450\n",
       "1017180    9.195836\n",
       "1017181    8.532279\n",
       "1017182    8.993552\n",
       "1017183    8.054840\n",
       "1017184    8.655911\n",
       "1017185    9.257796\n",
       "1017186    8.829958\n",
       "1017187    8.771990\n",
       "1017188    9.402447\n",
       "1017189    8.958025\n",
       "1017190    9.101306\n",
       "1017191    9.282010\n",
       "1017192    9.042158\n",
       "1017193    8.740657\n",
       "1017194    8.529122\n",
       "1017195    9.310729\n",
       "1017196    8.787983\n",
       "1017197    8.950533\n",
       "1017198    9.047233\n",
       "1017199    9.161150\n",
       "1017200    8.705165\n",
       "1017201    9.094480\n",
       "1017202    8.819370\n",
       "1017203    8.564268\n",
       "1017204    9.215626\n",
       "1017205    9.099297\n",
       "1017206    8.712102\n",
       "1017207    9.339964\n",
       "1017208    9.097955\n",
       "Name: Sales, Length: 1017209, dtype: float64"
      ]
     },
     "execution_count": 62,
     "metadata": {},
     "output_type": "execute_result"
    }
   ],
   "source": [
    "#a rule of thumb is to transform my target value to log if i see the values are very dispersed which is the case\n",
    "#and then of course revert them with np.exp to their real values\n",
    "y=np.log(train_data.Sales)\n",
    "y"
   ]
  },
  {
   "cell_type": "code",
   "execution_count": 63,
   "metadata": {
    "colab": {
     "base_uri": "https://localhost:8080/",
     "height": 34
    },
    "colab_type": "code",
    "id": "funxpuN0PIzx",
    "outputId": "4933bed7-2d29-4e18-efb5-ceadc5ab38e0"
   },
   "outputs": [
    {
     "name": "stdout",
     "output_type": "stream",
     "text": [
      "Training and testing split was successful.\n"
     ]
    }
   ],
   "source": [
    "#Splitting our dataset into train and test subsets\n",
    "X_train, X_test, y_train, y_test = train_test_split(X, y, test_size=0.20, random_state=15)\n",
    "print (\"Training and testing split was successful.\")"
   ]
  },
  {
   "cell_type": "code",
   "execution_count": 64,
   "metadata": {
    "colab": {},
    "colab_type": "code",
    "id": "e8ShsmI4PIzz"
   },
   "outputs": [],
   "source": [
    "# Feature Scaling\n",
    "from sklearn.preprocessing import StandardScaler\n",
    "\n",
    "sc = StandardScaler()\n",
    "X_train = sc.fit_transform(X_train)\n",
    "X_test = sc.transform(X_test)"
   ]
  },
  {
   "cell_type": "markdown",
   "metadata": {
    "colab_type": "text",
    "id": "LUM7h47nhWm6"
   },
   "source": [
    "Below is a funtion to help us identify if a dataframe has infinite numbers"
   ]
  },
  {
   "cell_type": "code",
   "execution_count": 65,
   "metadata": {
    "colab": {},
    "colab_type": "code",
    "id": "pQyugqG5TWNh"
   },
   "outputs": [],
   "source": [
    "def _assert_all_finite(X):\n",
    "    \"\"\"Like assert_all_finite, but only for ndarray.\"\"\"\n",
    "    X = np.asanyarray(X)\n",
    "    # First try an O(n) time, O(1) space solution for the common case that\n",
    "    # everything is finite; fall back to O(n) space np.isfinite to prevent\n",
    "    # false positives from overflow in sum method.\n",
    "    if (X.dtype.char in np.typecodes['AllFloat'] and not np.isfinite(X.sum())\n",
    "            and not np.isfinite(X).all()):\n",
    "        raise ValueError(\"Input contains NaN, infinity\"\n",
    "                         \" or a value too large for %r.\" % X.dtype)"
   ]
  },
  {
   "cell_type": "code",
   "execution_count": 66,
   "metadata": {
    "colab": {},
    "colab_type": "code",
    "id": "ms_dLM-ZTYNo"
   },
   "outputs": [
    {
     "ename": "ValueError",
     "evalue": "Input contains NaN, infinity or a value too large for dtype('float64').",
     "output_type": "error",
     "traceback": [
      "\u001b[1;31m---------------------------------------------------------------------------\u001b[0m",
      "\u001b[1;31mValueError\u001b[0m                                Traceback (most recent call last)",
      "\u001b[1;32m<ipython-input-66-2ca8d14e9ed8>\u001b[0m in \u001b[0;36m<module>\u001b[1;34m\u001b[0m\n\u001b[1;32m----> 1\u001b[1;33m \u001b[0m_assert_all_finite\u001b[0m\u001b[1;33m(\u001b[0m\u001b[0my_train\u001b[0m\u001b[1;33m)\u001b[0m \u001b[1;31m#Asserting if the y_train dataset has infinite objects, and if yes we replace them\u001b[0m\u001b[1;33m\u001b[0m\u001b[1;33m\u001b[0m\u001b[0m\n\u001b[0m",
      "\u001b[1;32m<ipython-input-65-aa5ae2cbcbb0>\u001b[0m in \u001b[0;36m_assert_all_finite\u001b[1;34m(X)\u001b[0m\n\u001b[0;32m      8\u001b[0m             and not np.isfinite(X).all()):\n\u001b[0;32m      9\u001b[0m         raise ValueError(\"Input contains NaN, infinity\"\n\u001b[1;32m---> 10\u001b[1;33m                          \" or a value too large for %r.\" % X.dtype)\n\u001b[0m",
      "\u001b[1;31mValueError\u001b[0m: Input contains NaN, infinity or a value too large for dtype('float64')."
     ]
    }
   ],
   "source": [
    "_assert_all_finite(y_train) #Asserting if the y_train dataset has infinite objects, and if yes we replace them"
   ]
  },
  {
   "cell_type": "code",
   "execution_count": 67,
   "metadata": {
    "colab": {},
    "colab_type": "code",
    "id": "o9eGduiGTGJN"
   },
   "outputs": [],
   "source": [
    "#Replacing the infinite objects with nan values\n",
    "y_train.replace([np.inf, -np.inf], np.nan, inplace=True) "
   ]
  },
  {
   "cell_type": "code",
   "execution_count": 68,
   "metadata": {
    "colab": {},
    "colab_type": "code",
    "id": "_9tdyNmzTi3F"
   },
   "outputs": [],
   "source": [
    "#Now we will replace the nan values with the mean\n",
    "y_train.fillna(8.72337779729373, inplace=True)"
   ]
  },
  {
   "cell_type": "markdown",
   "metadata": {
    "colab_type": "text",
    "id": "kLl2vOPUh_gu"
   },
   "source": [
    "**2.6  Setting up the RandomForestRegressor object**"
   ]
  },
  {
   "cell_type": "code",
   "execution_count": 69,
   "metadata": {
    "colab": {
     "base_uri": "https://localhost:8080/",
     "height": 136
    },
    "colab_type": "code",
    "id": "2AzbBD0mPIz4",
    "outputId": "cf4b7bf1-751e-4668-cc7f-0913ca31d28e"
   },
   "outputs": [
    {
     "data": {
      "text/plain": [
       "RandomForestRegressor(bootstrap=True, criterion='mse', max_depth=None,\n",
       "                      max_features='auto', max_leaf_nodes=None,\n",
       "                      min_impurity_decrease=0.0, min_impurity_split=None,\n",
       "                      min_samples_leaf=1, min_samples_split=2,\n",
       "                      min_weight_fraction_leaf=0.0, n_estimators=10,\n",
       "                      n_jobs=None, oob_score=False, random_state=0, verbose=0,\n",
       "                      warm_start=False)"
      ]
     },
     "execution_count": 69,
     "metadata": {},
     "output_type": "execute_result"
    }
   ],
   "source": [
    "\n",
    "regressor = RandomForestRegressor(n_estimators=10, \n",
    "                             criterion='mse',random_state=0)\n",
    "regressor.fit(X_train, y_train)\n"
   ]
  },
  {
   "cell_type": "code",
   "execution_count": 70,
   "metadata": {
    "colab": {},
    "colab_type": "code",
    "id": "8gvm0Qe4JYXH"
   },
   "outputs": [],
   "source": [
    "# save the model to disk using pickle\n",
    "filename = 'finalized_model.sav'\n",
    "pickle.dump(regressor, open(filename, 'wb'))"
   ]
  },
  {
   "cell_type": "code",
   "execution_count": 71,
   "metadata": {
    "colab": {
     "base_uri": "https://localhost:8080/",
     "height": 221
    },
    "colab_type": "code",
    "id": "pZuHRhXtPIz7",
    "outputId": "137b9498-76f8-4bc3-b8aa-7255bb1d6a63"
   },
   "outputs": [
    {
     "name": "stdout",
     "output_type": "stream",
     "text": [
      "   sales prediction\n",
      "0          8.694410\n",
      "1          8.723378\n",
      "2          8.215211\n",
      "3          8.512098\n",
      "4          8.451766\n"
     ]
    },
    {
     "data": {
      "text/plain": [
       "991178    8.581669\n",
       "4941          -inf\n",
       "493413    8.271548\n",
       "264865    8.488999\n",
       "737476    8.558143\n",
       "Name: Sales, dtype: float64"
      ]
     },
     "execution_count": 71,
     "metadata": {},
     "output_type": "execute_result"
    }
   ],
   "source": [
    "#Predicting using the regressor model\n",
    "y_pred = regressor.predict(X_test)\n",
    "y_pred_l = pd.DataFrame(y_pred, columns=[\"sales prediction\"]) #Saving the predictions into a dataframe\n",
    "print(y_pred_l.head())\n",
    "y_test.head()"
   ]
  },
  {
   "cell_type": "code",
   "execution_count": 72,
   "metadata": {
    "colab": {},
    "colab_type": "code",
    "id": "NyUpHy8dVTQa"
   },
   "outputs": [],
   "source": [
    "#Replacing the infinite values in y_test dataframe\n",
    "y_test.replace([np.inf, -np.inf], np.nan, inplace=True)"
   ]
  },
  {
   "cell_type": "code",
   "execution_count": 73,
   "metadata": {
    "colab": {
     "base_uri": "https://localhost:8080/",
     "height": 34
    },
    "colab_type": "code",
    "id": "MpQ2VJ-KVbOP",
    "outputId": "f8841264-d8d2-4bbc-d9c5-1514b4318d8a"
   },
   "outputs": [
    {
     "data": {
      "text/plain": [
       "8.72300394846444"
      ]
     },
     "execution_count": 73,
     "metadata": {},
     "output_type": "execute_result"
    }
   ],
   "source": [
    "y_test.mean() #computing the mean"
   ]
  },
  {
   "cell_type": "code",
   "execution_count": 74,
   "metadata": {
    "colab": {},
    "colab_type": "code",
    "id": "toVmuwrxVXe6"
   },
   "outputs": [],
   "source": [
    "#Replacing the nan values with the mean\n",
    "y_test.fillna(8.72300394846444, inplace=True)"
   ]
  },
  {
   "cell_type": "markdown",
   "metadata": {},
   "source": [
    "### Loss Function"
   ]
  },
  {
   "cell_type": "code",
   "execution_count": 75,
   "metadata": {
    "colab": {
     "base_uri": "https://localhost:8080/",
     "height": 68
    },
    "colab_type": "code",
    "id": "4vDen7v4PIz9",
    "outputId": "90aa6d40-8231-4e0a-b2c0-3b2189898538"
   },
   "outputs": [
    {
     "name": "stdout",
     "output_type": "stream",
     "text": [
      "Mean Absolute Error: 0.08720087569974283\n",
      "Mean Squared Error: 0.020071843214432766\n",
      "Root Mean Squared Error: 0.14167513266072054\n"
     ]
    }
   ],
   "source": [
    "# By using loss functions we will know how our model performs\n",
    "\n",
    "print('Mean Absolute Error:', metrics.mean_absolute_error(y_test, y_pred))\n",
    "print('Mean Squared Error:', metrics.mean_squared_error(y_test, y_pred))\n",
    "print('Root Mean Squared Error:', np.sqrt(metrics.mean_squared_error(y_test, y_pred)))"
   ]
  },
  {
   "cell_type": "markdown",
   "metadata": {
    "colab_type": "text",
    "id": "9uVIz7sMT-Jh"
   },
   "source": [
    "**2.7 Feature Importance**"
   ]
  },
  {
   "cell_type": "markdown",
   "metadata": {
    "colab_type": "text",
    "id": "ZD1OyUUeVZyv"
   },
   "source": [
    "After the preprocessing and encoding steps, we had a total of 25 features and not all of these may be useful in forecasting the sales. Alternatively we can select the top 5 or top 7 features, which had a major contribution in forecasting sales values.\n",
    "\n",
    "If the model performance is similar in both the cases, that is – by using 25 features and by using 5-7 features, then we should use only the top 7 features, in order to keep the model more simple and efficient."
   ]
  },
  {
   "cell_type": "code",
   "execution_count": 76,
   "metadata": {
    "colab": {
     "base_uri": "https://localhost:8080/",
     "height": 431
    },
    "colab_type": "code",
    "id": "cBVBg7V6T9ZC",
    "outputId": "004a1c6c-63dd-4e61-ce3a-fee5e8f697d1"
   },
   "outputs": [
    {
     "data": {
      "image/png": "[encoded data removed]",
      "text/plain": [
       "<Figure size 720x504 with 1 Axes>"
      ]
     },
     "metadata": {},
     "output_type": "display_data"
    }
   ],
   "source": [
    "# plot the 7 most important features \n",
    "plt.figure(figsize=(10,7))\n",
    "feat_importances = pd.Series(regressor.feature_importances_, index = X.columns)\n",
    "feat_importances.nlargest(10).plot(kind='barh');"
   ]
  },
  {
   "cell_type": "markdown",
   "metadata": {
    "colab_type": "text",
    "id": "R4GIQtkmV5G6"
   },
   "source": [
    "Now, we are going to train the same random forest model using these 7 features only"
   ]
  },
  {
   "cell_type": "code",
   "execution_count": 77,
   "metadata": {
    "colab": {
     "base_uri": "https://localhost:8080/",
     "height": 224
    },
    "colab_type": "code",
    "id": "dGlbX56LWHCY",
    "outputId": "6958e08f-a957-44e4-f8d6-f983c84a9964"
   },
   "outputs": [
    {
     "data": {
      "text/html": [
       "<div>\n",
       "<style scoped>\n",
       "    .dataframe tbody tr th:only-of-type {\n",
       "        vertical-align: middle;\n",
       "    }\n",
       "\n",
       "    .dataframe tbody tr th {\n",
       "        vertical-align: top;\n",
       "    }\n",
       "\n",
       "    .dataframe thead th {\n",
       "        text-align: right;\n",
       "    }\n",
       "</style>\n",
       "<table border=\"1\" class=\"dataframe\">\n",
       "  <thead>\n",
       "    <tr style=\"text-align: right;\">\n",
       "      <th></th>\n",
       "      <th>Weekdays</th>\n",
       "      <th>Weeks</th>\n",
       "      <th>Months</th>\n",
       "      <th>Store</th>\n",
       "      <th>DayOfWeek</th>\n",
       "      <th>Open</th>\n",
       "      <th>Promo</th>\n",
       "      <th>StateHoliday</th>\n",
       "      <th>SchoolHoliday</th>\n",
       "      <th>StoreType_d</th>\n",
       "      <th>...</th>\n",
       "      <th>Assortment_b</th>\n",
       "      <th>CompetitionDistance</th>\n",
       "      <th>Promo2</th>\n",
       "      <th>Promo2SinceWeek</th>\n",
       "      <th>Promo2SinceYear</th>\n",
       "      <th>PromoInterval_Jan,Apr,Jul,Oct</th>\n",
       "      <th>PromoInterval_Mar,Jun,Sept,Dec</th>\n",
       "      <th>PromoInterval_Feb,May,Aug,Nov</th>\n",
       "      <th>Year</th>\n",
       "      <th>CompetitionOpenSince</th>\n",
       "    </tr>\n",
       "  </thead>\n",
       "  <tbody>\n",
       "    <tr>\n",
       "      <th>0</th>\n",
       "      <td>1</td>\n",
       "      <td>23</td>\n",
       "      <td>6</td>\n",
       "      <td>867</td>\n",
       "      <td>3</td>\n",
       "      <td>1</td>\n",
       "      <td>1</td>\n",
       "      <td>0.0</td>\n",
       "      <td>0</td>\n",
       "      <td>1</td>\n",
       "      <td>...</td>\n",
       "      <td>0</td>\n",
       "      <td>21810.0</td>\n",
       "      <td>0</td>\n",
       "      <td>0.0</td>\n",
       "      <td>0.0</td>\n",
       "      <td>1</td>\n",
       "      <td>0</td>\n",
       "      <td>0</td>\n",
       "      <td>2015</td>\n",
       "      <td>33.0</td>\n",
       "    </tr>\n",
       "    <tr>\n",
       "      <th>1</th>\n",
       "      <td>1</td>\n",
       "      <td>23</td>\n",
       "      <td>6</td>\n",
       "      <td>868</td>\n",
       "      <td>3</td>\n",
       "      <td>1</td>\n",
       "      <td>1</td>\n",
       "      <td>0.0</td>\n",
       "      <td>0</td>\n",
       "      <td>1</td>\n",
       "      <td>...</td>\n",
       "      <td>0</td>\n",
       "      <td>1360.0</td>\n",
       "      <td>1</td>\n",
       "      <td>10.0</td>\n",
       "      <td>2014.0</td>\n",
       "      <td>1</td>\n",
       "      <td>0</td>\n",
       "      <td>0</td>\n",
       "      <td>2015</td>\n",
       "      <td>118.0</td>\n",
       "    </tr>\n",
       "    <tr>\n",
       "      <th>2</th>\n",
       "      <td>1</td>\n",
       "      <td>23</td>\n",
       "      <td>6</td>\n",
       "      <td>869</td>\n",
       "      <td>3</td>\n",
       "      <td>1</td>\n",
       "      <td>1</td>\n",
       "      <td>0.0</td>\n",
       "      <td>0</td>\n",
       "      <td>0</td>\n",
       "      <td>...</td>\n",
       "      <td>0</td>\n",
       "      <td>230.0</td>\n",
       "      <td>1</td>\n",
       "      <td>14.0</td>\n",
       "      <td>2011.0</td>\n",
       "      <td>1</td>\n",
       "      <td>0</td>\n",
       "      <td>0</td>\n",
       "      <td>2015</td>\n",
       "      <td>164.0</td>\n",
       "    </tr>\n",
       "    <tr>\n",
       "      <th>3</th>\n",
       "      <td>1</td>\n",
       "      <td>23</td>\n",
       "      <td>6</td>\n",
       "      <td>870</td>\n",
       "      <td>3</td>\n",
       "      <td>1</td>\n",
       "      <td>1</td>\n",
       "      <td>0.0</td>\n",
       "      <td>0</td>\n",
       "      <td>0</td>\n",
       "      <td>...</td>\n",
       "      <td>0</td>\n",
       "      <td>780.0</td>\n",
       "      <td>0</td>\n",
       "      <td>0.0</td>\n",
       "      <td>0.0</td>\n",
       "      <td>1</td>\n",
       "      <td>0</td>\n",
       "      <td>0</td>\n",
       "      <td>2015</td>\n",
       "      <td>74.0</td>\n",
       "    </tr>\n",
       "    <tr>\n",
       "      <th>4</th>\n",
       "      <td>1</td>\n",
       "      <td>23</td>\n",
       "      <td>6</td>\n",
       "      <td>871</td>\n",
       "      <td>3</td>\n",
       "      <td>1</td>\n",
       "      <td>1</td>\n",
       "      <td>0.0</td>\n",
       "      <td>0</td>\n",
       "      <td>1</td>\n",
       "      <td>...</td>\n",
       "      <td>0</td>\n",
       "      <td>10620.0</td>\n",
       "      <td>0</td>\n",
       "      <td>0.0</td>\n",
       "      <td>0.0</td>\n",
       "      <td>1</td>\n",
       "      <td>0</td>\n",
       "      <td>0</td>\n",
       "      <td>2015</td>\n",
       "      <td>0.0</td>\n",
       "    </tr>\n",
       "  </tbody>\n",
       "</table>\n",
       "<p>5 rows × 25 columns</p>\n",
       "</div>"
      ],
      "text/plain": [
       "   Weekdays  Weeks  Months  Store  DayOfWeek  Open  Promo  StateHoliday  \\\n",
       "0         1     23       6    867          3     1      1           0.0   \n",
       "1         1     23       6    868          3     1      1           0.0   \n",
       "2         1     23       6    869          3     1      1           0.0   \n",
       "3         1     23       6    870          3     1      1           0.0   \n",
       "4         1     23       6    871          3     1      1           0.0   \n",
       "\n",
       "   SchoolHoliday  StoreType_d  ...  Assortment_b  CompetitionDistance  Promo2  \\\n",
       "0              0            1  ...             0              21810.0       0   \n",
       "1              0            1  ...             0               1360.0       1   \n",
       "2              0            0  ...             0                230.0       1   \n",
       "3              0            0  ...             0                780.0       0   \n",
       "4              0            1  ...             0              10620.0       0   \n",
       "\n",
       "   Promo2SinceWeek  Promo2SinceYear  PromoInterval_Jan,Apr,Jul,Oct  \\\n",
       "0              0.0              0.0                              1   \n",
       "1             10.0           2014.0                              1   \n",
       "2             14.0           2011.0                              1   \n",
       "3              0.0              0.0                              1   \n",
       "4              0.0              0.0                              1   \n",
       "\n",
       "   PromoInterval_Mar,Jun,Sept,Dec  PromoInterval_Feb,May,Aug,Nov  Year  \\\n",
       "0                               0                              0  2015   \n",
       "1                               0                              0  2015   \n",
       "2                               0                              0  2015   \n",
       "3                               0                              0  2015   \n",
       "4                               0                              0  2015   \n",
       "\n",
       "   CompetitionOpenSince  \n",
       "0                  33.0  \n",
       "1                 118.0  \n",
       "2                 164.0  \n",
       "3                  74.0  \n",
       "4                   0.0  \n",
       "\n",
       "[5 rows x 25 columns]"
      ]
     },
     "execution_count": 77,
     "metadata": {},
     "output_type": "execute_result"
    }
   ],
   "source": [
    "X.head()"
   ]
  },
  {
   "cell_type": "code",
   "execution_count": 78,
   "metadata": {
    "colab": {},
    "colab_type": "code",
    "id": "xKk2UVawWOwe"
   },
   "outputs": [],
   "source": [
    "X_data=X[['CompetitionDistance','Store','Promo','CompetitionOpenSince','Weeks','DayOfWeek','Promo2SinceYear','StoreType_a','Open']]"
   ]
  },
  {
   "cell_type": "code",
   "execution_count": 79,
   "metadata": {
    "colab": {
     "base_uri": "https://localhost:8080/",
     "height": 255
    },
    "colab_type": "code",
    "id": "zyE4jQesX9up",
    "outputId": "e022e0aa-7378-4de3-b3a9-c529ca0fc051"
   },
   "outputs": [
    {
     "name": "stderr",
     "output_type": "stream",
     "text": [
      "C:\\Users\\HP\\Anaconda3\\lib\\site-packages\\ipykernel_launcher.py:1: RuntimeWarning: divide by zero encountered in log\n",
      "  \"\"\"Entry point for launching an IPython kernel.\n"
     ]
    },
    {
     "data": {
      "text/plain": [
       "0          8.631949\n",
       "1          9.510445\n",
       "2          8.854665\n",
       "3          8.976009\n",
       "4          9.126741\n",
       "5          9.299358\n",
       "6          8.451053\n",
       "7          8.579604\n",
       "8          8.963288\n",
       "9          9.346705\n",
       "10         8.974365\n",
       "11         9.169414\n",
       "12         8.547722\n",
       "13         9.132163\n",
       "14         8.692826\n",
       "15         8.970178\n",
       "16         8.743053\n",
       "17         8.976389\n",
       "18         8.946635\n",
       "19         9.086816\n",
       "20         9.083189\n",
       "21         9.238733\n",
       "22         8.427925\n",
       "23         9.040382\n",
       "24         9.117677\n",
       "25         8.978030\n",
       "26         8.986697\n",
       "27         9.395242\n",
       "28         9.367857\n",
       "29         8.910990\n",
       "             ...   \n",
       "1017179    8.629450\n",
       "1017180    9.195836\n",
       "1017181    8.532279\n",
       "1017182    8.993552\n",
       "1017183    8.054840\n",
       "1017184    8.655911\n",
       "1017185    9.257796\n",
       "1017186    8.829958\n",
       "1017187    8.771990\n",
       "1017188    9.402447\n",
       "1017189    8.958025\n",
       "1017190    9.101306\n",
       "1017191    9.282010\n",
       "1017192    9.042158\n",
       "1017193    8.740657\n",
       "1017194    8.529122\n",
       "1017195    9.310729\n",
       "1017196    8.787983\n",
       "1017197    8.950533\n",
       "1017198    9.047233\n",
       "1017199    9.161150\n",
       "1017200    8.705165\n",
       "1017201    9.094480\n",
       "1017202    8.819370\n",
       "1017203    8.564268\n",
       "1017204    9.215626\n",
       "1017205    9.099297\n",
       "1017206    8.712102\n",
       "1017207    9.339964\n",
       "1017208    9.097955\n",
       "Name: Sales, Length: 1017209, dtype: float64"
      ]
     },
     "execution_count": 79,
     "metadata": {},
     "output_type": "execute_result"
    }
   ],
   "source": [
    "y_target=np.log(train_data.Sales)\n",
    "y_target"
   ]
  },
  {
   "cell_type": "code",
   "execution_count": 80,
   "metadata": {
    "colab": {
     "base_uri": "https://localhost:8080/",
     "height": 34
    },
    "colab_type": "code",
    "id": "9HxVZ7-FXf6y",
    "outputId": "726ea6ed-2c73-4b34-e54d-655b5fae5b01"
   },
   "outputs": [
    {
     "name": "stdout",
     "output_type": "stream",
     "text": [
      "Training and testing split was successful.\n"
     ]
    }
   ],
   "source": [
    "X_data_train, X_data_test, y_data_train, y_data_test = train_test_split(X_data, y_target, test_size=0.20, random_state=15)\n",
    "print (\"Training and testing split was successful.\")"
   ]
  },
  {
   "cell_type": "code",
   "execution_count": 81,
   "metadata": {
    "colab": {},
    "colab_type": "code",
    "id": "Uf1Q8NEjYMAI"
   },
   "outputs": [],
   "source": [
    "# Feature Scaling\n",
    "from sklearn.preprocessing import StandardScaler\n",
    "\n",
    "sc = StandardScaler()\n",
    "X_data_train = sc.fit_transform(X_data_train)\n",
    "X_data_test = sc.transform(X_data_test)"
   ]
  },
  {
   "cell_type": "code",
   "execution_count": 82,
   "metadata": {
    "colab": {},
    "colab_type": "code",
    "id": "eSfRRTypYYJW"
   },
   "outputs": [],
   "source": [
    "y_data_train.replace([np.inf, -np.inf], np.nan, inplace=True)"
   ]
  },
  {
   "cell_type": "code",
   "execution_count": 83,
   "metadata": {
    "colab": {
     "base_uri": "https://localhost:8080/",
     "height": 34
    },
    "colab_type": "code",
    "id": "De04JIOKYj-i",
    "outputId": "04e3e2ee-6a35-4f28-bb07-9f84a3fbaa29"
   },
   "outputs": [
    {
     "data": {
      "text/plain": [
       "8.72337779729373"
      ]
     },
     "execution_count": 83,
     "metadata": {},
     "output_type": "execute_result"
    }
   ],
   "source": [
    "y_data_train.mean()"
   ]
  },
  {
   "cell_type": "code",
   "execution_count": 84,
   "metadata": {
    "colab": {},
    "colab_type": "code",
    "id": "A1Whr7IyYuwK"
   },
   "outputs": [],
   "source": [
    "y_data_train.fillna(8.72337779729373, inplace=True)"
   ]
  },
  {
   "cell_type": "code",
   "execution_count": 85,
   "metadata": {
    "colab": {
     "base_uri": "https://localhost:8080/",
     "height": 136
    },
    "colab_type": "code",
    "id": "8dZH4-t0Yy0r",
    "outputId": "d1374ac4-8994-49cf-bcfe-3e84d5b2a54d"
   },
   "outputs": [
    {
     "data": {
      "text/plain": [
       "RandomForestRegressor(bootstrap=True, criterion='mse', max_depth=None,\n",
       "                      max_features='auto', max_leaf_nodes=None,\n",
       "                      min_impurity_decrease=0.0, min_impurity_split=None,\n",
       "                      min_samples_leaf=1, min_samples_split=2,\n",
       "                      min_weight_fraction_leaf=0.0, n_estimators=10,\n",
       "                      n_jobs=None, oob_score=False, random_state=0, verbose=0,\n",
       "                      warm_start=False)"
      ]
     },
     "execution_count": 85,
     "metadata": {},
     "output_type": "execute_result"
    }
   ],
   "source": [
    "from sklearn.ensemble import RandomForestRegressor\n",
    "regressor1 = RandomForestRegressor(n_estimators=10, \n",
    "                             criterion='mse',random_state=0)\n",
    "regressor1.fit(X_data_train, y_data_train)"
   ]
  },
  {
   "cell_type": "code",
   "execution_count": 86,
   "metadata": {
    "colab": {},
    "colab_type": "code",
    "id": "RLaEzzihZDnV"
   },
   "outputs": [],
   "source": [
    "# save the new model to disk\n",
    "filename = 'finalized1_model.sav'\n",
    "pickle.dump(regressor1, open(filename, 'wb'))"
   ]
  },
  {
   "cell_type": "code",
   "execution_count": 87,
   "metadata": {
    "colab": {
     "base_uri": "https://localhost:8080/",
     "height": 221
    },
    "colab_type": "code",
    "id": "_ucoO3JiZQV6",
    "outputId": "626ea054-ecd0-45c9-d8b4-53d2a8941562"
   },
   "outputs": [
    {
     "name": "stdout",
     "output_type": "stream",
     "text": [
      "   sales prediction\n",
      "0          8.742488\n",
      "1          8.723378\n",
      "2          8.220179\n",
      "3          8.502274\n",
      "4          8.481200\n"
     ]
    },
    {
     "data": {
      "text/plain": [
       "991178    8.581669\n",
       "4941          -inf\n",
       "493413    8.271548\n",
       "264865    8.488999\n",
       "737476    8.558143\n",
       "Name: Sales, dtype: float64"
      ]
     },
     "execution_count": 87,
     "metadata": {},
     "output_type": "execute_result"
    }
   ],
   "source": [
    "#Predicting\n",
    "y_pred1 = regressor1.predict(X_data_test)\n",
    "y_pred_2 = pd.DataFrame(y_pred1, columns=[\"sales prediction\"])\n",
    "print(y_pred_2.head())\n",
    "y_data_test.head()"
   ]
  },
  {
   "cell_type": "code",
   "execution_count": 93,
   "metadata": {
    "colab": {},
    "colab_type": "code",
    "id": "XeL2juLNZi2z"
   },
   "outputs": [],
   "source": [
    "#Replacing the inf values with the nan values\n",
    "y_data_test.replace([np.inf, -np.inf], np.nan, inplace=True)"
   ]
  },
  {
   "cell_type": "code",
   "execution_count": 94,
   "metadata": {
    "colab": {
     "base_uri": "https://localhost:8080/",
     "height": 34
    },
    "colab_type": "code",
    "id": "0675a9LyZson",
    "outputId": "088bf1f2-633d-4707-cc41-109920c7480f"
   },
   "outputs": [
    {
     "data": {
      "text/plain": [
       "8.72300394846444"
      ]
     },
     "execution_count": 94,
     "metadata": {},
     "output_type": "execute_result"
    }
   ],
   "source": [
    "y_data_test.mean() #Computing the mean"
   ]
  },
  {
   "cell_type": "code",
   "execution_count": 95,
   "metadata": {
    "colab": {},
    "colab_type": "code",
    "id": "nhOHUc5jZnkk"
   },
   "outputs": [],
   "source": [
    "#Replacing the nan values using the mean\n",
    "y_test.fillna(8.72300394846444, inplace=True)"
   ]
  },
  {
   "cell_type": "markdown",
   "metadata": {
    "colab": {},
    "colab_type": "code",
    "id": "EnGsutq5amsr"
   },
   "source": [
    "### LOSS FUNCTION"
   ]
  },
  {
   "cell_type": "code",
   "execution_count": 92,
   "metadata": {
    "colab": {},
    "colab_type": "code",
    "id": "Q_mp_tSSZ1Vo"
   },
   "outputs": [
    {
     "ename": "ValueError",
     "evalue": "Input contains NaN, infinity or a value too large for dtype('float64').",
     "output_type": "error",
     "traceback": [
      "\u001b[1;31m---------------------------------------------------------------------------\u001b[0m",
      "\u001b[1;31mValueError\u001b[0m                                Traceback (most recent call last)",
      "\u001b[1;32m<ipython-input-92-8bc7f5d29016>\u001b[0m in \u001b[0;36m<module>\u001b[1;34m\u001b[0m\n\u001b[0;32m      1\u001b[0m \u001b[1;31m#Computing different loss functions\u001b[0m\u001b[1;33m\u001b[0m\u001b[1;33m\u001b[0m\u001b[1;33m\u001b[0m\u001b[0m\n\u001b[0;32m      2\u001b[0m \u001b[1;33m\u001b[0m\u001b[0m\n\u001b[1;32m----> 3\u001b[1;33m \u001b[0mprint\u001b[0m\u001b[1;33m(\u001b[0m\u001b[1;34m'Mean Absolute Error:'\u001b[0m\u001b[1;33m,\u001b[0m \u001b[0mmetrics\u001b[0m\u001b[1;33m.\u001b[0m\u001b[0mmean_absolute_error\u001b[0m\u001b[1;33m(\u001b[0m\u001b[0my_data_test\u001b[0m\u001b[1;33m,\u001b[0m \u001b[0my_pred1\u001b[0m\u001b[1;33m)\u001b[0m\u001b[1;33m)\u001b[0m\u001b[1;33m\u001b[0m\u001b[1;33m\u001b[0m\u001b[0m\n\u001b[0m\u001b[0;32m      4\u001b[0m \u001b[0mprint\u001b[0m\u001b[1;33m(\u001b[0m\u001b[1;34m'Mean Squared Error:'\u001b[0m\u001b[1;33m,\u001b[0m \u001b[0mmetrics\u001b[0m\u001b[1;33m.\u001b[0m\u001b[0mmean_squared_error\u001b[0m\u001b[1;33m(\u001b[0m\u001b[0my_data_test\u001b[0m\u001b[1;33m,\u001b[0m \u001b[0my_pred1\u001b[0m\u001b[1;33m)\u001b[0m\u001b[1;33m)\u001b[0m\u001b[1;33m\u001b[0m\u001b[1;33m\u001b[0m\u001b[0m\n\u001b[0;32m      5\u001b[0m \u001b[0mprint\u001b[0m\u001b[1;33m(\u001b[0m\u001b[1;34m'Root Mean Squared Error:'\u001b[0m\u001b[1;33m,\u001b[0m \u001b[0mnp\u001b[0m\u001b[1;33m.\u001b[0m\u001b[0msqrt\u001b[0m\u001b[1;33m(\u001b[0m\u001b[0mmetrics\u001b[0m\u001b[1;33m.\u001b[0m\u001b[0mmean_squared_error\u001b[0m\u001b[1;33m(\u001b[0m\u001b[0my_data_test\u001b[0m\u001b[1;33m,\u001b[0m \u001b[0my_pred1\u001b[0m\u001b[1;33m)\u001b[0m\u001b[1;33m)\u001b[0m\u001b[1;33m)\u001b[0m\u001b[1;33m\u001b[0m\u001b[1;33m\u001b[0m\u001b[0m\n",
      "\u001b[1;32m~\\Anaconda3\\lib\\site-packages\\sklearn\\metrics\\regression.py\u001b[0m in \u001b[0;36mmean_absolute_error\u001b[1;34m(y_true, y_pred, sample_weight, multioutput)\u001b[0m\n\u001b[0;32m    170\u001b[0m     \"\"\"\n\u001b[0;32m    171\u001b[0m     y_type, y_true, y_pred, multioutput = _check_reg_targets(\n\u001b[1;32m--> 172\u001b[1;33m         y_true, y_pred, multioutput)\n\u001b[0m\u001b[0;32m    173\u001b[0m     \u001b[0mcheck_consistent_length\u001b[0m\u001b[1;33m(\u001b[0m\u001b[0my_true\u001b[0m\u001b[1;33m,\u001b[0m \u001b[0my_pred\u001b[0m\u001b[1;33m,\u001b[0m \u001b[0msample_weight\u001b[0m\u001b[1;33m)\u001b[0m\u001b[1;33m\u001b[0m\u001b[1;33m\u001b[0m\u001b[0m\n\u001b[0;32m    174\u001b[0m     output_errors = np.average(np.abs(y_pred - y_true),\n",
      "\u001b[1;32m~\\Anaconda3\\lib\\site-packages\\sklearn\\metrics\\regression.py\u001b[0m in \u001b[0;36m_check_reg_targets\u001b[1;34m(y_true, y_pred, multioutput)\u001b[0m\n\u001b[0;32m     76\u001b[0m     \"\"\"\n\u001b[0;32m     77\u001b[0m     \u001b[0mcheck_consistent_length\u001b[0m\u001b[1;33m(\u001b[0m\u001b[0my_true\u001b[0m\u001b[1;33m,\u001b[0m \u001b[0my_pred\u001b[0m\u001b[1;33m)\u001b[0m\u001b[1;33m\u001b[0m\u001b[1;33m\u001b[0m\u001b[0m\n\u001b[1;32m---> 78\u001b[1;33m     \u001b[0my_true\u001b[0m \u001b[1;33m=\u001b[0m \u001b[0mcheck_array\u001b[0m\u001b[1;33m(\u001b[0m\u001b[0my_true\u001b[0m\u001b[1;33m,\u001b[0m \u001b[0mensure_2d\u001b[0m\u001b[1;33m=\u001b[0m\u001b[1;32mFalse\u001b[0m\u001b[1;33m)\u001b[0m\u001b[1;33m\u001b[0m\u001b[1;33m\u001b[0m\u001b[0m\n\u001b[0m\u001b[0;32m     79\u001b[0m     \u001b[0my_pred\u001b[0m \u001b[1;33m=\u001b[0m \u001b[0mcheck_array\u001b[0m\u001b[1;33m(\u001b[0m\u001b[0my_pred\u001b[0m\u001b[1;33m,\u001b[0m \u001b[0mensure_2d\u001b[0m\u001b[1;33m=\u001b[0m\u001b[1;32mFalse\u001b[0m\u001b[1;33m)\u001b[0m\u001b[1;33m\u001b[0m\u001b[1;33m\u001b[0m\u001b[0m\n\u001b[0;32m     80\u001b[0m \u001b[1;33m\u001b[0m\u001b[0m\n",
      "\u001b[1;32m~\\Anaconda3\\lib\\site-packages\\sklearn\\utils\\validation.py\u001b[0m in \u001b[0;36mcheck_array\u001b[1;34m(array, accept_sparse, accept_large_sparse, dtype, order, copy, force_all_finite, ensure_2d, allow_nd, ensure_min_samples, ensure_min_features, warn_on_dtype, estimator)\u001b[0m\n\u001b[0;32m    540\u001b[0m         \u001b[1;32mif\u001b[0m \u001b[0mforce_all_finite\u001b[0m\u001b[1;33m:\u001b[0m\u001b[1;33m\u001b[0m\u001b[1;33m\u001b[0m\u001b[0m\n\u001b[0;32m    541\u001b[0m             _assert_all_finite(array,\n\u001b[1;32m--> 542\u001b[1;33m                                allow_nan=force_all_finite == 'allow-nan')\n\u001b[0m\u001b[0;32m    543\u001b[0m \u001b[1;33m\u001b[0m\u001b[0m\n\u001b[0;32m    544\u001b[0m     \u001b[1;32mif\u001b[0m \u001b[0mensure_min_samples\u001b[0m \u001b[1;33m>\u001b[0m \u001b[1;36m0\u001b[0m\u001b[1;33m:\u001b[0m\u001b[1;33m\u001b[0m\u001b[1;33m\u001b[0m\u001b[0m\n",
      "\u001b[1;32m~\\Anaconda3\\lib\\site-packages\\sklearn\\utils\\validation.py\u001b[0m in \u001b[0;36m_assert_all_finite\u001b[1;34m(X, allow_nan)\u001b[0m\n\u001b[0;32m     54\u001b[0m                 not allow_nan and not np.isfinite(X).all()):\n\u001b[0;32m     55\u001b[0m             \u001b[0mtype_err\u001b[0m \u001b[1;33m=\u001b[0m \u001b[1;34m'infinity'\u001b[0m \u001b[1;32mif\u001b[0m \u001b[0mallow_nan\u001b[0m \u001b[1;32melse\u001b[0m \u001b[1;34m'NaN, infinity'\u001b[0m\u001b[1;33m\u001b[0m\u001b[1;33m\u001b[0m\u001b[0m\n\u001b[1;32m---> 56\u001b[1;33m             \u001b[1;32mraise\u001b[0m \u001b[0mValueError\u001b[0m\u001b[1;33m(\u001b[0m\u001b[0mmsg_err\u001b[0m\u001b[1;33m.\u001b[0m\u001b[0mformat\u001b[0m\u001b[1;33m(\u001b[0m\u001b[0mtype_err\u001b[0m\u001b[1;33m,\u001b[0m \u001b[0mX\u001b[0m\u001b[1;33m.\u001b[0m\u001b[0mdtype\u001b[0m\u001b[1;33m)\u001b[0m\u001b[1;33m)\u001b[0m\u001b[1;33m\u001b[0m\u001b[1;33m\u001b[0m\u001b[0m\n\u001b[0m\u001b[0;32m     57\u001b[0m     \u001b[1;31m# for object dtype data, we only check for NaNs (GH-13254)\u001b[0m\u001b[1;33m\u001b[0m\u001b[1;33m\u001b[0m\u001b[1;33m\u001b[0m\u001b[0m\n\u001b[0;32m     58\u001b[0m     \u001b[1;32melif\u001b[0m \u001b[0mX\u001b[0m\u001b[1;33m.\u001b[0m\u001b[0mdtype\u001b[0m \u001b[1;33m==\u001b[0m \u001b[0mnp\u001b[0m\u001b[1;33m.\u001b[0m\u001b[0mdtype\u001b[0m\u001b[1;33m(\u001b[0m\u001b[1;34m'object'\u001b[0m\u001b[1;33m)\u001b[0m \u001b[1;32mand\u001b[0m \u001b[1;32mnot\u001b[0m \u001b[0mallow_nan\u001b[0m\u001b[1;33m:\u001b[0m\u001b[1;33m\u001b[0m\u001b[1;33m\u001b[0m\u001b[0m\n",
      "\u001b[1;31mValueError\u001b[0m: Input contains NaN, infinity or a value too large for dtype('float64')."
     ]
    }
   ],
   "source": [
    "#Computing different loss functions\n",
    "\n",
    "print('Mean Absolute Error:', metrics.mean_absolute_error(y_data_test, y_pred1))\n",
    "print('Mean Squared Error:', metrics.mean_squared_error(y_data_test, y_pred1))\n",
    "print('Root Mean Squared Error:', np.sqrt(metrics.mean_squared_error(y_data_test, y_pred1)))"
   ]
  },
  {
   "cell_type": "markdown",
   "metadata": {
    "colab_type": "text",
    "id": "HCB58HvCTs2i"
   },
   "source": [
    "## Making the Predictions"
   ]
  },
  {
   "cell_type": "code",
   "execution_count": 14,
   "metadata": {
    "colab": {},
    "colab_type": "code",
    "id": "vs_8Yxd6PI0U"
   },
   "outputs": [],
   "source": [
    "test = pd.read_csv(r\"C:\\Users\\HP\\Desktop\\CV, P.Statement and others\\10 Academy\\week 5\\test.csv\\test.csv\", parse_dates=['Date'])\n",
    "store = pd.read_csv(r\"C:\\Users\\HP\\Desktop\\CV, P.Statement and others\\10 Academy\\week 5\\store.csv\")\n"
   ]
  },
  {
   "cell_type": "code",
   "execution_count": 15,
   "metadata": {
    "colab": {},
    "colab_type": "code",
    "id": "ktf6u5Z0PI0Z"
   },
   "outputs": [
    {
     "data": {
      "text/plain": [
       "Id                0\n",
       "Store             0\n",
       "DayOfWeek         0\n",
       "Date              0\n",
       "Open             11\n",
       "Promo             0\n",
       "StateHoliday      0\n",
       "SchoolHoliday     0\n",
       "dtype: int64"
      ]
     },
     "execution_count": 15,
     "metadata": {},
     "output_type": "execute_result"
    }
   ],
   "source": [
    "test.isnull().sum()"
   ]
  },
  {
   "cell_type": "code",
   "execution_count": 16,
   "metadata": {
    "colab": {},
    "colab_type": "code",
    "id": "_LjYF_chPI0b"
   },
   "outputs": [],
   "source": [
    "test.fillna(1, inplace = True)"
   ]
  },
  {
   "cell_type": "code",
   "execution_count": 17,
   "metadata": {
    "colab": {},
    "colab_type": "code",
    "id": "VwbGioO1_TZN"
   },
   "outputs": [],
   "source": [
    "test['Months']=test.Date.dt.month\n",
    "test['Year']=test.Date.dt.year\n",
    "test['week']=test.Date.dt.week\n",
    "test['weekday']=test.Date.dt.weekday"
   ]
  },
  {
   "cell_type": "code",
   "execution_count": 18,
   "metadata": {
    "colab": {},
    "colab_type": "code",
    "id": "SRfQXMyD_TZR"
   },
   "outputs": [
    {
     "data": {
      "text/html": [
       "<div>\n",
       "<style scoped>\n",
       "    .dataframe tbody tr th:only-of-type {\n",
       "        vertical-align: middle;\n",
       "    }\n",
       "\n",
       "    .dataframe tbody tr th {\n",
       "        vertical-align: top;\n",
       "    }\n",
       "\n",
       "    .dataframe thead th {\n",
       "        text-align: right;\n",
       "    }\n",
       "</style>\n",
       "<table border=\"1\" class=\"dataframe\">\n",
       "  <thead>\n",
       "    <tr style=\"text-align: right;\">\n",
       "      <th></th>\n",
       "      <th>Id</th>\n",
       "      <th>Store</th>\n",
       "      <th>DayOfWeek</th>\n",
       "      <th>Date</th>\n",
       "      <th>Open</th>\n",
       "      <th>Promo</th>\n",
       "      <th>StateHoliday</th>\n",
       "      <th>SchoolHoliday</th>\n",
       "      <th>Months</th>\n",
       "      <th>Year</th>\n",
       "      <th>week</th>\n",
       "      <th>weekday</th>\n",
       "    </tr>\n",
       "  </thead>\n",
       "  <tbody>\n",
       "    <tr>\n",
       "      <th>0</th>\n",
       "      <td>1</td>\n",
       "      <td>1</td>\n",
       "      <td>4</td>\n",
       "      <td>2015-09-17</td>\n",
       "      <td>1.0</td>\n",
       "      <td>1</td>\n",
       "      <td>0</td>\n",
       "      <td>0</td>\n",
       "      <td>9</td>\n",
       "      <td>2015</td>\n",
       "      <td>38</td>\n",
       "      <td>3</td>\n",
       "    </tr>\n",
       "    <tr>\n",
       "      <th>1</th>\n",
       "      <td>2</td>\n",
       "      <td>3</td>\n",
       "      <td>4</td>\n",
       "      <td>2015-09-17</td>\n",
       "      <td>1.0</td>\n",
       "      <td>1</td>\n",
       "      <td>0</td>\n",
       "      <td>0</td>\n",
       "      <td>9</td>\n",
       "      <td>2015</td>\n",
       "      <td>38</td>\n",
       "      <td>3</td>\n",
       "    </tr>\n",
       "    <tr>\n",
       "      <th>2</th>\n",
       "      <td>3</td>\n",
       "      <td>7</td>\n",
       "      <td>4</td>\n",
       "      <td>2015-09-17</td>\n",
       "      <td>1.0</td>\n",
       "      <td>1</td>\n",
       "      <td>0</td>\n",
       "      <td>0</td>\n",
       "      <td>9</td>\n",
       "      <td>2015</td>\n",
       "      <td>38</td>\n",
       "      <td>3</td>\n",
       "    </tr>\n",
       "    <tr>\n",
       "      <th>3</th>\n",
       "      <td>4</td>\n",
       "      <td>8</td>\n",
       "      <td>4</td>\n",
       "      <td>2015-09-17</td>\n",
       "      <td>1.0</td>\n",
       "      <td>1</td>\n",
       "      <td>0</td>\n",
       "      <td>0</td>\n",
       "      <td>9</td>\n",
       "      <td>2015</td>\n",
       "      <td>38</td>\n",
       "      <td>3</td>\n",
       "    </tr>\n",
       "    <tr>\n",
       "      <th>4</th>\n",
       "      <td>5</td>\n",
       "      <td>9</td>\n",
       "      <td>4</td>\n",
       "      <td>2015-09-17</td>\n",
       "      <td>1.0</td>\n",
       "      <td>1</td>\n",
       "      <td>0</td>\n",
       "      <td>0</td>\n",
       "      <td>9</td>\n",
       "      <td>2015</td>\n",
       "      <td>38</td>\n",
       "      <td>3</td>\n",
       "    </tr>\n",
       "  </tbody>\n",
       "</table>\n",
       "</div>"
      ],
      "text/plain": [
       "   Id  Store  DayOfWeek       Date  Open  Promo StateHoliday  SchoolHoliday  \\\n",
       "0   1      1          4 2015-09-17   1.0      1            0              0   \n",
       "1   2      3          4 2015-09-17   1.0      1            0              0   \n",
       "2   3      7          4 2015-09-17   1.0      1            0              0   \n",
       "3   4      8          4 2015-09-17   1.0      1            0              0   \n",
       "4   5      9          4 2015-09-17   1.0      1            0              0   \n",
       "\n",
       "   Months  Year  week  weekday  \n",
       "0       9  2015    38        3  \n",
       "1       9  2015    38        3  \n",
       "2       9  2015    38        3  \n",
       "3       9  2015    38        3  \n",
       "4       9  2015    38        3  "
      ]
     },
     "execution_count": 18,
     "metadata": {},
     "output_type": "execute_result"
    }
   ],
   "source": [
    "test.head()"
   ]
  },
  {
   "cell_type": "code",
   "execution_count": 19,
   "metadata": {
    "colab": {},
    "colab_type": "code",
    "id": "FaZ23BwB_TZU"
   },
   "outputs": [],
   "source": [
    "#merging test and store data\n",
    "test_data = pd.merge(test, store, how = 'left', on = 'Store')"
   ]
  },
  {
   "cell_type": "code",
   "execution_count": 20,
   "metadata": {
    "colab": {},
    "colab_type": "code",
    "id": "gWNxdy7w_TZW"
   },
   "outputs": [
    {
     "data": {
      "text/plain": [
       "Id                               0\n",
       "Store                            0\n",
       "DayOfWeek                        0\n",
       "Date                             0\n",
       "Open                             0\n",
       "Promo                            0\n",
       "StateHoliday                     0\n",
       "SchoolHoliday                    0\n",
       "Months                           0\n",
       "Year                             0\n",
       "week                             0\n",
       "weekday                          0\n",
       "StoreType                        0\n",
       "Assortment                       0\n",
       "CompetitionDistance             96\n",
       "CompetitionOpenSinceMonth    15216\n",
       "CompetitionOpenSinceYear     15216\n",
       "Promo2                           0\n",
       "Promo2SinceWeek              17232\n",
       "Promo2SinceYear              17232\n",
       "PromoInterval                17232\n",
       "dtype: int64"
      ]
     },
     "execution_count": 20,
     "metadata": {},
     "output_type": "execute_result"
    }
   ],
   "source": [
    "test_data.isnull().sum()"
   ]
  },
  {
   "cell_type": "code",
   "execution_count": 21,
   "metadata": {
    "colab": {},
    "colab_type": "code",
    "id": "vo8lwD-b_TZa"
   },
   "outputs": [
    {
     "data": {
      "text/html": [
       "<div>\n",
       "<style scoped>\n",
       "    .dataframe tbody tr th:only-of-type {\n",
       "        vertical-align: middle;\n",
       "    }\n",
       "\n",
       "    .dataframe tbody tr th {\n",
       "        vertical-align: top;\n",
       "    }\n",
       "\n",
       "    .dataframe thead th {\n",
       "        text-align: right;\n",
       "    }\n",
       "</style>\n",
       "<table border=\"1\" class=\"dataframe\">\n",
       "  <thead>\n",
       "    <tr style=\"text-align: right;\">\n",
       "      <th></th>\n",
       "      <th>Id</th>\n",
       "      <th>Store</th>\n",
       "      <th>DayOfWeek</th>\n",
       "      <th>Date</th>\n",
       "      <th>Open</th>\n",
       "      <th>Promo</th>\n",
       "      <th>StateHoliday</th>\n",
       "      <th>SchoolHoliday</th>\n",
       "      <th>Months</th>\n",
       "      <th>Year</th>\n",
       "      <th>...</th>\n",
       "      <th>weekday</th>\n",
       "      <th>StoreType</th>\n",
       "      <th>Assortment</th>\n",
       "      <th>CompetitionDistance</th>\n",
       "      <th>CompetitionOpenSinceMonth</th>\n",
       "      <th>CompetitionOpenSinceYear</th>\n",
       "      <th>Promo2</th>\n",
       "      <th>Promo2SinceWeek</th>\n",
       "      <th>Promo2SinceYear</th>\n",
       "      <th>PromoInterval</th>\n",
       "    </tr>\n",
       "  </thead>\n",
       "  <tbody>\n",
       "    <tr>\n",
       "      <th>0</th>\n",
       "      <td>1</td>\n",
       "      <td>1</td>\n",
       "      <td>4</td>\n",
       "      <td>2015-09-17</td>\n",
       "      <td>1.0</td>\n",
       "      <td>1</td>\n",
       "      <td>0</td>\n",
       "      <td>0</td>\n",
       "      <td>9</td>\n",
       "      <td>2015</td>\n",
       "      <td>...</td>\n",
       "      <td>3</td>\n",
       "      <td>c</td>\n",
       "      <td>a</td>\n",
       "      <td>1270.0</td>\n",
       "      <td>9.0</td>\n",
       "      <td>2008.0</td>\n",
       "      <td>0</td>\n",
       "      <td>NaN</td>\n",
       "      <td>NaN</td>\n",
       "      <td>NaN</td>\n",
       "    </tr>\n",
       "    <tr>\n",
       "      <th>1</th>\n",
       "      <td>2</td>\n",
       "      <td>3</td>\n",
       "      <td>4</td>\n",
       "      <td>2015-09-17</td>\n",
       "      <td>1.0</td>\n",
       "      <td>1</td>\n",
       "      <td>0</td>\n",
       "      <td>0</td>\n",
       "      <td>9</td>\n",
       "      <td>2015</td>\n",
       "      <td>...</td>\n",
       "      <td>3</td>\n",
       "      <td>a</td>\n",
       "      <td>a</td>\n",
       "      <td>14130.0</td>\n",
       "      <td>12.0</td>\n",
       "      <td>2006.0</td>\n",
       "      <td>1</td>\n",
       "      <td>14.0</td>\n",
       "      <td>2011.0</td>\n",
       "      <td>Jan,Apr,Jul,Oct</td>\n",
       "    </tr>\n",
       "    <tr>\n",
       "      <th>2</th>\n",
       "      <td>3</td>\n",
       "      <td>7</td>\n",
       "      <td>4</td>\n",
       "      <td>2015-09-17</td>\n",
       "      <td>1.0</td>\n",
       "      <td>1</td>\n",
       "      <td>0</td>\n",
       "      <td>0</td>\n",
       "      <td>9</td>\n",
       "      <td>2015</td>\n",
       "      <td>...</td>\n",
       "      <td>3</td>\n",
       "      <td>a</td>\n",
       "      <td>c</td>\n",
       "      <td>24000.0</td>\n",
       "      <td>4.0</td>\n",
       "      <td>2013.0</td>\n",
       "      <td>0</td>\n",
       "      <td>NaN</td>\n",
       "      <td>NaN</td>\n",
       "      <td>NaN</td>\n",
       "    </tr>\n",
       "    <tr>\n",
       "      <th>3</th>\n",
       "      <td>4</td>\n",
       "      <td>8</td>\n",
       "      <td>4</td>\n",
       "      <td>2015-09-17</td>\n",
       "      <td>1.0</td>\n",
       "      <td>1</td>\n",
       "      <td>0</td>\n",
       "      <td>0</td>\n",
       "      <td>9</td>\n",
       "      <td>2015</td>\n",
       "      <td>...</td>\n",
       "      <td>3</td>\n",
       "      <td>a</td>\n",
       "      <td>a</td>\n",
       "      <td>7520.0</td>\n",
       "      <td>10.0</td>\n",
       "      <td>2014.0</td>\n",
       "      <td>0</td>\n",
       "      <td>NaN</td>\n",
       "      <td>NaN</td>\n",
       "      <td>NaN</td>\n",
       "    </tr>\n",
       "    <tr>\n",
       "      <th>4</th>\n",
       "      <td>5</td>\n",
       "      <td>9</td>\n",
       "      <td>4</td>\n",
       "      <td>2015-09-17</td>\n",
       "      <td>1.0</td>\n",
       "      <td>1</td>\n",
       "      <td>0</td>\n",
       "      <td>0</td>\n",
       "      <td>9</td>\n",
       "      <td>2015</td>\n",
       "      <td>...</td>\n",
       "      <td>3</td>\n",
       "      <td>a</td>\n",
       "      <td>c</td>\n",
       "      <td>2030.0</td>\n",
       "      <td>8.0</td>\n",
       "      <td>2000.0</td>\n",
       "      <td>0</td>\n",
       "      <td>NaN</td>\n",
       "      <td>NaN</td>\n",
       "      <td>NaN</td>\n",
       "    </tr>\n",
       "  </tbody>\n",
       "</table>\n",
       "<p>5 rows × 21 columns</p>\n",
       "</div>"
      ],
      "text/plain": [
       "   Id  Store  DayOfWeek       Date  Open  Promo StateHoliday  SchoolHoliday  \\\n",
       "0   1      1          4 2015-09-17   1.0      1            0              0   \n",
       "1   2      3          4 2015-09-17   1.0      1            0              0   \n",
       "2   3      7          4 2015-09-17   1.0      1            0              0   \n",
       "3   4      8          4 2015-09-17   1.0      1            0              0   \n",
       "4   5      9          4 2015-09-17   1.0      1            0              0   \n",
       "\n",
       "   Months  Year  ...  weekday  StoreType Assortment CompetitionDistance  \\\n",
       "0       9  2015  ...        3          c          a              1270.0   \n",
       "1       9  2015  ...        3          a          a             14130.0   \n",
       "2       9  2015  ...        3          a          c             24000.0   \n",
       "3       9  2015  ...        3          a          a              7520.0   \n",
       "4       9  2015  ...        3          a          c              2030.0   \n",
       "\n",
       "   CompetitionOpenSinceMonth  CompetitionOpenSinceYear  Promo2  \\\n",
       "0                        9.0                    2008.0       0   \n",
       "1                       12.0                    2006.0       1   \n",
       "2                        4.0                    2013.0       0   \n",
       "3                       10.0                    2014.0       0   \n",
       "4                        8.0                    2000.0       0   \n",
       "\n",
       "   Promo2SinceWeek  Promo2SinceYear    PromoInterval  \n",
       "0              NaN              NaN              NaN  \n",
       "1             14.0           2011.0  Jan,Apr,Jul,Oct  \n",
       "2              NaN              NaN              NaN  \n",
       "3              NaN              NaN              NaN  \n",
       "4              NaN              NaN              NaN  \n",
       "\n",
       "[5 rows x 21 columns]"
      ]
     },
     "execution_count": 21,
     "metadata": {},
     "output_type": "execute_result"
    }
   ],
   "source": [
    "test_data.head()"
   ]
  },
  {
   "cell_type": "code",
   "execution_count": 22,
   "metadata": {
    "colab": {},
    "colab_type": "code",
    "id": "3laiF86r_TZb"
   },
   "outputs": [],
   "source": [
    "#dealing with missing values\n",
    "test_data['CompetitionDistance'].fillna(test_data['CompetitionDistance'].median(), inplace = True)"
   ]
  },
  {
   "cell_type": "code",
   "execution_count": 23,
   "metadata": {
    "colab": {},
    "colab_type": "code",
    "id": "23HfsGQx_TZd"
   },
   "outputs": [],
   "source": [
    "test_data.CompetitionOpenSinceMonth.fillna(0, inplace = True)\n",
    "test_data.CompetitionOpenSinceYear.fillna(0,inplace=True)"
   ]
  },
  {
   "cell_type": "code",
   "execution_count": 24,
   "metadata": {
    "colab": {},
    "colab_type": "code",
    "id": "ZFDYkSFj_TZg"
   },
   "outputs": [],
   "source": [
    "test_data.Promo2SinceWeek.fillna(0,inplace=True)\n",
    "test_data.Promo2SinceYear.fillna(0,inplace=True)\n",
    "test_data.PromoInterval.fillna(0,inplace=True)\n"
   ]
  },
  {
   "cell_type": "code",
   "execution_count": 25,
   "metadata": {
    "colab": {},
    "colab_type": "code",
    "id": "OG__KOqyRHcl"
   },
   "outputs": [],
   "source": [
    "test_data['CompetitionOpenSince'] = np.where((test_data['CompetitionOpenSinceMonth']==0) & \n",
    "                                                  (test_data['CompetitionOpenSinceYear']==0) , 0,\n",
    "                                                  (test_data.Months - test_data.CompetitionOpenSinceMonth) \n",
    "                                                  + (12 * (test_data.Year - test_data.CompetitionOpenSinceYear)) )"
   ]
  },
  {
   "cell_type": "code",
   "execution_count": 26,
   "metadata": {
    "colab": {},
    "colab_type": "code",
    "id": "j99hHXzCRTdr"
   },
   "outputs": [],
   "source": [
    "del test_data['CompetitionOpenSinceYear']\n",
    "del test_data['CompetitionOpenSinceMonth']"
   ]
  },
  {
   "cell_type": "code",
   "execution_count": 27,
   "metadata": {
    "colab": {},
    "colab_type": "code",
    "id": "Wes6Ckjz_TZj"
   },
   "outputs": [
    {
     "data": {
      "text/plain": [
       "Id                      0\n",
       "Store                   0\n",
       "DayOfWeek               0\n",
       "Date                    0\n",
       "Open                    0\n",
       "Promo                   0\n",
       "StateHoliday            0\n",
       "SchoolHoliday           0\n",
       "Months                  0\n",
       "Year                    0\n",
       "week                    0\n",
       "weekday                 0\n",
       "StoreType               0\n",
       "Assortment              0\n",
       "CompetitionDistance     0\n",
       "Promo2                  0\n",
       "Promo2SinceWeek         0\n",
       "Promo2SinceYear         0\n",
       "PromoInterval           0\n",
       "CompetitionOpenSince    0\n",
       "dtype: int64"
      ]
     },
     "execution_count": 27,
     "metadata": {},
     "output_type": "execute_result"
    }
   ],
   "source": [
    "test_data.isnull().sum()"
   ]
  },
  {
   "cell_type": "markdown",
   "metadata": {
    "colab_type": "text",
    "id": "hFo_Z-jaD7z-"
   },
   "source": [
    "## Predicting the sales of the stores for the next six weeks "
   ]
  },
  {
   "cell_type": "code",
   "execution_count": 96,
   "metadata": {
    "colab": {},
    "colab_type": "code",
    "id": "5jPf3leY_TZq"
   },
   "outputs": [
    {
     "data": {
      "text/html": [
       "<div>\n",
       "<style scoped>\n",
       "    .dataframe tbody tr th:only-of-type {\n",
       "        vertical-align: middle;\n",
       "    }\n",
       "\n",
       "    .dataframe tbody tr th {\n",
       "        vertical-align: top;\n",
       "    }\n",
       "\n",
       "    .dataframe thead th {\n",
       "        text-align: right;\n",
       "    }\n",
       "</style>\n",
       "<table border=\"1\" class=\"dataframe\">\n",
       "  <thead>\n",
       "    <tr style=\"text-align: right;\">\n",
       "      <th></th>\n",
       "      <th>Id</th>\n",
       "      <th>Store</th>\n",
       "      <th>DayOfWeek</th>\n",
       "      <th>Date</th>\n",
       "      <th>Open</th>\n",
       "      <th>Promo</th>\n",
       "      <th>StateHoliday</th>\n",
       "      <th>SchoolHoliday</th>\n",
       "      <th>Months</th>\n",
       "      <th>Year</th>\n",
       "      <th>week</th>\n",
       "      <th>weekday</th>\n",
       "      <th>StoreType</th>\n",
       "      <th>Assortment</th>\n",
       "      <th>CompetitionDistance</th>\n",
       "      <th>Promo2</th>\n",
       "      <th>Promo2SinceWeek</th>\n",
       "      <th>Promo2SinceYear</th>\n",
       "      <th>PromoInterval</th>\n",
       "      <th>CompetitionOpenSince</th>\n",
       "    </tr>\n",
       "  </thead>\n",
       "  <tbody>\n",
       "    <tr>\n",
       "      <th>0</th>\n",
       "      <td>1</td>\n",
       "      <td>1</td>\n",
       "      <td>4</td>\n",
       "      <td>2015-09-17</td>\n",
       "      <td>1.0</td>\n",
       "      <td>1</td>\n",
       "      <td>0</td>\n",
       "      <td>0</td>\n",
       "      <td>9</td>\n",
       "      <td>2015</td>\n",
       "      <td>38</td>\n",
       "      <td>3</td>\n",
       "      <td>c</td>\n",
       "      <td>a</td>\n",
       "      <td>1270.0</td>\n",
       "      <td>0</td>\n",
       "      <td>0.0</td>\n",
       "      <td>0.0</td>\n",
       "      <td>0</td>\n",
       "      <td>84.0</td>\n",
       "    </tr>\n",
       "    <tr>\n",
       "      <th>1</th>\n",
       "      <td>2</td>\n",
       "      <td>3</td>\n",
       "      <td>4</td>\n",
       "      <td>2015-09-17</td>\n",
       "      <td>1.0</td>\n",
       "      <td>1</td>\n",
       "      <td>0</td>\n",
       "      <td>0</td>\n",
       "      <td>9</td>\n",
       "      <td>2015</td>\n",
       "      <td>38</td>\n",
       "      <td>3</td>\n",
       "      <td>a</td>\n",
       "      <td>a</td>\n",
       "      <td>14130.0</td>\n",
       "      <td>1</td>\n",
       "      <td>14.0</td>\n",
       "      <td>2011.0</td>\n",
       "      <td>Jan,Apr,Jul,Oct</td>\n",
       "      <td>105.0</td>\n",
       "    </tr>\n",
       "    <tr>\n",
       "      <th>2</th>\n",
       "      <td>3</td>\n",
       "      <td>7</td>\n",
       "      <td>4</td>\n",
       "      <td>2015-09-17</td>\n",
       "      <td>1.0</td>\n",
       "      <td>1</td>\n",
       "      <td>0</td>\n",
       "      <td>0</td>\n",
       "      <td>9</td>\n",
       "      <td>2015</td>\n",
       "      <td>38</td>\n",
       "      <td>3</td>\n",
       "      <td>a</td>\n",
       "      <td>c</td>\n",
       "      <td>24000.0</td>\n",
       "      <td>0</td>\n",
       "      <td>0.0</td>\n",
       "      <td>0.0</td>\n",
       "      <td>0</td>\n",
       "      <td>29.0</td>\n",
       "    </tr>\n",
       "    <tr>\n",
       "      <th>3</th>\n",
       "      <td>4</td>\n",
       "      <td>8</td>\n",
       "      <td>4</td>\n",
       "      <td>2015-09-17</td>\n",
       "      <td>1.0</td>\n",
       "      <td>1</td>\n",
       "      <td>0</td>\n",
       "      <td>0</td>\n",
       "      <td>9</td>\n",
       "      <td>2015</td>\n",
       "      <td>38</td>\n",
       "      <td>3</td>\n",
       "      <td>a</td>\n",
       "      <td>a</td>\n",
       "      <td>7520.0</td>\n",
       "      <td>0</td>\n",
       "      <td>0.0</td>\n",
       "      <td>0.0</td>\n",
       "      <td>0</td>\n",
       "      <td>11.0</td>\n",
       "    </tr>\n",
       "    <tr>\n",
       "      <th>4</th>\n",
       "      <td>5</td>\n",
       "      <td>9</td>\n",
       "      <td>4</td>\n",
       "      <td>2015-09-17</td>\n",
       "      <td>1.0</td>\n",
       "      <td>1</td>\n",
       "      <td>0</td>\n",
       "      <td>0</td>\n",
       "      <td>9</td>\n",
       "      <td>2015</td>\n",
       "      <td>38</td>\n",
       "      <td>3</td>\n",
       "      <td>a</td>\n",
       "      <td>c</td>\n",
       "      <td>2030.0</td>\n",
       "      <td>0</td>\n",
       "      <td>0.0</td>\n",
       "      <td>0.0</td>\n",
       "      <td>0</td>\n",
       "      <td>181.0</td>\n",
       "    </tr>\n",
       "  </tbody>\n",
       "</table>\n",
       "</div>"
      ],
      "text/plain": [
       "   Id  Store  DayOfWeek       Date  Open  Promo StateHoliday  SchoolHoliday  \\\n",
       "0   1      1          4 2015-09-17   1.0      1            0              0   \n",
       "1   2      3          4 2015-09-17   1.0      1            0              0   \n",
       "2   3      7          4 2015-09-17   1.0      1            0              0   \n",
       "3   4      8          4 2015-09-17   1.0      1            0              0   \n",
       "4   5      9          4 2015-09-17   1.0      1            0              0   \n",
       "\n",
       "   Months  Year  week  weekday StoreType Assortment  CompetitionDistance  \\\n",
       "0       9  2015    38        3         c          a               1270.0   \n",
       "1       9  2015    38        3         a          a              14130.0   \n",
       "2       9  2015    38        3         a          c              24000.0   \n",
       "3       9  2015    38        3         a          a               7520.0   \n",
       "4       9  2015    38        3         a          c               2030.0   \n",
       "\n",
       "   Promo2  Promo2SinceWeek  Promo2SinceYear    PromoInterval  \\\n",
       "0       0              0.0              0.0                0   \n",
       "1       1             14.0           2011.0  Jan,Apr,Jul,Oct   \n",
       "2       0              0.0              0.0                0   \n",
       "3       0              0.0              0.0                0   \n",
       "4       0              0.0              0.0                0   \n",
       "\n",
       "   CompetitionOpenSince  \n",
       "0                  84.0  \n",
       "1                 105.0  \n",
       "2                  29.0  \n",
       "3                  11.0  \n",
       "4                 181.0  "
      ]
     },
     "execution_count": 96,
     "metadata": {},
     "output_type": "execute_result"
    }
   ],
   "source": [
    "#we will use test data\n",
    "test_data.head()"
   ]
  },
  {
   "cell_type": "code",
   "execution_count": 97,
   "metadata": {
    "colab": {},
    "colab_type": "code",
    "id": "ZrejWtTtGYwj"
   },
   "outputs": [
    {
     "data": {
      "text/html": [
       "<div>\n",
       "<style scoped>\n",
       "    .dataframe tbody tr th:only-of-type {\n",
       "        vertical-align: middle;\n",
       "    }\n",
       "\n",
       "    .dataframe tbody tr th {\n",
       "        vertical-align: top;\n",
       "    }\n",
       "\n",
       "    .dataframe thead th {\n",
       "        text-align: right;\n",
       "    }\n",
       "</style>\n",
       "<table border=\"1\" class=\"dataframe\">\n",
       "  <thead>\n",
       "    <tr style=\"text-align: right;\">\n",
       "      <th></th>\n",
       "      <th>Id</th>\n",
       "      <th>Store</th>\n",
       "      <th>DayOfWeek</th>\n",
       "      <th>Date</th>\n",
       "      <th>Open</th>\n",
       "      <th>Promo</th>\n",
       "      <th>StateHoliday</th>\n",
       "      <th>SchoolHoliday</th>\n",
       "      <th>Months</th>\n",
       "      <th>Year</th>\n",
       "      <th>...</th>\n",
       "      <th>Assortment_b</th>\n",
       "      <th>CompetitionDistance</th>\n",
       "      <th>Promo2</th>\n",
       "      <th>Promo2SinceWeek</th>\n",
       "      <th>Promo2SinceYear</th>\n",
       "      <th>PromoInterval_0</th>\n",
       "      <th>PromoInterval_Jan,Apr,Jul,Oct</th>\n",
       "      <th>PromoInterval_Feb,May,Aug,Nov</th>\n",
       "      <th>PromoInterval_Mar,Jun,Sept,Dec</th>\n",
       "      <th>CompetitionOpenSince</th>\n",
       "    </tr>\n",
       "  </thead>\n",
       "  <tbody>\n",
       "    <tr>\n",
       "      <th>0</th>\n",
       "      <td>1</td>\n",
       "      <td>1</td>\n",
       "      <td>4</td>\n",
       "      <td>2015-09-17</td>\n",
       "      <td>1.0</td>\n",
       "      <td>1</td>\n",
       "      <td>0</td>\n",
       "      <td>0</td>\n",
       "      <td>9</td>\n",
       "      <td>2015</td>\n",
       "      <td>...</td>\n",
       "      <td>0</td>\n",
       "      <td>1270.0</td>\n",
       "      <td>0</td>\n",
       "      <td>0.0</td>\n",
       "      <td>0.0</td>\n",
       "      <td>1</td>\n",
       "      <td>0</td>\n",
       "      <td>0</td>\n",
       "      <td>0</td>\n",
       "      <td>84.0</td>\n",
       "    </tr>\n",
       "    <tr>\n",
       "      <th>1</th>\n",
       "      <td>2</td>\n",
       "      <td>3</td>\n",
       "      <td>4</td>\n",
       "      <td>2015-09-17</td>\n",
       "      <td>1.0</td>\n",
       "      <td>1</td>\n",
       "      <td>0</td>\n",
       "      <td>0</td>\n",
       "      <td>9</td>\n",
       "      <td>2015</td>\n",
       "      <td>...</td>\n",
       "      <td>0</td>\n",
       "      <td>14130.0</td>\n",
       "      <td>1</td>\n",
       "      <td>14.0</td>\n",
       "      <td>2011.0</td>\n",
       "      <td>0</td>\n",
       "      <td>1</td>\n",
       "      <td>0</td>\n",
       "      <td>0</td>\n",
       "      <td>105.0</td>\n",
       "    </tr>\n",
       "    <tr>\n",
       "      <th>2</th>\n",
       "      <td>3</td>\n",
       "      <td>7</td>\n",
       "      <td>4</td>\n",
       "      <td>2015-09-17</td>\n",
       "      <td>1.0</td>\n",
       "      <td>1</td>\n",
       "      <td>0</td>\n",
       "      <td>0</td>\n",
       "      <td>9</td>\n",
       "      <td>2015</td>\n",
       "      <td>...</td>\n",
       "      <td>0</td>\n",
       "      <td>24000.0</td>\n",
       "      <td>0</td>\n",
       "      <td>0.0</td>\n",
       "      <td>0.0</td>\n",
       "      <td>1</td>\n",
       "      <td>0</td>\n",
       "      <td>0</td>\n",
       "      <td>0</td>\n",
       "      <td>29.0</td>\n",
       "    </tr>\n",
       "    <tr>\n",
       "      <th>3</th>\n",
       "      <td>4</td>\n",
       "      <td>8</td>\n",
       "      <td>4</td>\n",
       "      <td>2015-09-17</td>\n",
       "      <td>1.0</td>\n",
       "      <td>1</td>\n",
       "      <td>0</td>\n",
       "      <td>0</td>\n",
       "      <td>9</td>\n",
       "      <td>2015</td>\n",
       "      <td>...</td>\n",
       "      <td>0</td>\n",
       "      <td>7520.0</td>\n",
       "      <td>0</td>\n",
       "      <td>0.0</td>\n",
       "      <td>0.0</td>\n",
       "      <td>1</td>\n",
       "      <td>0</td>\n",
       "      <td>0</td>\n",
       "      <td>0</td>\n",
       "      <td>11.0</td>\n",
       "    </tr>\n",
       "    <tr>\n",
       "      <th>4</th>\n",
       "      <td>5</td>\n",
       "      <td>9</td>\n",
       "      <td>4</td>\n",
       "      <td>2015-09-17</td>\n",
       "      <td>1.0</td>\n",
       "      <td>1</td>\n",
       "      <td>0</td>\n",
       "      <td>0</td>\n",
       "      <td>9</td>\n",
       "      <td>2015</td>\n",
       "      <td>...</td>\n",
       "      <td>0</td>\n",
       "      <td>2030.0</td>\n",
       "      <td>0</td>\n",
       "      <td>0.0</td>\n",
       "      <td>0.0</td>\n",
       "      <td>1</td>\n",
       "      <td>0</td>\n",
       "      <td>0</td>\n",
       "      <td>0</td>\n",
       "      <td>181.0</td>\n",
       "    </tr>\n",
       "  </tbody>\n",
       "</table>\n",
       "<p>5 rows × 28 columns</p>\n",
       "</div>"
      ],
      "text/plain": [
       "   Id  Store  DayOfWeek       Date  Open  Promo StateHoliday  SchoolHoliday  \\\n",
       "0   1      1          4 2015-09-17   1.0      1            0              0   \n",
       "1   2      3          4 2015-09-17   1.0      1            0              0   \n",
       "2   3      7          4 2015-09-17   1.0      1            0              0   \n",
       "3   4      8          4 2015-09-17   1.0      1            0              0   \n",
       "4   5      9          4 2015-09-17   1.0      1            0              0   \n",
       "\n",
       "   Months  Year  ...  Assortment_b  CompetitionDistance  Promo2  \\\n",
       "0       9  2015  ...             0               1270.0       0   \n",
       "1       9  2015  ...             0              14130.0       1   \n",
       "2       9  2015  ...             0              24000.0       0   \n",
       "3       9  2015  ...             0               7520.0       0   \n",
       "4       9  2015  ...             0               2030.0       0   \n",
       "\n",
       "   Promo2SinceWeek  Promo2SinceYear  PromoInterval_0  \\\n",
       "0              0.0              0.0                1   \n",
       "1             14.0           2011.0                0   \n",
       "2              0.0              0.0                1   \n",
       "3              0.0              0.0                1   \n",
       "4              0.0              0.0                1   \n",
       "\n",
       "   PromoInterval_Jan,Apr,Jul,Oct  PromoInterval_Feb,May,Aug,Nov  \\\n",
       "0                              0                              0   \n",
       "1                              1                              0   \n",
       "2                              0                              0   \n",
       "3                              0                              0   \n",
       "4                              0                              0   \n",
       "\n",
       "   PromoInterval_Mar,Jun,Sept,Dec  CompetitionOpenSince  \n",
       "0                               0                  84.0  \n",
       "1                               0                 105.0  \n",
       "2                               0                  29.0  \n",
       "3                               0                  11.0  \n",
       "4                               0                 181.0  \n",
       "\n",
       "[5 rows x 28 columns]"
      ]
     },
     "execution_count": 97,
     "metadata": {},
     "output_type": "execute_result"
    }
   ],
   "source": [
    "# create an object of the OneHotEncoder\n",
    "OHE = ce.OneHotEncoder(cols=['StoreType','Assortment','PromoInterval'],use_cat_names=True)\n",
    "# encode the categorical variables\n",
    "test_data = OHE.fit_transform(test_data)\n",
    "\n",
    "test_data.head()"
   ]
  },
  {
   "cell_type": "code",
   "execution_count": 98,
   "metadata": {
    "colab": {},
    "colab_type": "code",
    "id": "7elSFulyHlZB"
   },
   "outputs": [],
   "source": [
    "del test_data['Date']"
   ]
  },
  {
   "cell_type": "code",
   "execution_count": 99,
   "metadata": {
    "colab": {},
    "colab_type": "code",
    "id": "lyyYwjRuEJcx"
   },
   "outputs": [],
   "source": [
    "test_data1=test_data.drop(['Id'],axis=1)"
   ]
  },
  {
   "cell_type": "code",
   "execution_count": 100,
   "metadata": {
    "colab": {},
    "colab_type": "code",
    "id": "WjLD1f7eK_lG"
   },
   "outputs": [],
   "source": [
    "cols = test_data1.select_dtypes(exclude=['float']).columns\n",
    "\n",
    "test_data1[cols] = test_data1[cols].apply(pd.to_numeric, downcast='float', errors='coerce')"
   ]
  },
  {
   "cell_type": "code",
   "execution_count": 101,
   "metadata": {
    "colab": {},
    "colab_type": "code",
    "id": "ZGJE_nyJQAI1"
   },
   "outputs": [],
   "source": [
    "del test_data1['PromoInterval_0']"
   ]
  },
  {
   "cell_type": "code",
   "execution_count": 102,
   "metadata": {
    "colab": {},
    "colab_type": "code",
    "id": "_wn8lszOL-dL"
   },
   "outputs": [],
   "source": [
    "test_data1.replace([np.inf, -np.inf], np.nan, inplace=True)"
   ]
  },
  {
   "cell_type": "code",
   "execution_count": 103,
   "metadata": {
    "colab": {},
    "colab_type": "code",
    "id": "c0DHQgysKef_"
   },
   "outputs": [
    {
     "data": {
      "text/plain": [
       "Store                             float32\n",
       "DayOfWeek                         float32\n",
       "Open                              float64\n",
       "Promo                             float32\n",
       "StateHoliday                      float32\n",
       "SchoolHoliday                     float32\n",
       "Months                            float32\n",
       "Year                              float32\n",
       "week                              float32\n",
       "weekday                           float32\n",
       "StoreType_c                       float32\n",
       "StoreType_a                       float32\n",
       "StoreType_d                       float32\n",
       "StoreType_b                       float32\n",
       "Assortment_a                      float32\n",
       "Assortment_c                      float32\n",
       "Assortment_b                      float32\n",
       "CompetitionDistance               float64\n",
       "Promo2                            float32\n",
       "Promo2SinceWeek                   float64\n",
       "Promo2SinceYear                   float64\n",
       "PromoInterval_Jan,Apr,Jul,Oct     float32\n",
       "PromoInterval_Feb,May,Aug,Nov     float32\n",
       "PromoInterval_Mar,Jun,Sept,Dec    float32\n",
       "CompetitionOpenSince              float64\n",
       "dtype: object"
      ]
     },
     "execution_count": 103,
     "metadata": {},
     "output_type": "execute_result"
    }
   ],
   "source": [
    "test_data1.dtypes"
   ]
  },
  {
   "cell_type": "code",
   "execution_count": 104,
   "metadata": {
    "colab": {},
    "colab_type": "code",
    "id": "auzMLF8bMT2G"
   },
   "outputs": [
    {
     "data": {
      "text/plain": [
       "Store                              555.899533\n",
       "DayOfWeek                            3.979167\n",
       "Open                                 0.854361\n",
       "Promo                                0.395833\n",
       "StateHoliday                         0.000000\n",
       "SchoolHoliday                        0.443487\n",
       "Months                               8.354167\n",
       "Year                              2015.000000\n",
       "week                                34.645833\n",
       "weekday                              2.979167\n",
       "StoreType_c                          0.103972\n",
       "StoreType_a                          0.538551\n",
       "StoreType_d                          0.343458\n",
       "StoreType_b                          0.014019\n",
       "Assortment_a                         0.494159\n",
       "Assortment_c                         0.495327\n",
       "Assortment_b                         0.010514\n",
       "CompetitionDistance               5082.359813\n",
       "Promo2                               0.580607\n",
       "Promo2SinceWeek                     14.182243\n",
       "Promo2SinceYear                   1168.078271\n",
       "PromoInterval_Jan,Apr,Jul,Oct        0.335280\n",
       "PromoInterval_Feb,May,Aug,Nov        0.139019\n",
       "PromoInterval_Mar,Jun,Sept,Dec       0.106308\n",
       "CompetitionOpenSince                48.872542\n",
       "dtype: float64"
      ]
     },
     "execution_count": 104,
     "metadata": {},
     "output_type": "execute_result"
    }
   ],
   "source": [
    "test_data1.mean()"
   ]
  },
  {
   "cell_type": "code",
   "execution_count": 105,
   "metadata": {
    "colab": {},
    "colab_type": "code",
    "id": "VrwvRr8NMMSO"
   },
   "outputs": [],
   "source": [
    "test_data1.fillna(8.72300394846444, inplace=True)"
   ]
  },
  {
   "cell_type": "code",
   "execution_count": 106,
   "metadata": {
    "colab": {},
    "colab_type": "code",
    "id": "FpliVZJ6I_We"
   },
   "outputs": [],
   "source": [
    "sc = StandardScaler()\n",
    "test_data1 = sc.fit_transform(test_data1)"
   ]
  },
  {
   "cell_type": "code",
   "execution_count": 107,
   "metadata": {
    "colab": {},
    "colab_type": "code",
    "id": "TyNZ3St-Eq1M"
   },
   "outputs": [],
   "source": [
    "rossman_yhat= regressor.predict(test_data1)\n",
    "\n",
    "rossman_preds= pd.DataFrame({'Id': test_data['Id'], \n",
    "                          'Sales': np.exp(rossman_yhat)})"
   ]
  },
  {
   "cell_type": "code",
   "execution_count": 108,
   "metadata": {
    "colab": {},
    "colab_type": "code",
    "id": "PKVPzmAATbWt"
   },
   "outputs": [],
   "source": [
    "rossman_preds.to_csv(\"Rossman_predictions.csv\",index=False)"
   ]
  },
  {
   "cell_type": "markdown",
   "metadata": {
    "colab_type": "text",
    "id": "7wu7dW0_byKS"
   },
   "source": [
    "## Making predictions using model trained with ten features"
   ]
  },
  {
   "cell_type": "code",
   "execution_count": 109,
   "metadata": {
    "colab": {
     "base_uri": "https://localhost:8080/",
     "height": 224
    },
    "colab_type": "code",
    "id": "u0ZSN7YiTeDx",
    "outputId": "ea308569-aeea-4a82-b5dd-2854cf0e9f8f"
   },
   "outputs": [
    {
     "data": {
      "text/html": [
       "<div>\n",
       "<style scoped>\n",
       "    .dataframe tbody tr th:only-of-type {\n",
       "        vertical-align: middle;\n",
       "    }\n",
       "\n",
       "    .dataframe tbody tr th {\n",
       "        vertical-align: top;\n",
       "    }\n",
       "\n",
       "    .dataframe thead th {\n",
       "        text-align: right;\n",
       "    }\n",
       "</style>\n",
       "<table border=\"1\" class=\"dataframe\">\n",
       "  <thead>\n",
       "    <tr style=\"text-align: right;\">\n",
       "      <th></th>\n",
       "      <th>Id</th>\n",
       "      <th>Store</th>\n",
       "      <th>DayOfWeek</th>\n",
       "      <th>Open</th>\n",
       "      <th>Promo</th>\n",
       "      <th>StateHoliday</th>\n",
       "      <th>SchoolHoliday</th>\n",
       "      <th>Months</th>\n",
       "      <th>Year</th>\n",
       "      <th>week</th>\n",
       "      <th>...</th>\n",
       "      <th>Assortment_b</th>\n",
       "      <th>CompetitionDistance</th>\n",
       "      <th>Promo2</th>\n",
       "      <th>Promo2SinceWeek</th>\n",
       "      <th>Promo2SinceYear</th>\n",
       "      <th>PromoInterval_0</th>\n",
       "      <th>PromoInterval_Jan,Apr,Jul,Oct</th>\n",
       "      <th>PromoInterval_Feb,May,Aug,Nov</th>\n",
       "      <th>PromoInterval_Mar,Jun,Sept,Dec</th>\n",
       "      <th>CompetitionOpenSince</th>\n",
       "    </tr>\n",
       "  </thead>\n",
       "  <tbody>\n",
       "    <tr>\n",
       "      <th>0</th>\n",
       "      <td>1</td>\n",
       "      <td>1</td>\n",
       "      <td>4</td>\n",
       "      <td>1.0</td>\n",
       "      <td>1</td>\n",
       "      <td>0</td>\n",
       "      <td>0</td>\n",
       "      <td>9</td>\n",
       "      <td>2015</td>\n",
       "      <td>38</td>\n",
       "      <td>...</td>\n",
       "      <td>0</td>\n",
       "      <td>1270.0</td>\n",
       "      <td>0</td>\n",
       "      <td>0.0</td>\n",
       "      <td>0.0</td>\n",
       "      <td>1</td>\n",
       "      <td>0</td>\n",
       "      <td>0</td>\n",
       "      <td>0</td>\n",
       "      <td>84.0</td>\n",
       "    </tr>\n",
       "    <tr>\n",
       "      <th>1</th>\n",
       "      <td>2</td>\n",
       "      <td>3</td>\n",
       "      <td>4</td>\n",
       "      <td>1.0</td>\n",
       "      <td>1</td>\n",
       "      <td>0</td>\n",
       "      <td>0</td>\n",
       "      <td>9</td>\n",
       "      <td>2015</td>\n",
       "      <td>38</td>\n",
       "      <td>...</td>\n",
       "      <td>0</td>\n",
       "      <td>14130.0</td>\n",
       "      <td>1</td>\n",
       "      <td>14.0</td>\n",
       "      <td>2011.0</td>\n",
       "      <td>0</td>\n",
       "      <td>1</td>\n",
       "      <td>0</td>\n",
       "      <td>0</td>\n",
       "      <td>105.0</td>\n",
       "    </tr>\n",
       "    <tr>\n",
       "      <th>2</th>\n",
       "      <td>3</td>\n",
       "      <td>7</td>\n",
       "      <td>4</td>\n",
       "      <td>1.0</td>\n",
       "      <td>1</td>\n",
       "      <td>0</td>\n",
       "      <td>0</td>\n",
       "      <td>9</td>\n",
       "      <td>2015</td>\n",
       "      <td>38</td>\n",
       "      <td>...</td>\n",
       "      <td>0</td>\n",
       "      <td>24000.0</td>\n",
       "      <td>0</td>\n",
       "      <td>0.0</td>\n",
       "      <td>0.0</td>\n",
       "      <td>1</td>\n",
       "      <td>0</td>\n",
       "      <td>0</td>\n",
       "      <td>0</td>\n",
       "      <td>29.0</td>\n",
       "    </tr>\n",
       "    <tr>\n",
       "      <th>3</th>\n",
       "      <td>4</td>\n",
       "      <td>8</td>\n",
       "      <td>4</td>\n",
       "      <td>1.0</td>\n",
       "      <td>1</td>\n",
       "      <td>0</td>\n",
       "      <td>0</td>\n",
       "      <td>9</td>\n",
       "      <td>2015</td>\n",
       "      <td>38</td>\n",
       "      <td>...</td>\n",
       "      <td>0</td>\n",
       "      <td>7520.0</td>\n",
       "      <td>0</td>\n",
       "      <td>0.0</td>\n",
       "      <td>0.0</td>\n",
       "      <td>1</td>\n",
       "      <td>0</td>\n",
       "      <td>0</td>\n",
       "      <td>0</td>\n",
       "      <td>11.0</td>\n",
       "    </tr>\n",
       "    <tr>\n",
       "      <th>4</th>\n",
       "      <td>5</td>\n",
       "      <td>9</td>\n",
       "      <td>4</td>\n",
       "      <td>1.0</td>\n",
       "      <td>1</td>\n",
       "      <td>0</td>\n",
       "      <td>0</td>\n",
       "      <td>9</td>\n",
       "      <td>2015</td>\n",
       "      <td>38</td>\n",
       "      <td>...</td>\n",
       "      <td>0</td>\n",
       "      <td>2030.0</td>\n",
       "      <td>0</td>\n",
       "      <td>0.0</td>\n",
       "      <td>0.0</td>\n",
       "      <td>1</td>\n",
       "      <td>0</td>\n",
       "      <td>0</td>\n",
       "      <td>0</td>\n",
       "      <td>181.0</td>\n",
       "    </tr>\n",
       "  </tbody>\n",
       "</table>\n",
       "<p>5 rows × 27 columns</p>\n",
       "</div>"
      ],
      "text/plain": [
       "   Id  Store  DayOfWeek  Open  Promo StateHoliday  SchoolHoliday  Months  \\\n",
       "0   1      1          4   1.0      1            0              0       9   \n",
       "1   2      3          4   1.0      1            0              0       9   \n",
       "2   3      7          4   1.0      1            0              0       9   \n",
       "3   4      8          4   1.0      1            0              0       9   \n",
       "4   5      9          4   1.0      1            0              0       9   \n",
       "\n",
       "   Year  week  ...  Assortment_b  CompetitionDistance  Promo2  \\\n",
       "0  2015    38  ...             0               1270.0       0   \n",
       "1  2015    38  ...             0              14130.0       1   \n",
       "2  2015    38  ...             0              24000.0       0   \n",
       "3  2015    38  ...             0               7520.0       0   \n",
       "4  2015    38  ...             0               2030.0       0   \n",
       "\n",
       "   Promo2SinceWeek  Promo2SinceYear  PromoInterval_0  \\\n",
       "0              0.0              0.0                1   \n",
       "1             14.0           2011.0                0   \n",
       "2              0.0              0.0                1   \n",
       "3              0.0              0.0                1   \n",
       "4              0.0              0.0                1   \n",
       "\n",
       "   PromoInterval_Jan,Apr,Jul,Oct  PromoInterval_Feb,May,Aug,Nov  \\\n",
       "0                              0                              0   \n",
       "1                              1                              0   \n",
       "2                              0                              0   \n",
       "3                              0                              0   \n",
       "4                              0                              0   \n",
       "\n",
       "   PromoInterval_Mar,Jun,Sept,Dec  CompetitionOpenSince  \n",
       "0                               0                  84.0  \n",
       "1                               0                 105.0  \n",
       "2                               0                  29.0  \n",
       "3                               0                  11.0  \n",
       "4                               0                 181.0  \n",
       "\n",
       "[5 rows x 27 columns]"
      ]
     },
     "execution_count": 109,
     "metadata": {},
     "output_type": "execute_result"
    }
   ],
   "source": [
    "test_data.head()"
   ]
  },
  {
   "cell_type": "code",
   "execution_count": 110,
   "metadata": {
    "colab": {},
    "colab_type": "code",
    "id": "NFdVNnTDcAxI"
   },
   "outputs": [],
   "source": [
    "df_test=test_data[['Store','Promo','CompetitionDistance','CompetitionOpenSince','week','DayOfWeek','Promo2SinceYear','StoreType_a','Open']]"
   ]
  },
  {
   "cell_type": "code",
   "execution_count": 111,
   "metadata": {
    "colab": {},
    "colab_type": "code",
    "id": "Yso0AaDqc-9p"
   },
   "outputs": [],
   "source": [
    "rossman1_yhat= regressor1.predict(df_test)\n",
    "rossman1_preds= pd.DataFrame({'Id': test_data['Id'], \n",
    "                          'Sales': np.exp(rossman1_yhat)})"
   ]
  },
  {
   "cell_type": "code",
   "execution_count": 112,
   "metadata": {
    "colab": {},
    "colab_type": "code",
    "id": "OzjDqDpwdgbg"
   },
   "outputs": [
    {
     "data": {
      "text/html": [
       "<div>\n",
       "<style scoped>\n",
       "    .dataframe tbody tr th:only-of-type {\n",
       "        vertical-align: middle;\n",
       "    }\n",
       "\n",
       "    .dataframe tbody tr th {\n",
       "        vertical-align: top;\n",
       "    }\n",
       "\n",
       "    .dataframe thead th {\n",
       "        text-align: right;\n",
       "    }\n",
       "</style>\n",
       "<table border=\"1\" class=\"dataframe\">\n",
       "  <thead>\n",
       "    <tr style=\"text-align: right;\">\n",
       "      <th></th>\n",
       "      <th>Id</th>\n",
       "      <th>Sales</th>\n",
       "    </tr>\n",
       "  </thead>\n",
       "  <tbody>\n",
       "    <tr>\n",
       "      <th>0</th>\n",
       "      <td>1</td>\n",
       "      <td>10477.826207</td>\n",
       "    </tr>\n",
       "    <tr>\n",
       "      <th>1</th>\n",
       "      <td>2</td>\n",
       "      <td>6911.560490</td>\n",
       "    </tr>\n",
       "    <tr>\n",
       "      <th>2</th>\n",
       "      <td>3</td>\n",
       "      <td>7245.524511</td>\n",
       "    </tr>\n",
       "    <tr>\n",
       "      <th>3</th>\n",
       "      <td>4</td>\n",
       "      <td>7245.524511</td>\n",
       "    </tr>\n",
       "    <tr>\n",
       "      <th>4</th>\n",
       "      <td>5</td>\n",
       "      <td>7245.524511</td>\n",
       "    </tr>\n",
       "    <tr>\n",
       "      <th>5</th>\n",
       "      <td>6</td>\n",
       "      <td>7245.524511</td>\n",
       "    </tr>\n",
       "    <tr>\n",
       "      <th>6</th>\n",
       "      <td>7</td>\n",
       "      <td>7245.524511</td>\n",
       "    </tr>\n",
       "    <tr>\n",
       "      <th>7</th>\n",
       "      <td>8</td>\n",
       "      <td>8415.272958</td>\n",
       "    </tr>\n",
       "    <tr>\n",
       "      <th>8</th>\n",
       "      <td>9</td>\n",
       "      <td>8415.272958</td>\n",
       "    </tr>\n",
       "    <tr>\n",
       "      <th>9</th>\n",
       "      <td>10</td>\n",
       "      <td>7245.524511</td>\n",
       "    </tr>\n",
       "    <tr>\n",
       "      <th>10</th>\n",
       "      <td>11</td>\n",
       "      <td>7245.524511</td>\n",
       "    </tr>\n",
       "    <tr>\n",
       "      <th>11</th>\n",
       "      <td>12</td>\n",
       "      <td>8535.175535</td>\n",
       "    </tr>\n",
       "    <tr>\n",
       "      <th>12</th>\n",
       "      <td>13</td>\n",
       "      <td>8415.272958</td>\n",
       "    </tr>\n",
       "    <tr>\n",
       "      <th>13</th>\n",
       "      <td>14</td>\n",
       "      <td>7245.524511</td>\n",
       "    </tr>\n",
       "    <tr>\n",
       "      <th>14</th>\n",
       "      <td>15</td>\n",
       "      <td>7245.524511</td>\n",
       "    </tr>\n",
       "    <tr>\n",
       "      <th>15</th>\n",
       "      <td>16</td>\n",
       "      <td>8415.272958</td>\n",
       "    </tr>\n",
       "    <tr>\n",
       "      <th>16</th>\n",
       "      <td>17</td>\n",
       "      <td>7245.524511</td>\n",
       "    </tr>\n",
       "    <tr>\n",
       "      <th>17</th>\n",
       "      <td>18</td>\n",
       "      <td>7245.524511</td>\n",
       "    </tr>\n",
       "    <tr>\n",
       "      <th>18</th>\n",
       "      <td>19</td>\n",
       "      <td>7245.524511</td>\n",
       "    </tr>\n",
       "    <tr>\n",
       "      <th>19</th>\n",
       "      <td>20</td>\n",
       "      <td>7245.524511</td>\n",
       "    </tr>\n",
       "    <tr>\n",
       "      <th>20</th>\n",
       "      <td>21</td>\n",
       "      <td>8535.175535</td>\n",
       "    </tr>\n",
       "    <tr>\n",
       "      <th>21</th>\n",
       "      <td>22</td>\n",
       "      <td>7245.524511</td>\n",
       "    </tr>\n",
       "    <tr>\n",
       "      <th>22</th>\n",
       "      <td>23</td>\n",
       "      <td>7245.524511</td>\n",
       "    </tr>\n",
       "    <tr>\n",
       "      <th>23</th>\n",
       "      <td>24</td>\n",
       "      <td>8415.272958</td>\n",
       "    </tr>\n",
       "    <tr>\n",
       "      <th>24</th>\n",
       "      <td>25</td>\n",
       "      <td>7245.524511</td>\n",
       "    </tr>\n",
       "    <tr>\n",
       "      <th>25</th>\n",
       "      <td>26</td>\n",
       "      <td>7245.524511</td>\n",
       "    </tr>\n",
       "    <tr>\n",
       "      <th>26</th>\n",
       "      <td>27</td>\n",
       "      <td>7245.524511</td>\n",
       "    </tr>\n",
       "    <tr>\n",
       "      <th>27</th>\n",
       "      <td>28</td>\n",
       "      <td>7245.524511</td>\n",
       "    </tr>\n",
       "    <tr>\n",
       "      <th>28</th>\n",
       "      <td>29</td>\n",
       "      <td>7245.524511</td>\n",
       "    </tr>\n",
       "    <tr>\n",
       "      <th>29</th>\n",
       "      <td>30</td>\n",
       "      <td>8415.272958</td>\n",
       "    </tr>\n",
       "    <tr>\n",
       "      <th>...</th>\n",
       "      <td>...</td>\n",
       "      <td>...</td>\n",
       "    </tr>\n",
       "    <tr>\n",
       "      <th>41058</th>\n",
       "      <td>41059</td>\n",
       "      <td>7689.172707</td>\n",
       "    </tr>\n",
       "    <tr>\n",
       "      <th>41059</th>\n",
       "      <td>41060</td>\n",
       "      <td>8308.300174</td>\n",
       "    </tr>\n",
       "    <tr>\n",
       "      <th>41060</th>\n",
       "      <td>41061</td>\n",
       "      <td>8308.300174</td>\n",
       "    </tr>\n",
       "    <tr>\n",
       "      <th>41061</th>\n",
       "      <td>41062</td>\n",
       "      <td>8308.300174</td>\n",
       "    </tr>\n",
       "    <tr>\n",
       "      <th>41062</th>\n",
       "      <td>41063</td>\n",
       "      <td>8308.300174</td>\n",
       "    </tr>\n",
       "    <tr>\n",
       "      <th>41063</th>\n",
       "      <td>41064</td>\n",
       "      <td>8308.300174</td>\n",
       "    </tr>\n",
       "    <tr>\n",
       "      <th>41064</th>\n",
       "      <td>41065</td>\n",
       "      <td>7689.172707</td>\n",
       "    </tr>\n",
       "    <tr>\n",
       "      <th>41065</th>\n",
       "      <td>41066</td>\n",
       "      <td>7689.172707</td>\n",
       "    </tr>\n",
       "    <tr>\n",
       "      <th>41066</th>\n",
       "      <td>41067</td>\n",
       "      <td>7689.172707</td>\n",
       "    </tr>\n",
       "    <tr>\n",
       "      <th>41067</th>\n",
       "      <td>41068</td>\n",
       "      <td>7689.172707</td>\n",
       "    </tr>\n",
       "    <tr>\n",
       "      <th>41068</th>\n",
       "      <td>41069</td>\n",
       "      <td>8632.888287</td>\n",
       "    </tr>\n",
       "    <tr>\n",
       "      <th>41069</th>\n",
       "      <td>41070</td>\n",
       "      <td>7689.172707</td>\n",
       "    </tr>\n",
       "    <tr>\n",
       "      <th>41070</th>\n",
       "      <td>41071</td>\n",
       "      <td>7689.172707</td>\n",
       "    </tr>\n",
       "    <tr>\n",
       "      <th>41071</th>\n",
       "      <td>41072</td>\n",
       "      <td>8308.300174</td>\n",
       "    </tr>\n",
       "    <tr>\n",
       "      <th>41072</th>\n",
       "      <td>41073</td>\n",
       "      <td>7689.172707</td>\n",
       "    </tr>\n",
       "    <tr>\n",
       "      <th>41073</th>\n",
       "      <td>41074</td>\n",
       "      <td>7689.172707</td>\n",
       "    </tr>\n",
       "    <tr>\n",
       "      <th>41074</th>\n",
       "      <td>41075</td>\n",
       "      <td>8308.300174</td>\n",
       "    </tr>\n",
       "    <tr>\n",
       "      <th>41075</th>\n",
       "      <td>41076</td>\n",
       "      <td>7689.172707</td>\n",
       "    </tr>\n",
       "    <tr>\n",
       "      <th>41076</th>\n",
       "      <td>41077</td>\n",
       "      <td>7689.172707</td>\n",
       "    </tr>\n",
       "    <tr>\n",
       "      <th>41077</th>\n",
       "      <td>41078</td>\n",
       "      <td>7689.172707</td>\n",
       "    </tr>\n",
       "    <tr>\n",
       "      <th>41078</th>\n",
       "      <td>41079</td>\n",
       "      <td>7689.172707</td>\n",
       "    </tr>\n",
       "    <tr>\n",
       "      <th>41079</th>\n",
       "      <td>41080</td>\n",
       "      <td>7689.172707</td>\n",
       "    </tr>\n",
       "    <tr>\n",
       "      <th>41080</th>\n",
       "      <td>41081</td>\n",
       "      <td>7689.172707</td>\n",
       "    </tr>\n",
       "    <tr>\n",
       "      <th>41081</th>\n",
       "      <td>41082</td>\n",
       "      <td>7689.172707</td>\n",
       "    </tr>\n",
       "    <tr>\n",
       "      <th>41082</th>\n",
       "      <td>41083</td>\n",
       "      <td>7689.172707</td>\n",
       "    </tr>\n",
       "    <tr>\n",
       "      <th>41083</th>\n",
       "      <td>41084</td>\n",
       "      <td>7689.172707</td>\n",
       "    </tr>\n",
       "    <tr>\n",
       "      <th>41084</th>\n",
       "      <td>41085</td>\n",
       "      <td>7689.172707</td>\n",
       "    </tr>\n",
       "    <tr>\n",
       "      <th>41085</th>\n",
       "      <td>41086</td>\n",
       "      <td>8632.888287</td>\n",
       "    </tr>\n",
       "    <tr>\n",
       "      <th>41086</th>\n",
       "      <td>41087</td>\n",
       "      <td>8632.888287</td>\n",
       "    </tr>\n",
       "    <tr>\n",
       "      <th>41087</th>\n",
       "      <td>41088</td>\n",
       "      <td>8308.300174</td>\n",
       "    </tr>\n",
       "  </tbody>\n",
       "</table>\n",
       "<p>41088 rows × 2 columns</p>\n",
       "</div>"
      ],
      "text/plain": [
       "          Id         Sales\n",
       "0          1  10477.826207\n",
       "1          2   6911.560490\n",
       "2          3   7245.524511\n",
       "3          4   7245.524511\n",
       "4          5   7245.524511\n",
       "5          6   7245.524511\n",
       "6          7   7245.524511\n",
       "7          8   8415.272958\n",
       "8          9   8415.272958\n",
       "9         10   7245.524511\n",
       "10        11   7245.524511\n",
       "11        12   8535.175535\n",
       "12        13   8415.272958\n",
       "13        14   7245.524511\n",
       "14        15   7245.524511\n",
       "15        16   8415.272958\n",
       "16        17   7245.524511\n",
       "17        18   7245.524511\n",
       "18        19   7245.524511\n",
       "19        20   7245.524511\n",
       "20        21   8535.175535\n",
       "21        22   7245.524511\n",
       "22        23   7245.524511\n",
       "23        24   8415.272958\n",
       "24        25   7245.524511\n",
       "25        26   7245.524511\n",
       "26        27   7245.524511\n",
       "27        28   7245.524511\n",
       "28        29   7245.524511\n",
       "29        30   8415.272958\n",
       "...      ...           ...\n",
       "41058  41059   7689.172707\n",
       "41059  41060   8308.300174\n",
       "41060  41061   8308.300174\n",
       "41061  41062   8308.300174\n",
       "41062  41063   8308.300174\n",
       "41063  41064   8308.300174\n",
       "41064  41065   7689.172707\n",
       "41065  41066   7689.172707\n",
       "41066  41067   7689.172707\n",
       "41067  41068   7689.172707\n",
       "41068  41069   8632.888287\n",
       "41069  41070   7689.172707\n",
       "41070  41071   7689.172707\n",
       "41071  41072   8308.300174\n",
       "41072  41073   7689.172707\n",
       "41073  41074   7689.172707\n",
       "41074  41075   8308.300174\n",
       "41075  41076   7689.172707\n",
       "41076  41077   7689.172707\n",
       "41077  41078   7689.172707\n",
       "41078  41079   7689.172707\n",
       "41079  41080   7689.172707\n",
       "41080  41081   7689.172707\n",
       "41081  41082   7689.172707\n",
       "41082  41083   7689.172707\n",
       "41083  41084   7689.172707\n",
       "41084  41085   7689.172707\n",
       "41085  41086   8632.888287\n",
       "41086  41087   8632.888287\n",
       "41087  41088   8308.300174\n",
       "\n",
       "[41088 rows x 2 columns]"
      ]
     },
     "execution_count": 112,
     "metadata": {},
     "output_type": "execute_result"
    }
   ],
   "source": [
    "rossman1_preds"
   ]
  },
  {
   "cell_type": "code",
   "execution_count": 113,
   "metadata": {
    "colab": {},
    "colab_type": "code",
    "id": "bcHoiUx6kVkF"
   },
   "outputs": [],
   "source": [
    "rossman1_preds.to_csv(\"Rossman_prections1.csv\",index=False)"
   ]
  },
  {
   "cell_type": "markdown",
   "metadata": {
    "colab_type": "text",
    "id": "kIg_GbXieDPh"
   },
   "source": [
    "# XGBoost Model Prediction"
   ]
  },
  {
   "cell_type": "code",
   "execution_count": null,
   "metadata": {
    "colab": {},
    "colab_type": "code",
    "id": "r9jT2x1yf7o_"
   },
   "outputs": [],
   "source": [
    "predictions"
   ]
  },
  {
   "cell_type": "markdown",
   "metadata": {
    "colab_type": "text",
    "id": "qIDddghynmgD"
   },
   "source": [
    "# **MODEL PIPELINE** #"
   ]
  },
  {
   "cell_type": "markdown",
   "metadata": {
    "colab_type": "text",
    "id": "W1eNz1wUnyhN"
   },
   "source": [
    "## Identifying features to build the Model pipeline"
   ]
  },
  {
   "cell_type": "markdown",
   "metadata": {
    "colab_type": "text",
    "id": "yUKo3AixoLcO"
   },
   "source": [
    "We are now familiar with the data, we have performed required preprocessing steps, and built a machine learning model on the data. At this stage we must list down the final set of features and necessary preprocessing steps (for each of them) to be used in the machine learning pipeline."
   ]
  },
  {
   "cell_type": "markdown",
   "metadata": {
    "colab_type": "text",
    "id": "sc0tPyWboRcq"
   },
   "source": [
    "**Selected Features and Preprocessing Steps**"
   ]
  },
  {
   "cell_type": "markdown",
   "metadata": {
    "colab_type": "text",
    "id": "8fyQYSADoUkG"
   },
   "source": [
    "1. **Store:** a unique Id for each store\n",
    "2. **StoreType_a:**Storetype differentiates between 4 different store models: a, b, c, d. Storetype a is one of the storetypes\n",
    "3. **CompetitionDistance:** distance in meters to the nearest competitor store\n",
    "4. **CompetitionOpenSince:** gives the approximate year and month of the time the nearest competitor was opened\n",
    "5. **Promo2SinceYear:** describes the year and  when the store started participating in Promo2\n",
    "6. **Open:** an indicator for whether the store was open: 0 = closed, 1 = open.\n",
    "7.**Promo:** indicates whether a store is running a promo on that day\n",
    "8. **DayOfWeek:** indicates the day of the week\n",
    "9. **Week:** it shows the week of the year it was"
   ]
  },
  {
   "cell_type": "markdown",
   "metadata": {
    "colab_type": "text",
    "id": "YvUZlYnDqQaj"
   },
   "source": [
    "Apart from these 9 columns, we will drop the rest of the columns since we will not use them to train the model."
   ]
  },
  {
   "cell_type": "markdown",
   "metadata": {
    "colab_type": "text",
    "id": "QbKQhh_OqYua"
   },
   "source": [
    "#**PIPELINE DESIGN**"
   ]
  },
  {
   "cell_type": "markdown",
   "metadata": {
    "colab_type": "text",
    "id": "bhaldDrXqezQ"
   },
   "source": [
    "We wil define our pipeline into three stages:\n",
    "\n",
    "* Perform required data preprocessing and transformations\n",
    "* Data scaling\n",
    "* Build a model to predict the sales"
   ]
  },
  {
   "cell_type": "markdown",
   "metadata": {
    "colab_type": "text",
    "id": "CoMMFAcIzk0_"
   },
   "source": [
    "First of all, we will read the data set and separate the independent and target variable from the training dataset."
   ]
  },
  {
   "cell_type": "code",
   "execution_count": null,
   "metadata": {
    "colab": {},
    "colab_type": "code",
    "id": "TAm8kgCunxu_"
   },
   "outputs": [],
   "source": [
    "# importing required libraries\n",
    "import pandas as pd\n",
    "from sklearn.compose import ColumnTransformer \n",
    "from sklearn.impute import SimpleImputer\n",
    "import category_encoders as ce\n",
    "from sklearn.preprocessing import StandardScaler\n",
    "from sklearn.ensemble import RandomForestRegressor\n",
    "from sklearn.pipeline import Pipeline\n",
    "\n",
    "# read the training data set\n",
    "data = pd.read_csv(r'C:\\Users\\HP\\Desktop\\Projects\\Machine_Hotshots\\notebook\\data\\Output.csv')\n",
    "\n",
    "# top rows of the data\n",
    "data.head()\n",
    "test['Months']=test.Date.dt.month\n",
    "test['Year']=test.Date.dt.year\n",
    "test['week']=test.Date.dt.week\n",
    "test['weekday']=test.Date.dt.weekday\n",
    "\n",
    "# seperate the independent and target variables\n",
    "train_x = data.drop(columns=['Customers', 'Sales', 'SalesperCustomer'])\n",
    "#a rule of thumb is to transform my target value to log if i see the values are very dispersed which is the case\n",
    "#and then of course revert them with np.exp to their real values\n",
    "train_y = np.log(data.Sales)"
   ]
  },
  {
   "cell_type": "code",
   "execution_count": null,
   "metadata": {
    "colab": {},
    "colab_type": "code",
    "id": "A5J1_XEw3py9"
   },
   "outputs": [],
   "source": [
    "\n",
    "#standardadizing our data\n",
    "sc = StandardScaler()\n",
    "X_data_train = sc.fit_transform(X_data_train)\n",
    "X_data_test = sc.transform(X_data_test)\n",
    "def data_scale(dataframe):\n",
    "  sc=StandardScaler()\n",
    "  dataframe=sc.fit_transform(dataframe)"
   ]
  },
  {
   "cell_type": "markdown",
   "metadata": {
    "colab_type": "text",
    "id": "vo17-cE-33yf"
   },
   "source": [
    "This will be the second step in our machine learning pipeline. After this step, the data will be ready to be used by the model to make predictions.\n",
    "\n"
   ]
  },
  {
   "cell_type": "code",
   "execution_count": null,
   "metadata": {
    "colab": {},
    "colab_type": "code",
    "id": "d1IV58GP3zR7"
   },
   "outputs": [],
   "source": [
    "# pre-processsing step\n",
    "# Drop the columns - \n",
    "# Impute the missing values in column Item_Weight by mean\n",
    "# Scale the data in the column Item_MRP\n",
    "pre_process = ColumnTransformer(remainder='passthrough',\n",
    "                                transformers=[('impute_competitionDistance', SimpleImputer(strategy='median'), ['CompetitionDistance']),\n",
    "                                              ('impute_NullValues', SimpleImputer(strategy='0'), ['CompetitionOpenSinceMonth','CompetitionOpenSinceYear','Promo2SinceWeek','Promo2SinceYear','PromoInterval']),\n",
    "                                              ('drop_columns', 'drop', ['SchoolHoliday','CompetitionOpenSinceMonth','CompetitionOpenSinceYear', 'Promo2', 'Promo2SinceWeek', 'Months', 'Year',\n",
    "                                              'StateHoliday', 'Assortment','PromoInterval']),\n",
    "                                              ('scale_data', StandardScaler(),['Item_MRP'])])"
   ]
  },
  {
   "cell_type": "markdown",
   "metadata": {
    "colab_type": "text",
    "id": "mTunq3-w65UH"
   },
   "source": [
    "##Predict the target"
   ]
  },
  {
   "cell_type": "markdown",
   "metadata": {
    "colab_type": "text",
    "id": "8wOF5kTp7D_j"
   },
   "source": [
    "When we use the fit() function with a pipeline object, all three steps are executed. Post the model training process, we use the predict() function that uses the trained model to generate the predictions."
   ]
  },
  {
   "cell_type": "code",
   "execution_count": null,
   "metadata": {
    "colab": {},
    "colab_type": "code",
    "id": "rMmF24Va678i"
   },
   "outputs": [],
   "source": [
    "# Define the Pipeline\n",
    "\"\"\"\n",
    "Step1: Data Scaling\n",
    "Step2: pre processing\n",
    "Step3: Train a Random Forest Model\n",
    "\"\"\"\n",
    "model_pipeline = Pipeline(steps=[('Data scaling',data_scale()), \n",
    "                                 ('pre_processing',pre_process),\n",
    "                                 ('random_forest', RandomForestRegressor(max_depth=10,random_state=2))\n",
    "                                 ])\n",
    "# fit the pipeline with the training data\n",
    "model_pipeline.fit(train_x,train_y)\n",
    "\n",
    "# predict target values on the training data\n",
    "model_pipeline.predict(train_x)"
   ]
  },
  {
   "cell_type": "markdown",
   "metadata": {
    "colab_type": "text",
    "id": "NXPDt8Mc8PwM"
   },
   "source": [
    "Now, we will read the test data set and we call predict function only on the pipeline object to make predictions on the test data."
   ]
  },
  {
   "cell_type": "code",
   "execution_count": null,
   "metadata": {
    "colab": {},
    "colab_type": "code",
    "id": "4Y57yN438Qjj"
   },
   "outputs": [],
   "source": [
    "# read the test data\n",
    "test_data = pd.read_csv('/content/drive/My Drive/test.csv')\n",
    "\n",
    "# predict target variables on the test data \n",
    "model_pipeline.predict(test_data)"
   ]
  }
 ],
 "metadata": {
  "colab": {
   "name": "Sales_prediction_rofiah.ipynb",
   "provenance": []
  },
  "kernelspec": {
   "display_name": "Python 3",
   "language": "python",
   "name": "python3"
  },
  "language_info": {
   "codemirror_mode": {
    "name": "ipython",
    "version": 3
   },
   "file_extension": ".py",
   "mimetype": "text/x-python",
   "name": "python",
   "nbconvert_exporter": "python",
   "pygments_lexer": "ipython3",
   "version": "3.7.3"
  }
 },
 "nbformat": 4,
 "nbformat_minor": 1
}
